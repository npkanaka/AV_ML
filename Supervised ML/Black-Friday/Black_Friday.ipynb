{
 "cells": [
  {
   "cell_type": "code",
   "execution_count": 4,
   "metadata": {},
   "outputs": [],
   "source": [
    "import pandas as pd\n",
    "import numpy as np\n",
    "\n",
    "import matplotlib.pyplot as plt\n",
    "import seaborn as sns"
   ]
  },
  {
   "cell_type": "code",
   "execution_count": 5,
   "metadata": {},
   "outputs": [
    {
     "data": {
      "text/plain": [
       "550068"
      ]
     },
     "execution_count": 5,
     "metadata": {},
     "output_type": "execute_result"
    }
   ],
   "source": [
    "df = pd.read_csv(\"train.csv\")\n",
    "len(df)"
   ]
  },
  {
   "cell_type": "code",
   "execution_count": 6,
   "metadata": {},
   "outputs": [
    {
     "name": "stdout",
     "output_type": "stream",
     "text": [
      "<class 'pandas.core.frame.DataFrame'>\n",
      "RangeIndex: 550068 entries, 0 to 550067\n",
      "Data columns (total 12 columns):\n",
      "User_ID                       550068 non-null int64\n",
      "Product_ID                    550068 non-null object\n",
      "Gender                        550068 non-null object\n",
      "Age                           550068 non-null object\n",
      "Occupation                    550068 non-null int64\n",
      "City_Category                 550068 non-null object\n",
      "Stay_In_Current_City_Years    550068 non-null object\n",
      "Marital_Status                550068 non-null int64\n",
      "Product_Category_1            550068 non-null int64\n",
      "Product_Category_2            376430 non-null float64\n",
      "Product_Category_3            166821 non-null float64\n",
      "Purchase                      550068 non-null int64\n",
      "dtypes: float64(2), int64(5), object(5)\n",
      "memory usage: 50.4+ MB\n"
     ]
    }
   ],
   "source": [
    "df.info()"
   ]
  },
  {
   "cell_type": "code",
   "execution_count": 7,
   "metadata": {},
   "outputs": [
    {
     "data": {
      "text/plain": [
       "0                        User_ID\n",
       "1                     Product_ID\n",
       "2                         Gender\n",
       "3                            Age\n",
       "4                     Occupation\n",
       "5                  City_Category\n",
       "6     Stay_In_Current_City_Years\n",
       "7                 Marital_Status\n",
       "8             Product_Category_1\n",
       "9             Product_Category_2\n",
       "10            Product_Category_3\n",
       "11                      Purchase\n",
       "dtype: object"
      ]
     },
     "execution_count": 7,
     "metadata": {},
     "output_type": "execute_result"
    }
   ],
   "source": [
    "pd.Series(df.columns)"
   ]
  },
  {
   "cell_type": "code",
   "execution_count": 8,
   "metadata": {},
   "outputs": [],
   "source": [
    "df = df.drop(['Product_ID','User_ID'],axis=1)"
   ]
  },
  {
   "cell_type": "code",
   "execution_count": 9,
   "metadata": {},
   "outputs": [],
   "source": [
    "# Gender"
   ]
  },
  {
   "cell_type": "code",
   "execution_count": 10,
   "metadata": {},
   "outputs": [
    {
     "data": {
      "text/plain": [
       "M    414259\n",
       "F    135809\n",
       "Name: Gender, dtype: int64"
      ]
     },
     "execution_count": 10,
     "metadata": {},
     "output_type": "execute_result"
    }
   ],
   "source": [
    "df['Gender'].value_counts()"
   ]
  },
  {
   "cell_type": "code",
   "execution_count": 11,
   "metadata": {},
   "outputs": [
    {
     "data": {
      "text/plain": [
       "<matplotlib.axes._subplots.AxesSubplot at 0x2ad4865a780>"
      ]
     },
     "execution_count": 11,
     "metadata": {},
     "output_type": "execute_result"
    },
    {
     "data": {
      "image/png": "[encoded data removed]",
      "text/plain": [
       "<Figure size 432x288 with 1 Axes>"
      ]
     },
     "metadata": {
      "needs_background": "light"
     },
     "output_type": "display_data"
    }
   ],
   "source": [
    "sns.countplot(df['Gender'])"
   ]
  },
  {
   "cell_type": "code",
   "execution_count": 12,
   "metadata": {},
   "outputs": [],
   "source": [
    "df = pd.get_dummies(df, columns=['Gender'], drop_first=True)"
   ]
  },
  {
   "cell_type": "code",
   "execution_count": 13,
   "metadata": {},
   "outputs": [],
   "source": [
    "# Age"
   ]
  },
  {
   "cell_type": "code",
   "execution_count": 14,
   "metadata": {
    "scrolled": true
   },
   "outputs": [
    {
     "data": {
      "text/plain": [
       "{'0-17': 1,\n",
       " '18-25': 2,\n",
       " '26-35': 3,\n",
       " '36-45': 4,\n",
       " '46-50': 5,\n",
       " '51-55': 6,\n",
       " '55+': 7}"
      ]
     },
     "execution_count": 14,
     "metadata": {},
     "output_type": "execute_result"
    }
   ],
   "source": [
    "resetter = pd.DataFrame(df.Age.value_counts().sort_index()).drop('Age',axis=1)\n",
    "resetter.reset_index(level=0, inplace=True)\n",
    "resetter.index += 1\n",
    "resetter.reset_index(level=0, inplace=True)\n",
    "resetter = resetter.set_index('index')\n",
    "resetter = resetter.to_dict().get('level_0')\n",
    "resetter"
   ]
  },
  {
   "cell_type": "code",
   "execution_count": 15,
   "metadata": {},
   "outputs": [
    {
     "data": {
      "text/plain": [
       "3    219587\n",
       "4    110013\n",
       "2     99660\n",
       "5     45701\n",
       "6     38501\n",
       "7     21504\n",
       "1     15102\n",
       "Name: Age, dtype: int64"
      ]
     },
     "execution_count": 15,
     "metadata": {},
     "output_type": "execute_result"
    }
   ],
   "source": [
    "df['Age'] = df['Age'].map(resetter)\n",
    "df['Age'].value_counts()"
   ]
  },
  {
   "cell_type": "code",
   "execution_count": 16,
   "metadata": {},
   "outputs": [],
   "source": [
    "# City Category"
   ]
  },
  {
   "cell_type": "code",
   "execution_count": 17,
   "metadata": {},
   "outputs": [
    {
     "data": {
      "text/plain": [
       "B    231173\n",
       "C    171175\n",
       "A    147720\n",
       "Name: City_Category, dtype: int64"
      ]
     },
     "execution_count": 17,
     "metadata": {},
     "output_type": "execute_result"
    }
   ],
   "source": [
    "df.City_Category.value_counts()"
   ]
  },
  {
   "cell_type": "code",
   "execution_count": 18,
   "metadata": {},
   "outputs": [],
   "source": [
    "df = pd.get_dummies(df, columns=['City_Category'], drop_first=True)"
   ]
  },
  {
   "cell_type": "code",
   "execution_count": 19,
   "metadata": {},
   "outputs": [],
   "source": [
    "# Stay in current city"
   ]
  },
  {
   "cell_type": "code",
   "execution_count": 20,
   "metadata": {},
   "outputs": [
    {
     "data": {
      "text/plain": [
       "1     193821\n",
       "2     101838\n",
       "3      95285\n",
       "4+     84726\n",
       "0      74398\n",
       "Name: Stay_In_Current_City_Years, dtype: int64"
      ]
     },
     "execution_count": 20,
     "metadata": {},
     "output_type": "execute_result"
    }
   ],
   "source": [
    "df.Stay_In_Current_City_Years.value_counts()"
   ]
  },
  {
   "cell_type": "code",
   "execution_count": 21,
   "metadata": {},
   "outputs": [],
   "source": [
    "df.loc[df['Stay_In_Current_City_Years'] == '4+',\"Stay_In_Current_City_Years\"] = 4"
   ]
  },
  {
   "cell_type": "code",
   "execution_count": 22,
   "metadata": {},
   "outputs": [],
   "source": [
    "df.Stay_In_Current_City_Years = df.Stay_In_Current_City_Years.astype(int)"
   ]
  },
  {
   "cell_type": "code",
   "execution_count": 23,
   "metadata": {},
   "outputs": [],
   "source": [
    "# Marital_Status"
   ]
  },
  {
   "cell_type": "code",
   "execution_count": 24,
   "metadata": {},
   "outputs": [
    {
     "data": {
      "text/plain": [
       "<matplotlib.axes._subplots.AxesSubplot at 0x2ad48584908>"
      ]
     },
     "execution_count": 24,
     "metadata": {},
     "output_type": "execute_result"
    },
    {
     "data": {
      "image/png": "[encoded data removed]",
      "text/plain": [
       "<Figure size 432x288 with 1 Axes>"
      ]
     },
     "metadata": {
      "needs_background": "light"
     },
     "output_type": "display_data"
    }
   ],
   "source": [
    "sns.countplot(df.Marital_Status)"
   ]
  },
  {
   "cell_type": "code",
   "execution_count": 25,
   "metadata": {},
   "outputs": [],
   "source": [
    "# City_Category"
   ]
  },
  {
   "cell_type": "code",
   "execution_count": 26,
   "metadata": {},
   "outputs": [
    {
     "data": {
      "text/plain": [
       "<matplotlib.axes._subplots.AxesSubplot at 0x2ad485846a0>"
      ]
     },
     "execution_count": 26,
     "metadata": {},
     "output_type": "execute_result"
    },
    {
     "data": {
      "image/png": "[encoded data removed]",
      "text/plain": [
       "<Figure size 432x288 with 1 Axes>"
      ]
     },
     "metadata": {
      "needs_background": "light"
     },
     "output_type": "display_data"
    }
   ],
   "source": [
    "sns.countplot(df.City_Category_B)"
   ]
  },
  {
   "cell_type": "code",
   "execution_count": 27,
   "metadata": {},
   "outputs": [],
   "source": [
    "# Product Category"
   ]
  },
  {
   "cell_type": "code",
   "execution_count": 28,
   "metadata": {},
   "outputs": [],
   "source": [
    "df.Product_Category_1 = df.Product_Category_1.astype(float)"
   ]
  },
  {
   "cell_type": "code",
   "execution_count": 29,
   "metadata": {},
   "outputs": [],
   "source": [
    "from collections import Counter"
   ]
  },
  {
   "cell_type": "code",
   "execution_count": 30,
   "metadata": {},
   "outputs": [
    {
     "data": {
      "text/plain": [
       "([(5.0, 193826),\n",
       "  (8.0, 190575),\n",
       "  (1.0, 140378),\n",
       "  (16.0, 85719),\n",
       "  (14.0, 75059),\n",
       "  (2.0, 73081),\n",
       "  (15.0, 72158),\n",
       "  (6.0, 41822),\n",
       "  (11.0, 40226),\n",
       "  (4.0, 39305),\n",
       "  (17.0, 30600),\n",
       "  (3.0, 23710),\n",
       "  (13.0, 21539),\n",
       "  (12.0, 18721),\n",
       "  (9.0, 17682),\n",
       "  (18.0, 10524),\n",
       "  (10.0, 9894),\n",
       "  (7.0, 4347),\n",
       "  (20.0, 2550),\n",
       "  (19.0, 1603)],\n",
       " 20)"
      ]
     },
     "execution_count": 30,
     "metadata": {},
     "output_type": "execute_result"
    }
   ],
   "source": [
    "all_c = dict(Counter(df.Product_Category_3.value_counts().sort_index().to_dict()) + Counter(df.Product_Category_2.value_counts().sort_index().to_dict()) + Counter(df.Product_Category_1.value_counts().sort_index().to_dict()))\n",
    "all_c = sorted(all_c.items(), key=lambda x: x[1], reverse=True)\n",
    "\n",
    "all_c,len(all_c)"
   ]
  },
  {
   "cell_type": "code",
   "execution_count": 31,
   "metadata": {},
   "outputs": [],
   "source": [
    "list_of_cat = []\n",
    "rest_of_cat = []\n",
    "def prod_cat_label(limit):\n",
    "    ca_c = 0\n",
    "    for i in range(len(all_c)):\n",
    "        if(i<limit):\n",
    "            ca_c = ca_c + all_c[i][1]\n",
    "            list_of_cat.append(all_c[i][0])\n",
    "        else:\n",
    "            rest_of_cat.append(all_c[i][0])\n",
    "    for i in list_of_cat:\n",
    "        df['prod_cat_'+str(i)] = (df['Product_Category_1']==i) | (df['Product_Category_2']==i) | (df['Product_Category_3']==i)\n",
    "        df['prod_cat_'+str(i)] = df['prod_cat_'+str(i)].astype(int)\n",
    "    df['rest_cat'] = 0    \n",
    "    for i in rest_of_cat:\n",
    "        df['rest_cat'] = (df['rest_cat']) | (df['Product_Category_1']==i) | (df['Product_Category_2']==i) | (df['Product_Category_3']==i)\n",
    "    df['rest_cat'] = df['rest_cat'].astype(int)    \n",
    "    return ca_c"
   ]
  },
  {
   "cell_type": "code",
   "execution_count": 32,
   "metadata": {},
   "outputs": [
    {
     "name": "stdout",
     "output_type": "stream",
     "text": [
      "[] [5.0, 8.0, 1.0, 16.0, 14.0, 2.0, 15.0, 6.0, 11.0, 4.0, 17.0, 3.0, 13.0, 12.0, 9.0, 18.0, 10.0, 7.0, 20.0, 19.0]\n"
     ]
    },
    {
     "data": {
      "text/plain": [
       "(1093319, 0, 1093319)"
      ]
     },
     "execution_count": 32,
     "metadata": {},
     "output_type": "execute_result"
    }
   ],
   "source": [
    "total_c = 0\n",
    "for i in range(len(all_c)):\n",
    "    total_c += all_c[i][1]\n",
    "\n",
    "ca_c = prod_cat_label(0)                                    # Product category feature encoding limit\n",
    "print(list_of_cat,rest_of_cat)\n",
    "total_c,ca_c,total_c-ca_c"
   ]
  },
  {
   "cell_type": "code",
   "execution_count": 33,
   "metadata": {},
   "outputs": [],
   "source": [
    "df = df.drop(['Product_Category_1','Product_Category_2','Product_Category_3'],axis=1)\n",
    "df.rest_cat.value_counts()\n",
    "df = df.drop('rest_cat',axis=1) # Comment if not zero"
   ]
  },
  {
   "cell_type": "code",
   "execution_count": 34,
   "metadata": {},
   "outputs": [],
   "source": [
    "# Occupation"
   ]
  },
  {
   "cell_type": "code",
   "execution_count": 35,
   "metadata": {},
   "outputs": [
    {
     "data": {
      "text/plain": [
       "([(8, 1546),\n",
       "  (9, 6291),\n",
       "  (18, 6622),\n",
       "  (13, 7728),\n",
       "  (19, 8461),\n",
       "  (11, 11586),\n",
       "  (15, 12165),\n",
       "  (5, 12177),\n",
       "  (10, 12930),\n",
       "  (3, 17650),\n",
       "  (6, 20355),\n",
       "  (16, 25371),\n",
       "  (2, 26588),\n",
       "  (14, 27309),\n",
       "  (12, 31179),\n",
       "  (20, 33562),\n",
       "  (17, 40043),\n",
       "  (1, 47426),\n",
       "  (7, 59133),\n",
       "  (0, 69638),\n",
       "  (4, 72308)],\n",
       " 21)"
      ]
     },
     "execution_count": 35,
     "metadata": {},
     "output_type": "execute_result"
    }
   ],
   "source": [
    "all_o = dict(df.Occupation.value_counts().sort_values(ascending = True))\n",
    "all_o = [(k, v) for k, v in all_o.items()]\n",
    "all_o,len(all_o)"
   ]
  },
  {
   "cell_type": "code",
   "execution_count": 36,
   "metadata": {},
   "outputs": [],
   "source": [
    "total_o = 0\n",
    "rm_o = 0\n",
    "for i in range(len(all_o)):\n",
    "    total_o += all_o[i][1]"
   ]
  },
  {
   "cell_type": "code",
   "execution_count": 37,
   "metadata": {},
   "outputs": [
    {
     "data": {
      "text/plain": [
       "(550068, 549858, 210)"
      ]
     },
     "execution_count": 37,
     "metadata": {},
     "output_type": "execute_result"
    }
   ],
   "source": [
    "df = pd.get_dummies(df, columns=['Occupation'])\n",
    "def pro_o_label(limit,df):\n",
    "    rm_o = 0\n",
    "    limit = len(all_o) - limit\n",
    "    for i in range(limit):\n",
    "        rm_o = rm_o + all_o[i][0]\n",
    "        df = df.drop(['Occupation_'+str(all_o[i][0])],axis=1)\n",
    "    return df,rm_o \n",
    "df,rm_o = pro_o_label(0,df)                                              # Occupation category feature encoding limit\n",
    "total_o,total_o-rm_o,rm_o\n"
   ]
  },
  {
   "cell_type": "code",
   "execution_count": 38,
   "metadata": {},
   "outputs": [],
   "source": [
    "# EDA 2.0"
   ]
  },
  {
   "cell_type": "code",
   "execution_count": 39,
   "metadata": {},
   "outputs": [
    {
     "data": {
      "text/html": [
       "<div>\n",
       "<style scoped>\n",
       "    .dataframe tbody tr th:only-of-type {\n",
       "        vertical-align: middle;\n",
       "    }\n",
       "\n",
       "    .dataframe tbody tr th {\n",
       "        vertical-align: top;\n",
       "    }\n",
       "\n",
       "    .dataframe thead th {\n",
       "        text-align: right;\n",
       "    }\n",
       "</style>\n",
       "<table border=\"1\" class=\"dataframe\">\n",
       "  <thead>\n",
       "    <tr style=\"text-align: right;\">\n",
       "      <th></th>\n",
       "      <th>Age</th>\n",
       "      <th>Stay_In_Current_City_Years</th>\n",
       "      <th>Marital_Status</th>\n",
       "      <th>Purchase</th>\n",
       "      <th>Gender_M</th>\n",
       "      <th>City_Category_B</th>\n",
       "      <th>City_Category_C</th>\n",
       "    </tr>\n",
       "  </thead>\n",
       "  <tbody>\n",
       "    <tr>\n",
       "      <td>count</td>\n",
       "      <td>550068.000000</td>\n",
       "      <td>550068.000000</td>\n",
       "      <td>550068.000000</td>\n",
       "      <td>550068.000000</td>\n",
       "      <td>550068.000000</td>\n",
       "      <td>550068.000000</td>\n",
       "      <td>550068.000000</td>\n",
       "    </tr>\n",
       "    <tr>\n",
       "      <td>mean</td>\n",
       "      <td>3.496430</td>\n",
       "      <td>1.858418</td>\n",
       "      <td>0.409653</td>\n",
       "      <td>9263.968713</td>\n",
       "      <td>0.753105</td>\n",
       "      <td>0.420263</td>\n",
       "      <td>0.311189</td>\n",
       "    </tr>\n",
       "    <tr>\n",
       "      <td>std</td>\n",
       "      <td>1.353632</td>\n",
       "      <td>1.289443</td>\n",
       "      <td>0.491770</td>\n",
       "      <td>5023.065394</td>\n",
       "      <td>0.431205</td>\n",
       "      <td>0.493601</td>\n",
       "      <td>0.462980</td>\n",
       "    </tr>\n",
       "    <tr>\n",
       "      <td>min</td>\n",
       "      <td>1.000000</td>\n",
       "      <td>0.000000</td>\n",
       "      <td>0.000000</td>\n",
       "      <td>12.000000</td>\n",
       "      <td>0.000000</td>\n",
       "      <td>0.000000</td>\n",
       "      <td>0.000000</td>\n",
       "    </tr>\n",
       "    <tr>\n",
       "      <td>25%</td>\n",
       "      <td>3.000000</td>\n",
       "      <td>1.000000</td>\n",
       "      <td>0.000000</td>\n",
       "      <td>5823.000000</td>\n",
       "      <td>1.000000</td>\n",
       "      <td>0.000000</td>\n",
       "      <td>0.000000</td>\n",
       "    </tr>\n",
       "    <tr>\n",
       "      <td>50%</td>\n",
       "      <td>3.000000</td>\n",
       "      <td>2.000000</td>\n",
       "      <td>0.000000</td>\n",
       "      <td>8047.000000</td>\n",
       "      <td>1.000000</td>\n",
       "      <td>0.000000</td>\n",
       "      <td>0.000000</td>\n",
       "    </tr>\n",
       "    <tr>\n",
       "      <td>75%</td>\n",
       "      <td>4.000000</td>\n",
       "      <td>3.000000</td>\n",
       "      <td>1.000000</td>\n",
       "      <td>12054.000000</td>\n",
       "      <td>1.000000</td>\n",
       "      <td>1.000000</td>\n",
       "      <td>1.000000</td>\n",
       "    </tr>\n",
       "    <tr>\n",
       "      <td>max</td>\n",
       "      <td>7.000000</td>\n",
       "      <td>4.000000</td>\n",
       "      <td>1.000000</td>\n",
       "      <td>23961.000000</td>\n",
       "      <td>1.000000</td>\n",
       "      <td>1.000000</td>\n",
       "      <td>1.000000</td>\n",
       "    </tr>\n",
       "  </tbody>\n",
       "</table>\n",
       "</div>"
      ],
      "text/plain": [
       "                 Age  Stay_In_Current_City_Years  Marital_Status  \\\n",
       "count  550068.000000               550068.000000   550068.000000   \n",
       "mean        3.496430                    1.858418        0.409653   \n",
       "std         1.353632                    1.289443        0.491770   \n",
       "min         1.000000                    0.000000        0.000000   \n",
       "25%         3.000000                    1.000000        0.000000   \n",
       "50%         3.000000                    2.000000        0.000000   \n",
       "75%         4.000000                    3.000000        1.000000   \n",
       "max         7.000000                    4.000000        1.000000   \n",
       "\n",
       "            Purchase       Gender_M  City_Category_B  City_Category_C  \n",
       "count  550068.000000  550068.000000    550068.000000    550068.000000  \n",
       "mean     9263.968713       0.753105         0.420263         0.311189  \n",
       "std      5023.065394       0.431205         0.493601         0.462980  \n",
       "min        12.000000       0.000000         0.000000         0.000000  \n",
       "25%      5823.000000       1.000000         0.000000         0.000000  \n",
       "50%      8047.000000       1.000000         0.000000         0.000000  \n",
       "75%     12054.000000       1.000000         1.000000         1.000000  \n",
       "max     23961.000000       1.000000         1.000000         1.000000  "
      ]
     },
     "execution_count": 39,
     "metadata": {},
     "output_type": "execute_result"
    }
   ],
   "source": [
    "df.describe()"
   ]
  },
  {
   "cell_type": "code",
   "execution_count": 40,
   "metadata": {},
   "outputs": [
    {
     "data": {
      "text/plain": [
       "City_Category_B              -0.019098\n",
       "Marital_Status               -0.000463\n",
       "Stay_In_Current_City_Years    0.005422\n",
       "Age                           0.015839\n",
       "Gender_M                      0.060346\n",
       "City_Category_C               0.061012\n",
       "Name: Purchase, dtype: float64"
      ]
     },
     "execution_count": 40,
     "metadata": {},
     "output_type": "execute_result"
    }
   ],
   "source": [
    "df.corr()['Purchase'].sort_values()[:-1]"
   ]
  },
  {
   "cell_type": "code",
   "execution_count": 41,
   "metadata": {},
   "outputs": [],
   "source": [
    "# Split"
   ]
  },
  {
   "cell_type": "code",
   "execution_count": 42,
   "metadata": {},
   "outputs": [],
   "source": [
    "X = df.drop('Purchase',axis=1).values\n",
    "y = df['Purchase'].values"
   ]
  },
  {
   "cell_type": "code",
   "execution_count": 43,
   "metadata": {},
   "outputs": [],
   "source": [
    "from sklearn.model_selection import train_test_split"
   ]
  },
  {
   "cell_type": "code",
   "execution_count": 44,
   "metadata": {},
   "outputs": [],
   "source": [
    "X_train, X_test, y_train, y_test = train_test_split(X,y,test_size=0.2)"
   ]
  },
  {
   "cell_type": "code",
   "execution_count": 45,
   "metadata": {},
   "outputs": [],
   "source": [
    "## Scaler"
   ]
  },
  {
   "cell_type": "code",
   "execution_count": 46,
   "metadata": {},
   "outputs": [],
   "source": [
    "from sklearn.preprocessing import MinMaxScaler"
   ]
  },
  {
   "cell_type": "code",
   "execution_count": 47,
   "metadata": {},
   "outputs": [],
   "source": [
    "scaler = MinMaxScaler()"
   ]
  },
  {
   "cell_type": "code",
   "execution_count": 48,
   "metadata": {},
   "outputs": [],
   "source": [
    "X_train = scaler.fit_transform(X_train)\n",
    "X_test = scaler.transform(X_test)"
   ]
  },
  {
   "cell_type": "code",
   "execution_count": 49,
   "metadata": {},
   "outputs": [
    {
     "data": {
      "text/plain": [
       "((440054, 6), (110014, 6))"
      ]
     },
     "execution_count": 49,
     "metadata": {},
     "output_type": "execute_result"
    }
   ],
   "source": [
    "X_train.shape,X_test.shape"
   ]
  },
  {
   "cell_type": "code",
   "execution_count": 50,
   "metadata": {},
   "outputs": [],
   "source": [
    "# Model building"
   ]
  },
  {
   "cell_type": "code",
   "execution_count": 51,
   "metadata": {},
   "outputs": [
    {
     "data": {
      "text/plain": [
       "((550068, 6), (550068,))"
      ]
     },
     "execution_count": 51,
     "metadata": {},
     "output_type": "execute_result"
    }
   ],
   "source": [
    "from tensorflow.keras.models import Sequential\n",
    "from tensorflow.keras.layers import Dense\n",
    "from tensorflow.keras.optimizers import Adam\n",
    "from tensorflow.keras.layers import Dropout\n",
    "X.shape,y.shape"
   ]
  },
  {
   "cell_type": "code",
   "execution_count": 52,
   "metadata": {},
   "outputs": [
    {
     "name": "stdout",
     "output_type": "stream",
     "text": [
      "WARNING:tensorflow:From C:\\Users\\nikhi\\Anaconda3\\lib\\site-packages\\tensorflow\\python\\ops\\init_ops.py:1251: calling VarianceScaling.__init__ (from tensorflow.python.ops.init_ops) with dtype is deprecated and will be removed in a future version.\n",
      "Instructions for updating:\n",
      "Call initializer instance with the dtype argument instead of passing it to the constructor\n"
     ]
    }
   ],
   "source": [
    "model = Sequential()\n",
    "\n",
    "model.add(Dense(6,activation=\"relu\"))\n",
    "model.add(Dropout(0.5))\n",
    "model.add(Dense(6,activation=\"relu\"))\n",
    "model.add(Dropout(0.5))\n",
    "model.add(Dense(6,activation=\"relu\"))\n",
    "model.add(Dropout(0.5))\n",
    "model.add(Dense(6,activation=\"relu\"))\n",
    "model.add(Dropout(0.5))\n",
    "\n",
    "model.add(Dense(1))\n",
    "\n",
    "model.compile(loss='mse', optimizer='adam')"
   ]
  },
  {
   "cell_type": "code",
   "execution_count": 53,
   "metadata": {},
   "outputs": [],
   "source": [
    "# Training"
   ]
  },
  {
   "cell_type": "code",
   "execution_count": 54,
   "metadata": {},
   "outputs": [],
   "source": [
    "from tensorflow.keras.callbacks import EarlyStopping\n",
    "early_stop = EarlyStopping(monitor='val_loss', mode='min', verbose=1, patience=20)"
   ]
  },
  {
   "cell_type": "code",
   "execution_count": 55,
   "metadata": {
    "scrolled": true
   },
   "outputs": [
    {
     "name": "stdout",
     "output_type": "stream",
     "text": [
      "Train on 440054 samples, validate on 110014 samples\n",
      "Epoch 1/300\n",
      "440054/440054 [==============================] - 10s 23us/sample - loss: 74490162.3080 - val_loss: 46373562.0386\n",
      "Epoch 2/300\n",
      "440054/440054 [==============================] - 10s 22us/sample - loss: 63497438.5165 - val_loss: 40069043.5662\n",
      "Epoch 3/300\n",
      "440054/440054 [==============================] - 9s 21us/sample - loss: 58143626.9240 - val_loss: 37989007.2751\n",
      "Epoch 4/300\n",
      "440054/440054 [==============================] - 11s 25us/sample - loss: 55153927.3258 - val_loss: 35667787.7312\n",
      "Epoch 5/300\n",
      "440054/440054 [==============================] - 10s 22us/sample - loss: 52003934.0909 - val_loss: 33670610.5828\n",
      "Epoch 6/300\n",
      "440054/440054 [==============================] - 9s 21us/sample - loss: 50228888.1895 - val_loss: 32700487.5781\n",
      "Epoch 7/300\n",
      "440054/440054 [==============================] - 10s 22us/sample - loss: 49562028.1887 - val_loss: 32488053.3626\n",
      "Epoch 8/300\n",
      "440054/440054 [==============================] - 10s 22us/sample - loss: 49293203.4435 - val_loss: 32426068.8707\n",
      "Epoch 9/300\n",
      "440054/440054 [==============================] - 10s 23us/sample - loss: 49059222.4343 - val_loss: 31958190.9955\n",
      "Epoch 10/300\n",
      "440054/440054 [==============================] - 10s 22us/sample - loss: 48441093.5917 - val_loss: 31988034.7270\n",
      "Epoch 11/300\n",
      "440054/440054 [==============================] - 9s 21us/sample - loss: 48158502.9138 - val_loss: 31765088.7036\n",
      "Epoch 12/300\n",
      "440054/440054 [==============================] - 9s 21us/sample - loss: 47400395.5930 - val_loss: 31905801.9893\n",
      "Epoch 13/300\n",
      "440054/440054 [==============================] - 10s 22us/sample - loss: 46903316.0019 - val_loss: 31292031.4916\n",
      "Epoch 14/300\n",
      "440054/440054 [==============================] - 10s 23us/sample - loss: 46044829.1405 - val_loss: 31397461.3758\n",
      "Epoch 15/300\n",
      "440054/440054 [==============================] - 10s 22us/sample - loss: 45223971.2866 - val_loss: 31008037.3931\n",
      "Epoch 16/300\n",
      "440054/440054 [==============================] - 10s 22us/sample - loss: 44521249.7611 - val_loss: 30435764.5967\n",
      "Epoch 17/300\n",
      "440054/440054 [==============================] - 9s 21us/sample - loss: 43480067.8922 - val_loss: 30075055.6198\n",
      "Epoch 18/300\n",
      "440054/440054 [==============================] - 10s 23us/sample - loss: 42608321.2325 - val_loss: 29931574.2772\n",
      "Epoch 19/300\n",
      "440054/440054 [==============================] - 10s 22us/sample - loss: 41709085.2527 - val_loss: 29279364.4198\n",
      "Epoch 20/300\n",
      "440054/440054 [==============================] - 10s 22us/sample - loss: 41028111.3387 - val_loss: 29017998.3443\n",
      "Epoch 21/300\n",
      "440054/440054 [==============================] - 10s 23us/sample - loss: 40382424.2588 - val_loss: 28664750.3072\n",
      "Epoch 22/300\n",
      "440054/440054 [==============================] - 10s 23us/sample - loss: 39923576.8526 - val_loss: 28434356.2970\n",
      "Epoch 23/300\n",
      "440054/440054 [==============================] - 10s 22us/sample - loss: 39679077.9080 - val_loss: 28365352.3429\n",
      "Epoch 24/300\n",
      "440054/440054 [==============================] - 9s 21us/sample - loss: 39453868.3041 - val_loss: 28031018.7135\n",
      "Epoch 25/300\n",
      "440054/440054 [==============================] - 10s 23us/sample - loss: 39348211.7975 - val_loss: 28021655.2000\n",
      "Epoch 26/300\n",
      "440054/440054 [==============================] - 10s 22us/sample - loss: 39246232.5200 - val_loss: 27671413.4413\n",
      "Epoch 27/300\n",
      "440054/440054 [==============================] - 10s 22us/sample - loss: 39247628.4421 - val_loss: 27796843.3242\n",
      "Epoch 28/300\n",
      "440054/440054 [==============================] - 9s 21us/sample - loss: 39220011.7688 - val_loss: 27563922.9015\n",
      "Epoch 29/300\n",
      "440054/440054 [==============================] - 10s 22us/sample - loss: 39244190.1614 - val_loss: 27601896.6293\n",
      "Epoch 30/300\n",
      "440054/440054 [==============================] - 9s 21us/sample - loss: 39217514.4265 - val_loss: 27671840.8987\n",
      "Epoch 31/300\n",
      "440054/440054 [==============================] - 10s 22us/sample - loss: 39272602.4335 - val_loss: 27658343.5074\n",
      "Epoch 32/300\n",
      "440054/440054 [==============================] - 9s 20us/sample - loss: 39165407.0452 - val_loss: 27523561.7856\n",
      "Epoch 33/300\n",
      "440054/440054 [==============================] - 9s 21us/sample - loss: 39125239.8146 - val_loss: 27708866.8172\n",
      "Epoch 34/300\n",
      "440054/440054 [==============================] - 9s 21us/sample - loss: 39060831.7924 - val_loss: 27542882.6824\n",
      "Epoch 35/300\n",
      "440054/440054 [==============================] - 9s 22us/sample - loss: 38995757.8115 - val_loss: 27685190.2336\n",
      "Epoch 36/300\n",
      "440054/440054 [==============================] - 9s 21us/sample - loss: 39166076.4084 - val_loss: 27573073.3205\n",
      "Epoch 37/300\n",
      "440054/440054 [==============================] - 9s 21us/sample - loss: 39081182.1310 - val_loss: 27614985.1407\n",
      "Epoch 38/300\n",
      "440054/440054 [==============================] - 10s 22us/sample - loss: 39110854.7478 - val_loss: 27663584.3468\n",
      "Epoch 39/300\n",
      "440054/440054 [==============================] - 10s 22us/sample - loss: 39074937.6886 - val_loss: 27770994.6920\n",
      "Epoch 40/300\n",
      "440054/440054 [==============================] - 10s 23us/sample - loss: 38981131.0433 - val_loss: 27611272.1959\n",
      "Epoch 41/300\n",
      "440054/440054 [==============================] - 11s 25us/sample - loss: 39090687.0503 - val_loss: 27553663.8381\n",
      "Epoch 42/300\n",
      "440054/440054 [==============================] - 10s 23us/sample - loss: 38960009.4632 - val_loss: 27741950.8320\n",
      "Epoch 43/300\n",
      "440054/440054 [==============================] - 10s 22us/sample - loss: 39010751.8021 - val_loss: 27704937.2560\n",
      "Epoch 44/300\n",
      "440054/440054 [==============================] - 10s 23us/sample - loss: 38976055.9353 - val_loss: 27597626.4743\n",
      "Epoch 45/300\n",
      "440054/440054 [==============================] - 10s 22us/sample - loss: 39016081.2929 - val_loss: 27502968.4441\n",
      "Epoch 46/300\n",
      "440054/440054 [==============================] - 10s 23us/sample - loss: 38990273.8812 - val_loss: 27590171.8588\n",
      "Epoch 47/300\n",
      "440054/440054 [==============================] - 10s 23us/sample - loss: 39085399.4960 - val_loss: 27573842.5560\n",
      "Epoch 48/300\n",
      "440054/440054 [==============================] - 10s 22us/sample - loss: 38870794.7790 - val_loss: 27621064.3527\n",
      "Epoch 49/300\n",
      "440054/440054 [==============================] - 10s 23us/sample - loss: 38918853.0683 - val_loss: 27568558.7434\n",
      "Epoch 50/300\n",
      "440054/440054 [==============================] - 10s 23us/sample - loss: 39073586.8329 - val_loss: 27586755.9592\n",
      "Epoch 51/300\n",
      "440054/440054 [==============================] - 9s 21us/sample - loss: 38871610.2639 - val_loss: 27540436.3420\n",
      "Epoch 52/300\n",
      "440054/440054 [==============================] - 10s 23us/sample - loss: 38918941.1592 - val_loss: 27378930.9934\n",
      "Epoch 53/300\n",
      "440054/440054 [==============================] - 10s 22us/sample - loss: 38935025.7020 - val_loss: 27659082.9428\n",
      "Epoch 54/300\n",
      "440054/440054 [==============================] - 10s 22us/sample - loss: 38917460.6275 - val_loss: 27747879.8208\n",
      "Epoch 55/300\n",
      "440054/440054 [==============================] - 10s 23us/sample - loss: 38870432.3328 - val_loss: 27494501.6439\n",
      "Epoch 56/300\n",
      "440054/440054 [==============================] - 10s 23us/sample - loss: 39011109.3648 - val_loss: 27568886.0618\n",
      "Epoch 57/300\n",
      "440054/440054 [==============================] - 10s 22us/sample - loss: 38856624.0277 - val_loss: 27565083.0018\n",
      "Epoch 58/300\n",
      "440054/440054 [==============================] - 9s 21us/sample - loss: 38825481.9730 - val_loss: 27535939.6738\n",
      "Epoch 59/300\n",
      "440054/440054 [==============================] - 11s 24us/sample - loss: 38939363.4297 - val_loss: 27680399.3533\n",
      "Epoch 60/300\n",
      "440054/440054 [==============================] - 10s 23us/sample - loss: 38886311.7171 - val_loss: 27511508.6373\n",
      "Epoch 61/300\n",
      "440054/440054 [==============================] - 10s 22us/sample - loss: 38846256.1441 - val_loss: 27534571.1040\n",
      "Epoch 62/300\n",
      "440054/440054 [==============================] - 10s 22us/sample - loss: 38915006.1298 - val_loss: 27516150.5322\n",
      "Epoch 63/300\n",
      "440054/440054 [==============================] - 10s 22us/sample - loss: 38873827.8812 - val_loss: 27507972.9782\n",
      "Epoch 64/300\n",
      "440054/440054 [==============================] - 9s 22us/sample - loss: 38759964.8354 - val_loss: 27470629.2677\n",
      "Epoch 65/300\n",
      "440054/440054 [==============================] - 10s 23us/sample - loss: 38694901.6939 - val_loss: 27415803.4370\n"
     ]
    },
    {
     "name": "stdout",
     "output_type": "stream",
     "text": [
      "Epoch 66/300\n",
      "440054/440054 [==============================] - 10s 22us/sample - loss: 38822673.3845 - val_loss: 27493149.0214\n",
      "Epoch 67/300\n",
      "440054/440054 [==============================] - 10s 22us/sample - loss: 38820298.9079 - val_loss: 27638605.1132\n",
      "Epoch 68/300\n",
      "440054/440054 [==============================] - 10s 22us/sample - loss: 38852577.6556 - val_loss: 27583300.2590\n",
      "Epoch 69/300\n",
      "440054/440054 [==============================] - 10s 22us/sample - loss: 38770177.5687 - val_loss: 27603022.6097\n",
      "Epoch 70/300\n",
      "440054/440054 [==============================] - 10s 23us/sample - loss: 38741992.3028 - val_loss: 27453744.8103\n",
      "Epoch 71/300\n",
      "440054/440054 [==============================] - 10s 22us/sample - loss: 38749291.4985 - val_loss: 27497389.0406\n",
      "Epoch 72/300\n",
      "440054/440054 [==============================] - 10s 23us/sample - loss: 38688723.0940 - val_loss: 27532900.1819\n",
      "Epoch 00072: early stopping\n"
     ]
    },
    {
     "data": {
      "text/plain": [
       "<tensorflow.python.keras.callbacks.History at 0x2ad55d468d0>"
      ]
     },
     "execution_count": 55,
     "metadata": {},
     "output_type": "execute_result"
    }
   ],
   "source": [
    "model.fit(x=X_train,y=y_train,validation_data=(X_test,y_test),epochs=300,batch_size=128,verbose=1,callbacks=[early_stop])"
   ]
  },
  {
   "cell_type": "code",
   "execution_count": 56,
   "metadata": {},
   "outputs": [
    {
     "data": {
      "text/plain": [
       "<matplotlib.axes._subplots.AxesSubplot at 0x2ad56683da0>"
      ]
     },
     "execution_count": 56,
     "metadata": {},
     "output_type": "execute_result"
    },
    {
     "data": {
      "image/png": "[encoded data removed]",
      "text/plain": [
       "<Figure size 432x288 with 1 Axes>"
      ]
     },
     "metadata": {
      "needs_background": "light"
     },
     "output_type": "display_data"
    }
   ],
   "source": [
    "model_loss = pd.DataFrame(model.history.history)\n",
    "model_loss.plot()"
   ]
  },
  {
   "cell_type": "code",
   "execution_count": 57,
   "metadata": {},
   "outputs": [],
   "source": [
    "# Evaluation"
   ]
  },
  {
   "cell_type": "code",
   "execution_count": 58,
   "metadata": {},
   "outputs": [],
   "source": [
    "from sklearn.metrics import mean_squared_error,mean_absolute_error,explained_variance_score"
   ]
  },
  {
   "cell_type": "code",
   "execution_count": 59,
   "metadata": {},
   "outputs": [],
   "source": [
    "predictions = model.predict(X_test)"
   ]
  },
  {
   "cell_type": "code",
   "execution_count": 60,
   "metadata": {},
   "outputs": [
    {
     "data": {
      "text/plain": [
       "5247.180175222248"
      ]
     },
     "execution_count": 60,
     "metadata": {},
     "output_type": "execute_result"
    }
   ],
   "source": [
    "np.sqrt(mean_squared_error(y_test,predictions))"
   ]
  },
  {
   "cell_type": "code",
   "execution_count": 62,
   "metadata": {},
   "outputs": [
    {
     "data": {
      "text/plain": [
       "9263.968712959126"
      ]
     },
     "execution_count": 62,
     "metadata": {},
     "output_type": "execute_result"
    }
   ],
   "source": [
    "df['Purchase'].mean()"
   ]
  },
  {
   "cell_type": "code",
   "execution_count": 67,
   "metadata": {},
   "outputs": [],
   "source": [
    "# Tweak occupation and Product category dummy methods for better results\n",
    "# Initially, both the features are dropped"
   ]
  }
 ],
 "metadata": {
  "kernelspec": {
   "display_name": "Python 3",
   "language": "python",
   "name": "python3"
  },
  "language_info": {
   "codemirror_mode": {
    "name": "ipython",
    "version": 3
   },
   "file_extension": ".py",
   "mimetype": "text/x-python",
   "name": "python",
   "nbconvert_exporter": "python",
   "pygments_lexer": "ipython3",
   "version": "3.6.9"
  }
 },
 "nbformat": 4,
 "nbformat_minor": 2
}
