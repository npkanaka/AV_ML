{
 "cells": [
  {
   "cell_type": "code",
   "execution_count": 84,
   "metadata": {},
   "outputs": [],
   "source": [
    "import pandas as pd\n",
    "import numpy as np\n",
    "\n",
    "import matplotlib.pyplot as plt\n",
    "import seaborn as sns"
   ]
  },
  {
   "cell_type": "code",
   "execution_count": 85,
   "metadata": {},
   "outputs": [
    {
     "data": {
      "text/plain": [
       "550068"
      ]
     },
     "execution_count": 85,
     "metadata": {},
     "output_type": "execute_result"
    }
   ],
   "source": [
    "df = pd.read_csv(\"train.csv\")\n",
    "len(df)"
   ]
  },
  {
   "cell_type": "code",
   "execution_count": 86,
   "metadata": {},
   "outputs": [
    {
     "name": "stdout",
     "output_type": "stream",
     "text": [
      "<class 'pandas.core.frame.DataFrame'>\n",
      "RangeIndex: 550068 entries, 0 to 550067\n",
      "Data columns (total 12 columns):\n",
      "User_ID                       550068 non-null int64\n",
      "Product_ID                    550068 non-null object\n",
      "Gender                        550068 non-null object\n",
      "Age                           550068 non-null object\n",
      "Occupation                    550068 non-null int64\n",
      "City_Category                 550068 non-null object\n",
      "Stay_In_Current_City_Years    550068 non-null object\n",
      "Marital_Status                550068 non-null int64\n",
      "Product_Category_1            550068 non-null int64\n",
      "Product_Category_2            376430 non-null float64\n",
      "Product_Category_3            166821 non-null float64\n",
      "Purchase                      550068 non-null int64\n",
      "dtypes: float64(2), int64(5), object(5)\n",
      "memory usage: 50.4+ MB\n"
     ]
    }
   ],
   "source": [
    "df.info()"
   ]
  },
  {
   "cell_type": "code",
   "execution_count": 87,
   "metadata": {},
   "outputs": [
    {
     "data": {
      "text/plain": [
       "0                        User_ID\n",
       "1                     Product_ID\n",
       "2                         Gender\n",
       "3                            Age\n",
       "4                     Occupation\n",
       "5                  City_Category\n",
       "6     Stay_In_Current_City_Years\n",
       "7                 Marital_Status\n",
       "8             Product_Category_1\n",
       "9             Product_Category_2\n",
       "10            Product_Category_3\n",
       "11                      Purchase\n",
       "dtype: object"
      ]
     },
     "execution_count": 87,
     "metadata": {},
     "output_type": "execute_result"
    }
   ],
   "source": [
    "pd.Series(df.columns)"
   ]
  },
  {
   "cell_type": "code",
   "execution_count": 88,
   "metadata": {},
   "outputs": [],
   "source": [
    "df = df.drop(['Product_ID','User_ID'],axis=1)"
   ]
  },
  {
   "cell_type": "code",
   "execution_count": 89,
   "metadata": {},
   "outputs": [],
   "source": [
    "# Gender"
   ]
  },
  {
   "cell_type": "code",
   "execution_count": 90,
   "metadata": {},
   "outputs": [
    {
     "data": {
      "text/plain": [
       "M    414259\n",
       "F    135809\n",
       "Name: Gender, dtype: int64"
      ]
     },
     "execution_count": 90,
     "metadata": {},
     "output_type": "execute_result"
    }
   ],
   "source": [
    "df['Gender'].value_counts()"
   ]
  },
  {
   "cell_type": "code",
   "execution_count": 91,
   "metadata": {},
   "outputs": [
    {
     "data": {
      "text/plain": [
       "<matplotlib.axes._subplots.AxesSubplot at 0x1eae03be780>"
      ]
     },
     "execution_count": 91,
     "metadata": {},
     "output_type": "execute_result"
    },
    {
     "data": {
      "image/png": "[encoded data removed]",
      "text/plain": [
       "<Figure size 432x288 with 1 Axes>"
      ]
     },
     "metadata": {
      "needs_background": "light"
     },
     "output_type": "display_data"
    }
   ],
   "source": [
    "sns.countplot(df['Gender'])"
   ]
  },
  {
   "cell_type": "code",
   "execution_count": 92,
   "metadata": {},
   "outputs": [],
   "source": [
    "df = pd.get_dummies(df, columns=['Gender'], drop_first=True)"
   ]
  },
  {
   "cell_type": "code",
   "execution_count": 93,
   "metadata": {},
   "outputs": [],
   "source": [
    "# Age"
   ]
  },
  {
   "cell_type": "code",
   "execution_count": 94,
   "metadata": {
    "scrolled": true
   },
   "outputs": [
    {
     "data": {
      "text/plain": [
       "{'0-17': 1,\n",
       " '18-25': 2,\n",
       " '26-35': 3,\n",
       " '36-45': 4,\n",
       " '46-50': 5,\n",
       " '51-55': 6,\n",
       " '55+': 7}"
      ]
     },
     "execution_count": 94,
     "metadata": {},
     "output_type": "execute_result"
    }
   ],
   "source": [
    "resetter = pd.DataFrame(df.Age.value_counts().sort_index()).drop('Age',axis=1)\n",
    "resetter.reset_index(level=0, inplace=True)\n",
    "resetter.index += 1\n",
    "resetter.reset_index(level=0, inplace=True)\n",
    "resetter = resetter.set_index('index')\n",
    "resetter = resetter.to_dict().get('level_0')\n",
    "resetter"
   ]
  },
  {
   "cell_type": "code",
   "execution_count": 95,
   "metadata": {},
   "outputs": [
    {
     "data": {
      "text/plain": [
       "3    219587\n",
       "4    110013\n",
       "2     99660\n",
       "5     45701\n",
       "6     38501\n",
       "7     21504\n",
       "1     15102\n",
       "Name: Age, dtype: int64"
      ]
     },
     "execution_count": 95,
     "metadata": {},
     "output_type": "execute_result"
    }
   ],
   "source": [
    "df['Age'] = df['Age'].map(resetter)\n",
    "df['Age'].value_counts()"
   ]
  },
  {
   "cell_type": "code",
   "execution_count": 96,
   "metadata": {},
   "outputs": [],
   "source": [
    "# City Category"
   ]
  },
  {
   "cell_type": "code",
   "execution_count": 97,
   "metadata": {},
   "outputs": [
    {
     "data": {
      "text/plain": [
       "B    231173\n",
       "C    171175\n",
       "A    147720\n",
       "Name: City_Category, dtype: int64"
      ]
     },
     "execution_count": 97,
     "metadata": {},
     "output_type": "execute_result"
    }
   ],
   "source": [
    "df.City_Category.value_counts()"
   ]
  },
  {
   "cell_type": "code",
   "execution_count": 98,
   "metadata": {},
   "outputs": [],
   "source": [
    "df = pd.get_dummies(df, columns=['City_Category'], drop_first=True)"
   ]
  },
  {
   "cell_type": "code",
   "execution_count": 99,
   "metadata": {},
   "outputs": [],
   "source": [
    "# Stay in current city"
   ]
  },
  {
   "cell_type": "code",
   "execution_count": 100,
   "metadata": {},
   "outputs": [
    {
     "data": {
      "text/plain": [
       "1     193821\n",
       "2     101838\n",
       "3      95285\n",
       "4+     84726\n",
       "0      74398\n",
       "Name: Stay_In_Current_City_Years, dtype: int64"
      ]
     },
     "execution_count": 100,
     "metadata": {},
     "output_type": "execute_result"
    }
   ],
   "source": [
    "df.Stay_In_Current_City_Years.value_counts()"
   ]
  },
  {
   "cell_type": "code",
   "execution_count": 101,
   "metadata": {},
   "outputs": [],
   "source": [
    "df.loc[df['Stay_In_Current_City_Years'] == '4+',\"Stay_In_Current_City_Years\"] = 4"
   ]
  },
  {
   "cell_type": "code",
   "execution_count": 102,
   "metadata": {},
   "outputs": [],
   "source": [
    "df.Stay_In_Current_City_Years = df.Stay_In_Current_City_Years.astype(int)"
   ]
  },
  {
   "cell_type": "code",
   "execution_count": 103,
   "metadata": {},
   "outputs": [],
   "source": [
    "# Marital_Status"
   ]
  },
  {
   "cell_type": "code",
   "execution_count": 104,
   "metadata": {},
   "outputs": [
    {
     "data": {
      "text/plain": [
       "<matplotlib.axes._subplots.AxesSubplot at 0x1eae03a34a8>"
      ]
     },
     "execution_count": 104,
     "metadata": {},
     "output_type": "execute_result"
    },
    {
     "data": {
      "image/png": "[encoded data removed]",
      "text/plain": [
       "<Figure size 432x288 with 1 Axes>"
      ]
     },
     "metadata": {
      "needs_background": "light"
     },
     "output_type": "display_data"
    }
   ],
   "source": [
    "sns.countplot(df.Marital_Status)"
   ]
  },
  {
   "cell_type": "code",
   "execution_count": 105,
   "metadata": {},
   "outputs": [],
   "source": [
    "# City_Category"
   ]
  },
  {
   "cell_type": "code",
   "execution_count": 106,
   "metadata": {},
   "outputs": [
    {
     "data": {
      "text/plain": [
       "<matplotlib.axes._subplots.AxesSubplot at 0x1eae03d4128>"
      ]
     },
     "execution_count": 106,
     "metadata": {},
     "output_type": "execute_result"
    },
    {
     "data": {
      "image/png": "[encoded data removed]",
      "text/plain": [
       "<Figure size 432x288 with 1 Axes>"
      ]
     },
     "metadata": {
      "needs_background": "light"
     },
     "output_type": "display_data"
    }
   ],
   "source": [
    "sns.countplot(df.City_Category_B)"
   ]
  },
  {
   "cell_type": "code",
   "execution_count": 107,
   "metadata": {},
   "outputs": [],
   "source": [
    "# Product Category"
   ]
  },
  {
   "cell_type": "code",
   "execution_count": 108,
   "metadata": {},
   "outputs": [],
   "source": [
    "df.Product_Category_1 = df.Product_Category_1.astype(float)"
   ]
  },
  {
   "cell_type": "code",
   "execution_count": 109,
   "metadata": {},
   "outputs": [],
   "source": [
    "from collections import Counter"
   ]
  },
  {
   "cell_type": "code",
   "execution_count": 110,
   "metadata": {},
   "outputs": [
    {
     "data": {
      "text/plain": [
       "([(5.0, 193826),\n",
       "  (8.0, 190575),\n",
       "  (1.0, 140378),\n",
       "  (16.0, 85719),\n",
       "  (14.0, 75059),\n",
       "  (2.0, 73081),\n",
       "  (15.0, 72158),\n",
       "  (6.0, 41822),\n",
       "  (11.0, 40226),\n",
       "  (4.0, 39305),\n",
       "  (17.0, 30600),\n",
       "  (3.0, 23710),\n",
       "  (13.0, 21539),\n",
       "  (12.0, 18721),\n",
       "  (9.0, 17682),\n",
       "  (18.0, 10524),\n",
       "  (10.0, 9894),\n",
       "  (7.0, 4347),\n",
       "  (20.0, 2550),\n",
       "  (19.0, 1603)],\n",
       " 20)"
      ]
     },
     "execution_count": 110,
     "metadata": {},
     "output_type": "execute_result"
    }
   ],
   "source": [
    "all_c = dict(Counter(df.Product_Category_3.value_counts().sort_index().to_dict()) + Counter(df.Product_Category_2.value_counts().sort_index().to_dict()) + Counter(df.Product_Category_1.value_counts().sort_index().to_dict()))\n",
    "all_c = sorted(all_c.items(), key=lambda x: x[1], reverse=True)\n",
    "\n",
    "all_c,len(all_c)"
   ]
  },
  {
   "cell_type": "code",
   "execution_count": 111,
   "metadata": {},
   "outputs": [],
   "source": [
    "list_of_cat = []\n",
    "rest_of_cat = []\n",
    "def prod_cat_label(limit):\n",
    "    ca_c = 0\n",
    "    for i in range(len(all_c)):\n",
    "        if(i<limit):\n",
    "            ca_c = ca_c + all_c[i][1]\n",
    "            list_of_cat.append(all_c[i][0])\n",
    "        else:\n",
    "            rest_of_cat.append(all_c[i][0])\n",
    "    for i in list_of_cat:\n",
    "        df['prod_cat_'+str(i)] = (df['Product_Category_1']==i) | (df['Product_Category_2']==i) | (df['Product_Category_3']==i)\n",
    "        df['prod_cat_'+str(i)] = df['prod_cat_'+str(i)].astype(int)\n",
    "    df['rest_cat'] = 0    \n",
    "    for i in rest_of_cat:\n",
    "        df['rest_cat'] = (df['rest_cat']) | (df['Product_Category_1']==i) | (df['Product_Category_2']==i) | (df['Product_Category_3']==i)\n",
    "    df['rest_cat'] = df['rest_cat'].astype(int)    \n",
    "    return ca_c"
   ]
  },
  {
   "cell_type": "code",
   "execution_count": 112,
   "metadata": {},
   "outputs": [
    {
     "name": "stdout",
     "output_type": "stream",
     "text": [
      "[] [5.0, 8.0, 1.0, 16.0, 14.0, 2.0, 15.0, 6.0, 11.0, 4.0, 17.0, 3.0, 13.0, 12.0, 9.0, 18.0, 10.0, 7.0, 20.0, 19.0]\n"
     ]
    },
    {
     "data": {
      "text/plain": [
       "(1093319, 0, 1093319)"
      ]
     },
     "execution_count": 112,
     "metadata": {},
     "output_type": "execute_result"
    }
   ],
   "source": [
    "total_c = 0\n",
    "for i in range(len(all_c)):\n",
    "    total_c += all_c[i][1]\n",
    "\n",
    "ca_c = prod_cat_label(0)                                    # Product category feature encoding limit\n",
    "print(list_of_cat,rest_of_cat)\n",
    "total_c,ca_c,total_c-ca_c"
   ]
  },
  {
   "cell_type": "code",
   "execution_count": 113,
   "metadata": {},
   "outputs": [],
   "source": [
    "df = df.drop(['Product_Category_1','Product_Category_2','Product_Category_3'],axis=1)\n",
    "df.rest_cat.value_counts()\n",
    "df = df.drop('rest_cat',axis=1) # Comment if not zero"
   ]
  },
  {
   "cell_type": "code",
   "execution_count": 114,
   "metadata": {},
   "outputs": [],
   "source": [
    "# Occupation"
   ]
  },
  {
   "cell_type": "code",
   "execution_count": 115,
   "metadata": {},
   "outputs": [
    {
     "data": {
      "text/plain": [
       "([(8, 1546),\n",
       "  (9, 6291),\n",
       "  (18, 6622),\n",
       "  (13, 7728),\n",
       "  (19, 8461),\n",
       "  (11, 11586),\n",
       "  (15, 12165),\n",
       "  (5, 12177),\n",
       "  (10, 12930),\n",
       "  (3, 17650),\n",
       "  (6, 20355),\n",
       "  (16, 25371),\n",
       "  (2, 26588),\n",
       "  (14, 27309),\n",
       "  (12, 31179),\n",
       "  (20, 33562),\n",
       "  (17, 40043),\n",
       "  (1, 47426),\n",
       "  (7, 59133),\n",
       "  (0, 69638),\n",
       "  (4, 72308)],\n",
       " 21)"
      ]
     },
     "execution_count": 115,
     "metadata": {},
     "output_type": "execute_result"
    }
   ],
   "source": [
    "all_o = dict(df.Occupation.value_counts().sort_values(ascending = True))\n",
    "all_o = [(k, v) for k, v in all_o.items()]\n",
    "all_o,len(all_o)"
   ]
  },
  {
   "cell_type": "code",
   "execution_count": 116,
   "metadata": {},
   "outputs": [],
   "source": [
    "total_o = 0\n",
    "rm_o = 0\n",
    "for i in range(len(all_o)):\n",
    "    total_o += all_o[i][1]"
   ]
  },
  {
   "cell_type": "code",
   "execution_count": 117,
   "metadata": {},
   "outputs": [
    {
     "data": {
      "text/plain": [
       "(550068, 549858, 210)"
      ]
     },
     "execution_count": 117,
     "metadata": {},
     "output_type": "execute_result"
    }
   ],
   "source": [
    "df = pd.get_dummies(df, columns=['Occupation'])\n",
    "def pro_o_label(limit,df):\n",
    "    rm_o = 0\n",
    "    limit = len(all_o) - limit\n",
    "    for i in range(limit):\n",
    "        rm_o = rm_o + all_o[i][0]\n",
    "        df = df.drop(['Occupation_'+str(all_o[i][0])],axis=1)\n",
    "    return df,rm_o \n",
    "df,rm_o = pro_o_label(0,df)                                              # Occupation category feature encoding limit\n",
    "total_o,total_o-rm_o,rm_o\n"
   ]
  },
  {
   "cell_type": "code",
   "execution_count": 118,
   "metadata": {},
   "outputs": [],
   "source": [
    "# EDA 2.0"
   ]
  },
  {
   "cell_type": "code",
   "execution_count": 119,
   "metadata": {},
   "outputs": [
    {
     "data": {
      "text/html": [
       "<div>\n",
       "<style scoped>\n",
       "    .dataframe tbody tr th:only-of-type {\n",
       "        vertical-align: middle;\n",
       "    }\n",
       "\n",
       "    .dataframe tbody tr th {\n",
       "        vertical-align: top;\n",
       "    }\n",
       "\n",
       "    .dataframe thead th {\n",
       "        text-align: right;\n",
       "    }\n",
       "</style>\n",
       "<table border=\"1\" class=\"dataframe\">\n",
       "  <thead>\n",
       "    <tr style=\"text-align: right;\">\n",
       "      <th></th>\n",
       "      <th>Age</th>\n",
       "      <th>Stay_In_Current_City_Years</th>\n",
       "      <th>Marital_Status</th>\n",
       "      <th>Purchase</th>\n",
       "      <th>Gender_M</th>\n",
       "      <th>City_Category_B</th>\n",
       "      <th>City_Category_C</th>\n",
       "    </tr>\n",
       "  </thead>\n",
       "  <tbody>\n",
       "    <tr>\n",
       "      <td>count</td>\n",
       "      <td>550068.000000</td>\n",
       "      <td>550068.000000</td>\n",
       "      <td>550068.000000</td>\n",
       "      <td>550068.000000</td>\n",
       "      <td>550068.000000</td>\n",
       "      <td>550068.000000</td>\n",
       "      <td>550068.000000</td>\n",
       "    </tr>\n",
       "    <tr>\n",
       "      <td>mean</td>\n",
       "      <td>3.496430</td>\n",
       "      <td>1.858418</td>\n",
       "      <td>0.409653</td>\n",
       "      <td>9263.968713</td>\n",
       "      <td>0.753105</td>\n",
       "      <td>0.420263</td>\n",
       "      <td>0.311189</td>\n",
       "    </tr>\n",
       "    <tr>\n",
       "      <td>std</td>\n",
       "      <td>1.353632</td>\n",
       "      <td>1.289443</td>\n",
       "      <td>0.491770</td>\n",
       "      <td>5023.065394</td>\n",
       "      <td>0.431205</td>\n",
       "      <td>0.493601</td>\n",
       "      <td>0.462980</td>\n",
       "    </tr>\n",
       "    <tr>\n",
       "      <td>min</td>\n",
       "      <td>1.000000</td>\n",
       "      <td>0.000000</td>\n",
       "      <td>0.000000</td>\n",
       "      <td>12.000000</td>\n",
       "      <td>0.000000</td>\n",
       "      <td>0.000000</td>\n",
       "      <td>0.000000</td>\n",
       "    </tr>\n",
       "    <tr>\n",
       "      <td>25%</td>\n",
       "      <td>3.000000</td>\n",
       "      <td>1.000000</td>\n",
       "      <td>0.000000</td>\n",
       "      <td>5823.000000</td>\n",
       "      <td>1.000000</td>\n",
       "      <td>0.000000</td>\n",
       "      <td>0.000000</td>\n",
       "    </tr>\n",
       "    <tr>\n",
       "      <td>50%</td>\n",
       "      <td>3.000000</td>\n",
       "      <td>2.000000</td>\n",
       "      <td>0.000000</td>\n",
       "      <td>8047.000000</td>\n",
       "      <td>1.000000</td>\n",
       "      <td>0.000000</td>\n",
       "      <td>0.000000</td>\n",
       "    </tr>\n",
       "    <tr>\n",
       "      <td>75%</td>\n",
       "      <td>4.000000</td>\n",
       "      <td>3.000000</td>\n",
       "      <td>1.000000</td>\n",
       "      <td>12054.000000</td>\n",
       "      <td>1.000000</td>\n",
       "      <td>1.000000</td>\n",
       "      <td>1.000000</td>\n",
       "    </tr>\n",
       "    <tr>\n",
       "      <td>max</td>\n",
       "      <td>7.000000</td>\n",
       "      <td>4.000000</td>\n",
       "      <td>1.000000</td>\n",
       "      <td>23961.000000</td>\n",
       "      <td>1.000000</td>\n",
       "      <td>1.000000</td>\n",
       "      <td>1.000000</td>\n",
       "    </tr>\n",
       "  </tbody>\n",
       "</table>\n",
       "</div>"
      ],
      "text/plain": [
       "                 Age  Stay_In_Current_City_Years  Marital_Status  \\\n",
       "count  550068.000000               550068.000000   550068.000000   \n",
       "mean        3.496430                    1.858418        0.409653   \n",
       "std         1.353632                    1.289443        0.491770   \n",
       "min         1.000000                    0.000000        0.000000   \n",
       "25%         3.000000                    1.000000        0.000000   \n",
       "50%         3.000000                    2.000000        0.000000   \n",
       "75%         4.000000                    3.000000        1.000000   \n",
       "max         7.000000                    4.000000        1.000000   \n",
       "\n",
       "            Purchase       Gender_M  City_Category_B  City_Category_C  \n",
       "count  550068.000000  550068.000000    550068.000000    550068.000000  \n",
       "mean     9263.968713       0.753105         0.420263         0.311189  \n",
       "std      5023.065394       0.431205         0.493601         0.462980  \n",
       "min        12.000000       0.000000         0.000000         0.000000  \n",
       "25%      5823.000000       1.000000         0.000000         0.000000  \n",
       "50%      8047.000000       1.000000         0.000000         0.000000  \n",
       "75%     12054.000000       1.000000         1.000000         1.000000  \n",
       "max     23961.000000       1.000000         1.000000         1.000000  "
      ]
     },
     "execution_count": 119,
     "metadata": {},
     "output_type": "execute_result"
    }
   ],
   "source": [
    "df.describe()"
   ]
  },
  {
   "cell_type": "code",
   "execution_count": 120,
   "metadata": {},
   "outputs": [
    {
     "data": {
      "text/plain": [
       "City_Category_B              -0.019098\n",
       "Marital_Status               -0.000463\n",
       "Stay_In_Current_City_Years    0.005422\n",
       "Age                           0.015839\n",
       "Gender_M                      0.060346\n",
       "City_Category_C               0.061012\n",
       "Name: Purchase, dtype: float64"
      ]
     },
     "execution_count": 120,
     "metadata": {},
     "output_type": "execute_result"
    }
   ],
   "source": [
    "df.corr()['Purchase'].sort_values()[:-1]"
   ]
  },
  {
   "cell_type": "code",
   "execution_count": null,
   "metadata": {},
   "outputs": [],
   "source": [
    "# Split"
   ]
  },
  {
   "cell_type": "code",
   "execution_count": 121,
   "metadata": {},
   "outputs": [],
   "source": [
    "X = df.drop('Purchase',axis=1).values\n",
    "y = df['Purchase'].values"
   ]
  },
  {
   "cell_type": "code",
   "execution_count": 122,
   "metadata": {},
   "outputs": [],
   "source": [
    "from sklearn.model_selection import train_test_split"
   ]
  },
  {
   "cell_type": "code",
   "execution_count": 123,
   "metadata": {},
   "outputs": [],
   "source": [
    "X_train, X_test, y_train, y_test = train_test_split(X,y,test_size=0.2)"
   ]
  },
  {
   "cell_type": "code",
   "execution_count": 124,
   "metadata": {},
   "outputs": [],
   "source": [
    "## Scaler"
   ]
  },
  {
   "cell_type": "code",
   "execution_count": 125,
   "metadata": {},
   "outputs": [],
   "source": [
    "from sklearn.preprocessing import MinMaxScaler"
   ]
  },
  {
   "cell_type": "code",
   "execution_count": 126,
   "metadata": {},
   "outputs": [],
   "source": [
    "scaler = MinMaxScaler()"
   ]
  },
  {
   "cell_type": "code",
   "execution_count": 127,
   "metadata": {},
   "outputs": [],
   "source": [
    "X_train = scaler.fit_transform(X_train)\n",
    "X_test = scaler.transform(X_test)"
   ]
  },
  {
   "cell_type": "code",
   "execution_count": 128,
   "metadata": {},
   "outputs": [
    {
     "data": {
      "text/plain": [
       "((440054, 6), (110014, 6))"
      ]
     },
     "execution_count": 128,
     "metadata": {},
     "output_type": "execute_result"
    }
   ],
   "source": [
    "X_train.shape,X_test.shape"
   ]
  },
  {
   "cell_type": "code",
   "execution_count": 129,
   "metadata": {},
   "outputs": [],
   "source": [
    "# Model building"
   ]
  },
  {
   "cell_type": "code",
   "execution_count": null,
   "metadata": {},
   "outputs": [],
   "source": [
    "from tensorflow.keras.models import Sequential\n",
    "from tensorflow.keras.layers import Dense\n",
    "from tensorflow.keras.optimizers import Adam\n",
    "from tensorflow.keras.layers import Dropout\n",
    "X.shape,y.shape"
   ]
  },
  {
   "cell_type": "code",
   "execution_count": 130,
   "metadata": {},
   "outputs": [],
   "source": [
    "model = Sequential()\n",
    "\n",
    "model.add(Dense(6,activation=\"relu\"))\n",
    "model.add(Dropout(0.5))\n",
    "model.add(Dense(6,activation=\"relu\"))\n",
    "model.add(Dropout(0.5))\n",
    "model.add(Dense(6,activation=\"relu\"))\n",
    "model.add(Dropout(0.5))\n",
    "model.add(Dense(6,activation=\"relu\"))\n",
    "model.add(Dropout(0.5))\n",
    "\n",
    "model.add(Dense(1))\n",
    "\n",
    "model.compile(loss='mse', optimizer='adam')"
   ]
  },
  {
   "cell_type": "code",
   "execution_count": 131,
   "metadata": {},
   "outputs": [],
   "source": [
    "# Training"
   ]
  },
  {
   "cell_type": "code",
   "execution_count": 132,
   "metadata": {},
   "outputs": [],
   "source": [
    "from tensorflow.keras.callbacks import EarlyStopping\n",
    "early_stop = EarlyStopping(monitor='val_loss', mode='min', verbose=1, patience=20)"
   ]
  },
  {
   "cell_type": "code",
   "execution_count": 135,
   "metadata": {
    "scrolled": true
   },
   "outputs": [
    {
     "name": "stdout",
     "output_type": "stream",
     "text": [
      "Train on 440054 samples, validate on 110014 samples\n",
      "Epoch 1/300\n",
      "440054/440054 [==============================] - 10s 22us/sample - loss: 73259796.3794 - val_loss: 45012465.4962\n",
      "Epoch 2/300\n",
      "440054/440054 [==============================] - 9s 21us/sample - loss: 61183569.8627 - val_loss: 38545987.7946\n",
      "Epoch 3/300\n",
      "440054/440054 [==============================] - 9s 21us/sample - loss: 57233430.1623 - val_loss: 36830138.7330\n",
      "Epoch 4/300\n",
      "440054/440054 [==============================] - 10s 22us/sample - loss: 55270305.0570 - val_loss: 35451538.5376\n",
      "Epoch 5/300\n",
      "440054/440054 [==============================] - 10s 22us/sample - loss: 53090848.6730 - val_loss: 34172099.3907\n",
      "Epoch 6/300\n",
      "440054/440054 [==============================] - 10s 22us/sample - loss: 50842072.1936 - val_loss: 33097386.2135\n",
      "Epoch 7/300\n",
      "440054/440054 [==============================] - 10s 22us/sample - loss: 49918176.8627 - val_loss: 32190779.9039\n",
      "Epoch 8/300\n",
      "440054/440054 [==============================] - 9s 22us/sample - loss: 49439450.5560 - val_loss: 32387319.7277\n",
      "Epoch 9/300\n",
      "440054/440054 [==============================] - 10s 22us/sample - loss: 49101247.7568 - val_loss: 32034407.2008\n",
      "Epoch 10/300\n",
      "440054/440054 [==============================] - 10s 22us/sample - loss: 48640189.1817 - val_loss: 31823963.6120\n",
      "Epoch 11/300\n",
      "440054/440054 [==============================] - 10s 22us/sample - loss: 48035942.3441 - val_loss: 31968760.0560\n",
      "Epoch 12/300\n",
      "440054/440054 [==============================] - 10s 23us/sample - loss: 47716253.4530 - val_loss: 31429297.4219\n",
      "Epoch 13/300\n",
      "440054/440054 [==============================] - 10s 22us/sample - loss: 46985559.3692 - val_loss: 31382577.6970\n",
      "Epoch 14/300\n",
      "440054/440054 [==============================] - 10s 23us/sample - loss: 46187090.9115 - val_loss: 30652658.8372\n",
      "Epoch 15/300\n",
      "440054/440054 [==============================] - 9s 21us/sample - loss: 45462593.4904 - val_loss: 30448984.0474\n",
      "Epoch 16/300\n",
      "440054/440054 [==============================] - 9s 20us/sample - loss: 44637614.6633 - val_loss: 30126479.3722\n",
      "Epoch 17/300\n",
      "440054/440054 [==============================] - 10s 22us/sample - loss: 43607783.3439 - val_loss: 29899600.2891\n",
      "Epoch 18/300\n",
      "440054/440054 [==============================] - 10s 22us/sample - loss: 42720457.5880 - val_loss: 29607918.0316\n",
      "Epoch 19/300\n",
      "440054/440054 [==============================] - 10s 22us/sample - loss: 41979469.3699 - val_loss: 29036991.1389\n",
      "Epoch 20/300\n",
      "440054/440054 [==============================] - 10s 23us/sample - loss: 41136431.2498 - val_loss: 28760863.3695\n",
      "Epoch 21/300\n",
      "440054/440054 [==============================] - 10s 23us/sample - loss: 40497630.0790 - val_loss: 28480079.7880\n",
      "Epoch 22/300\n",
      "440054/440054 [==============================] - 10s 24us/sample - loss: 40045379.8791 - val_loss: 28266830.9167\n",
      "Epoch 23/300\n",
      "440054/440054 [==============================] - 10s 23us/sample - loss: 39726525.3254 - val_loss: 27812379.0694\n",
      "Epoch 24/300\n",
      "440054/440054 [==============================] - 10s 23us/sample - loss: 39499179.2639 - val_loss: 27555611.9405\n",
      "Epoch 25/300\n",
      "440054/440054 [==============================] - 11s 24us/sample - loss: 39434155.7315 - val_loss: 27495170.5624\n",
      "Epoch 26/300\n",
      "440054/440054 [==============================] - 11s 24us/sample - loss: 39293250.2071 - val_loss: 27618157.2318\n",
      "Epoch 27/300\n",
      "440054/440054 [==============================] - 10s 23us/sample - loss: 39257209.5615 - val_loss: 27576223.8320\n",
      "Epoch 28/300\n",
      "440054/440054 [==============================] - 10s 23us/sample - loss: 39140879.7915 - val_loss: 27386687.5367\n",
      "Epoch 29/300\n",
      "440054/440054 [==============================] - 10s 22us/sample - loss: 39231508.5796 - val_loss: 27397274.9621\n",
      "Epoch 30/300\n",
      "440054/440054 [==============================] - 9s 22us/sample - loss: 39144656.7167 - val_loss: 27508238.8414\n",
      "Epoch 31/300\n",
      "440054/440054 [==============================] - 10s 22us/sample - loss: 39201036.1062 - val_loss: 27337366.5645\n",
      "Epoch 32/300\n",
      "440054/440054 [==============================] - 11s 24us/sample - loss: 39136655.7546 - val_loss: 27290928.8773\n",
      "Epoch 33/300\n",
      "440054/440054 [==============================] - 10s 23us/sample - loss: 39173125.8330 - val_loss: 27427503.5304\n",
      "Epoch 34/300\n",
      "440054/440054 [==============================] - 12s 26us/sample - loss: 39103112.1980 - val_loss: 27434990.5471\n",
      "Epoch 35/300\n",
      "440054/440054 [==============================] - 11s 26us/sample - loss: 39053015.6538 - val_loss: 27361443.5065\n",
      "Epoch 36/300\n",
      "440054/440054 [==============================] - 11s 25us/sample - loss: 39173459.4031 - val_loss: 27447401.9066\n",
      "Epoch 37/300\n",
      "440054/440054 [==============================] - 11s 25us/sample - loss: 39096054.9484 - val_loss: 27325548.3954\n",
      "Epoch 38/300\n",
      "440054/440054 [==============================] - 11s 24us/sample - loss: 39100794.0554 - val_loss: 27357369.5821\n",
      "Epoch 39/300\n",
      "440054/440054 [==============================] - 11s 25us/sample - loss: 39085089.9823 - val_loss: 27394411.3457\n",
      "Epoch 40/300\n",
      "440054/440054 [==============================] - 10s 24us/sample - loss: 39198187.1415 - val_loss: 27298585.9588\n",
      "Epoch 41/300\n",
      "440054/440054 [==============================] - 11s 25us/sample - loss: 39099679.7318 - val_loss: 27381005.9408\n",
      "Epoch 42/300\n",
      "440054/440054 [==============================] - 11s 24us/sample - loss: 39101774.1240 - val_loss: 27417673.8705\n",
      "Epoch 43/300\n",
      "440054/440054 [==============================] - 11s 26us/sample - loss: 38975479.0018 - val_loss: 27369970.2437\n",
      "Epoch 44/300\n",
      "440054/440054 [==============================] - 12s 27us/sample - loss: 39044803.9910 - val_loss: 27357845.2342\n",
      "Epoch 45/300\n",
      "440054/440054 [==============================] - 11s 26us/sample - loss: 39053510.2236 - val_loss: 27300633.2276\n",
      "Epoch 46/300\n",
      "440054/440054 [==============================] - 11s 24us/sample - loss: 39133206.9259 - val_loss: 27384743.0982\n",
      "Epoch 47/300\n",
      "440054/440054 [==============================] - 10s 24us/sample - loss: 39056366.5391 - val_loss: 27256058.3533\n",
      "Epoch 48/300\n",
      "440054/440054 [==============================] - 11s 24us/sample - loss: 39083526.5147 - val_loss: 27267072.5603\n",
      "Epoch 49/300\n",
      "440054/440054 [==============================] - 11s 25us/sample - loss: 38949807.9100 - val_loss: 27304260.4838\n",
      "Epoch 50/300\n",
      "440054/440054 [==============================] - 11s 24us/sample - loss: 38855014.3508 - val_loss: 27320636.1327\n",
      "Epoch 51/300\n",
      "440054/440054 [==============================] - 10s 24us/sample - loss: 38895327.9738 - val_loss: 27307623.2709\n",
      "Epoch 52/300\n",
      "440054/440054 [==============================] - 11s 25us/sample - loss: 38948029.6904 - val_loss: 27353151.1493\n",
      "Epoch 53/300\n",
      "440054/440054 [==============================] - 11s 25us/sample - loss: 38910056.3413 - val_loss: 27262168.4101\n",
      "Epoch 54/300\n",
      "440054/440054 [==============================] - 11s 24us/sample - loss: 39055508.2299 - val_loss: 27455076.3857\n",
      "Epoch 55/300\n",
      "440054/440054 [==============================] - 10s 24us/sample - loss: 38956234.2891 - val_loss: 27387215.9461\n",
      "Epoch 56/300\n",
      "440054/440054 [==============================] - 11s 26us/sample - loss: 38944477.3562 - val_loss: 27307176.1483\n",
      "Epoch 57/300\n",
      "440054/440054 [==============================] - 12s 26us/sample - loss: 39043738.0948 - val_loss: 27378483.8288\n",
      "Epoch 58/300\n",
      "440054/440054 [==============================] - 11s 26us/sample - loss: 38872286.6815 - val_loss: 27299814.0384\n",
      "Epoch 59/300\n",
      "440054/440054 [==============================] - 11s 25us/sample - loss: 38981580.4563 - val_loss: 27329493.7573\n",
      "Epoch 60/300\n",
      "440054/440054 [==============================] - 10s 22us/sample - loss: 38834238.3763 - val_loss: 27312928.8725\n",
      "Epoch 61/300\n",
      "440054/440054 [==============================] - 10s 22us/sample - loss: 38916898.2928 - val_loss: 27179071.7904\n",
      "Epoch 62/300\n",
      "440054/440054 [==============================] - 12s 27us/sample - loss: 38888379.5189 - val_loss: 27377967.1064\n",
      "Epoch 63/300\n",
      "440054/440054 [==============================] - 12s 27us/sample - loss: 38785950.2848 - val_loss: 27394196.4918\n",
      "Epoch 64/300\n",
      "440054/440054 [==============================] - 12s 27us/sample - loss: 38773857.0760 - val_loss: 27353627.3251\n",
      "Epoch 65/300\n"
     ]
    },
    {
     "name": "stdout",
     "output_type": "stream",
     "text": [
      "440054/440054 [==============================] - 12s 26us/sample - loss: 38798676.4699 - val_loss: 27259221.5140\n",
      "Epoch 66/300\n",
      "440054/440054 [==============================] - 11s 25us/sample - loss: 38732630.3823 - val_loss: 27191095.5038\n",
      "Epoch 67/300\n",
      "440054/440054 [==============================] - 12s 28us/sample - loss: 38844103.5239 - val_loss: 27274219.5858\n",
      "Epoch 68/300\n",
      "440054/440054 [==============================] - 11s 26us/sample - loss: 38794876.4189 - val_loss: 27300311.1628\n",
      "Epoch 69/300\n",
      "440054/440054 [==============================] - 10s 22us/sample - loss: 38828663.3822 - val_loss: 27346542.5051\n",
      "Epoch 70/300\n",
      "440054/440054 [==============================] - 11s 24us/sample - loss: 38696675.2467 - val_loss: 27367277.8371\n",
      "Epoch 71/300\n",
      "440054/440054 [==============================] - 10s 22us/sample - loss: 38771006.8396 - val_loss: 27328666.8841\n",
      "Epoch 72/300\n",
      "440054/440054 [==============================] - 10s 23us/sample - loss: 38747813.0996 - val_loss: 27215339.4640\n",
      "Epoch 73/300\n",
      "440054/440054 [==============================] - 11s 26us/sample - loss: 38769007.8569 - val_loss: 27351398.2927\n",
      "Epoch 74/300\n",
      "440054/440054 [==============================] - 10s 23us/sample - loss: 38752965.8135 - val_loss: 27285863.8702\n",
      "Epoch 75/300\n",
      "440054/440054 [==============================] - 10s 23us/sample - loss: 38729099.8146 - val_loss: 27314589.1163\n",
      "Epoch 76/300\n",
      "440054/440054 [==============================] - 10s 23us/sample - loss: 38864823.1945 - val_loss: 27294182.1644\n",
      "Epoch 77/300\n",
      "440054/440054 [==============================] - 10s 23us/sample - loss: 38802230.0803 - val_loss: 27284963.9168\n",
      "Epoch 78/300\n",
      "440054/440054 [==============================] - 10s 23us/sample - loss: 38577566.8381 - val_loss: 27233993.6152\n",
      "Epoch 79/300\n",
      "440054/440054 [==============================] - 10s 23us/sample - loss: 38714858.8690 - val_loss: 27275189.5707\n",
      "Epoch 80/300\n",
      "440054/440054 [==============================] - 10s 23us/sample - loss: 38814662.8602 - val_loss: 27264972.4972\n",
      "Epoch 81/300\n",
      "440054/440054 [==============================] - 10s 23us/sample - loss: 38695633.1086 - val_loss: 27378403.7036\n",
      "Epoch 00081: early stopping\n"
     ]
    },
    {
     "data": {
      "text/plain": [
       "<tensorflow.python.keras.callbacks.History at 0x1eae0b6b588>"
      ]
     },
     "execution_count": 135,
     "metadata": {},
     "output_type": "execute_result"
    }
   ],
   "source": [
    "model.fit(x=X_train,y=y_train,validation_data=(X_test,y_test),epochs=300,batch_size=128,verbose=1,callbacks=[early_stop])"
   ]
  },
  {
   "cell_type": "code",
   "execution_count": 136,
   "metadata": {},
   "outputs": [
    {
     "data": {
      "text/plain": [
       "<matplotlib.axes._subplots.AxesSubplot at 0x1eae0fc5fd0>"
      ]
     },
     "execution_count": 136,
     "metadata": {},
     "output_type": "execute_result"
    },
    {
     "data": {
      "image/png": "[encoded data removed]",
      "text/plain": [
       "<Figure size 432x288 with 1 Axes>"
      ]
     },
     "metadata": {
      "needs_background": "light"
     },
     "output_type": "display_data"
    }
   ],
   "source": [
    "model_loss = pd.DataFrame(model.history.history)\n",
    "model_loss.plot()"
   ]
  },
  {
   "cell_type": "code",
   "execution_count": null,
   "metadata": {},
   "outputs": [],
   "source": []
  }
 ],
 "metadata": {
  "kernelspec": {
   "display_name": "Python 3",
   "language": "python",
   "name": "python3"
  },
  "language_info": {
   "codemirror_mode": {
    "name": "ipython",
    "version": 3
   },
   "file_extension": ".py",
   "mimetype": "text/x-python",
   "name": "python",
   "nbconvert_exporter": "python",
   "pygments_lexer": "ipython3",
   "version": "3.6.9"
  }
 },
 "nbformat": 4,
 "nbformat_minor": 2
}
