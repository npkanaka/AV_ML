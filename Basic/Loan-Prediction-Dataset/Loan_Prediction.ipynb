{
 "cells": [
  {
   "cell_type": "code",
   "execution_count": 59,
   "metadata": {},
   "outputs": [],
   "source": [
    "##EDA"
   ]
  },
  {
   "cell_type": "code",
   "execution_count": 60,
   "metadata": {},
   "outputs": [],
   "source": [
    "import pandas as pd\n",
    "import numpy as np\n",
    "\n",
    "import matplotlib.pyplot as plt\n",
    "import seaborn as sns"
   ]
  },
  {
   "cell_type": "code",
   "execution_count": 61,
   "metadata": {},
   "outputs": [],
   "source": [
    "df = pd.read_csv(\"train.csv\")"
   ]
  },
  {
   "cell_type": "code",
   "execution_count": 62,
   "metadata": {},
   "outputs": [
    {
     "data": {
      "text/plain": [
       "(614, 13)"
      ]
     },
     "execution_count": 62,
     "metadata": {},
     "output_type": "execute_result"
    }
   ],
   "source": [
    "df.shape"
   ]
  },
  {
   "cell_type": "code",
   "execution_count": 63,
   "metadata": {},
   "outputs": [
    {
     "data": {
      "text/plain": [
       "(480, 13)"
      ]
     },
     "execution_count": 63,
     "metadata": {},
     "output_type": "execute_result"
    }
   ],
   "source": [
    "df = df.dropna(axis=0,how='any')\n",
    "df.shape"
   ]
  },
  {
   "cell_type": "code",
   "execution_count": 64,
   "metadata": {
    "scrolled": true
   },
   "outputs": [
    {
     "data": {
      "text/plain": [
       "Index(['Loan_ID', 'Gender', 'Married', 'Dependents', 'Education',\n",
       "       'Self_Employed', 'ApplicantIncome', 'CoapplicantIncome', 'LoanAmount',\n",
       "       'Loan_Amount_Term', 'Credit_History', 'Property_Area', 'Loan_Status'],\n",
       "      dtype='object')"
      ]
     },
     "execution_count": 64,
     "metadata": {},
     "output_type": "execute_result"
    }
   ],
   "source": [
    "df.columns"
   ]
  },
  {
   "cell_type": "code",
   "execution_count": 65,
   "metadata": {},
   "outputs": [],
   "source": [
    "df = df.drop('Loan_ID',axis=1)"
   ]
  },
  {
   "cell_type": "code",
   "execution_count": 66,
   "metadata": {},
   "outputs": [],
   "source": [
    "df = pd.get_dummies(df,columns=['Gender','Married','Education','Self_Employed','Credit_History','Property_Area','Loan_Status','Dependents'],drop_first=True)"
   ]
  },
  {
   "cell_type": "code",
   "execution_count": 67,
   "metadata": {},
   "outputs": [
    {
     "data": {
      "text/plain": [
       "LoanAmount                -0.071753\n",
       "Education_Not Graduate    -0.068437\n",
       "Property_Area_Urban       -0.055964\n",
       "CoapplicantIncome         -0.049020\n",
       "ApplicantIncome           -0.043152\n",
       "Dependents_1              -0.040350\n",
       "Self_Employed_Yes         -0.034715\n",
       "Loan_Amount_Term          -0.007798\n",
       "Dependents_3+             -0.005784\n",
       "Gender_Male                0.064504\n",
       "Dependents_2               0.073368\n",
       "Married_Yes                0.112321\n",
       "Property_Area_Semiurban    0.155686\n",
       "Credit_History_1.0         0.529390\n",
       "Loan_Status_Y              1.000000\n",
       "Name: Loan_Status_Y, dtype: float64"
      ]
     },
     "execution_count": 67,
     "metadata": {},
     "output_type": "execute_result"
    }
   ],
   "source": [
    "df.corr()['Loan_Status_Y'].sort_values()"
   ]
  },
  {
   "cell_type": "code",
   "execution_count": 68,
   "metadata": {},
   "outputs": [],
   "source": [
    "## Split"
   ]
  },
  {
   "cell_type": "code",
   "execution_count": 69,
   "metadata": {},
   "outputs": [],
   "source": [
    "X = df.drop('Loan_Status_Y',axis=1).values\n",
    "y = df['Loan_Status_Y'].values"
   ]
  },
  {
   "cell_type": "code",
   "execution_count": 70,
   "metadata": {},
   "outputs": [],
   "source": [
    "from sklearn.model_selection import train_test_split"
   ]
  },
  {
   "cell_type": "code",
   "execution_count": 71,
   "metadata": {},
   "outputs": [],
   "source": [
    "X_train, X_test, y_train, y_test = train_test_split(X,y,test_size=0.15,random_state=101)"
   ]
  },
  {
   "cell_type": "code",
   "execution_count": 72,
   "metadata": {},
   "outputs": [],
   "source": [
    "## Scaler"
   ]
  },
  {
   "cell_type": "code",
   "execution_count": 73,
   "metadata": {},
   "outputs": [],
   "source": [
    "from sklearn.preprocessing import MinMaxScaler"
   ]
  },
  {
   "cell_type": "code",
   "execution_count": 74,
   "metadata": {},
   "outputs": [],
   "source": [
    "scaler = MinMaxScaler()"
   ]
  },
  {
   "cell_type": "code",
   "execution_count": 75,
   "metadata": {},
   "outputs": [],
   "source": [
    "X_train = scaler.fit_transform(X_train)\n",
    "X_test = scaler.transform(X_test)"
   ]
  },
  {
   "cell_type": "code",
   "execution_count": 76,
   "metadata": {},
   "outputs": [
    {
     "data": {
      "text/plain": [
       "((408, 14), (72, 14))"
      ]
     },
     "execution_count": 76,
     "metadata": {},
     "output_type": "execute_result"
    }
   ],
   "source": [
    "X_train.shape,X_test.shape"
   ]
  },
  {
   "cell_type": "code",
   "execution_count": 77,
   "metadata": {},
   "outputs": [],
   "source": [
    "## Model building"
   ]
  },
  {
   "cell_type": "code",
   "execution_count": 78,
   "metadata": {},
   "outputs": [],
   "source": [
    "from tensorflow.keras.models import Sequential\n",
    "from tensorflow.keras.layers import Dense\n",
    "from tensorflow.keras.optimizers import Adam\n",
    "from tensorflow.keras.layers import Dropout"
   ]
  },
  {
   "cell_type": "code",
   "execution_count": 79,
   "metadata": {},
   "outputs": [],
   "source": [
    "model = Sequential()\n",
    "\n",
    "model.add(Dense(14,activation=\"relu\"))\n",
    "model.add(Dropout(0.5))\n",
    "model.add(Dense(14,activation=\"relu\"))\n",
    "model.add(Dropout(0.5))\n",
    "model.add(Dense(14,activation=\"relu\"))\n",
    "model.add(Dropout(0.5))\n",
    "\n",
    "model.add(Dense(units=1,activation='sigmoid'))\n",
    "model.compile(loss='binary_crossentropy', optimizer='adam')"
   ]
  },
  {
   "cell_type": "code",
   "execution_count": 80,
   "metadata": {},
   "outputs": [],
   "source": [
    "# Training"
   ]
  },
  {
   "cell_type": "code",
   "execution_count": 81,
   "metadata": {},
   "outputs": [],
   "source": [
    "from tensorflow.keras.callbacks import EarlyStopping\n",
    "early_stop = EarlyStopping(monitor='val_loss', mode='min', verbose=1, patience=20)"
   ]
  },
  {
   "cell_type": "code",
   "execution_count": 82,
   "metadata": {},
   "outputs": [
    {
     "name": "stdout",
     "output_type": "stream",
     "text": [
      "Train on 408 samples, validate on 72 samples\n",
      "Epoch 1/300\n",
      "408/408 [==============================] - 1s 1ms/sample - loss: 0.6833 - val_loss: 0.6398\n",
      "Epoch 2/300\n",
      "408/408 [==============================] - 0s 51us/sample - loss: 0.6832 - val_loss: 0.6404\n",
      "Epoch 3/300\n",
      "408/408 [==============================] - 0s 49us/sample - loss: 0.6907 - val_loss: 0.6409\n",
      "Epoch 4/300\n",
      "408/408 [==============================] - 0s 71us/sample - loss: 0.6662 - val_loss: 0.6394\n",
      "Epoch 5/300\n",
      "408/408 [==============================] - 0s 68us/sample - loss: 0.6735 - val_loss: 0.6379\n",
      "Epoch 6/300\n",
      "408/408 [==============================] - 0s 59us/sample - loss: 0.6367 - val_loss: 0.6362\n",
      "Epoch 7/300\n",
      "408/408 [==============================] - 0s 56us/sample - loss: 0.6296 - val_loss: 0.6317\n",
      "Epoch 8/300\n",
      "408/408 [==============================] - 0s 56us/sample - loss: 0.6613 - val_loss: 0.6282\n",
      "Epoch 9/300\n",
      "408/408 [==============================] - 0s 54us/sample - loss: 0.6550 - val_loss: 0.6287\n",
      "Epoch 10/300\n",
      "408/408 [==============================] - 0s 54us/sample - loss: 0.6690 - val_loss: 0.6284\n",
      "Epoch 11/300\n",
      "408/408 [==============================] - 0s 54us/sample - loss: 0.6363 - val_loss: 0.6273\n",
      "Epoch 12/300\n",
      "408/408 [==============================] - 0s 59us/sample - loss: 0.6397 - val_loss: 0.6253\n",
      "Epoch 13/300\n",
      "408/408 [==============================] - 0s 54us/sample - loss: 0.6291 - val_loss: 0.6243\n",
      "Epoch 14/300\n",
      "408/408 [==============================] - 0s 59us/sample - loss: 0.6432 - val_loss: 0.6227\n",
      "Epoch 15/300\n",
      "408/408 [==============================] - 0s 66us/sample - loss: 0.6287 - val_loss: 0.6198\n",
      "Epoch 16/300\n",
      "408/408 [==============================] - 0s 56us/sample - loss: 0.6326 - val_loss: 0.6181\n",
      "Epoch 17/300\n",
      "408/408 [==============================] - 0s 59us/sample - loss: 0.6351 - val_loss: 0.6168\n",
      "Epoch 18/300\n",
      "408/408 [==============================] - 0s 59us/sample - loss: 0.6236 - val_loss: 0.6149\n",
      "Epoch 19/300\n",
      "408/408 [==============================] - 0s 52us/sample - loss: 0.6233 - val_loss: 0.6128\n",
      "Epoch 20/300\n",
      "408/408 [==============================] - 0s 56us/sample - loss: 0.6152 - val_loss: 0.6104\n",
      "Epoch 21/300\n",
      "408/408 [==============================] - 0s 51us/sample - loss: 0.6404 - val_loss: 0.6092\n",
      "Epoch 22/300\n",
      "408/408 [==============================] - 0s 54us/sample - loss: 0.6329 - val_loss: 0.6095\n",
      "Epoch 23/300\n",
      "408/408 [==============================] - 0s 54us/sample - loss: 0.6477 - val_loss: 0.6114\n",
      "Epoch 24/300\n",
      "408/408 [==============================] - 0s 59us/sample - loss: 0.6261 - val_loss: 0.6113\n",
      "Epoch 25/300\n",
      "408/408 [==============================] - 0s 59us/sample - loss: 0.6391 - val_loss: 0.6093\n",
      "Epoch 26/300\n",
      "408/408 [==============================] - 0s 56us/sample - loss: 0.6212 - val_loss: 0.6078\n",
      "Epoch 27/300\n",
      "408/408 [==============================] - 0s 56us/sample - loss: 0.6140 - val_loss: 0.6059\n",
      "Epoch 28/300\n",
      "408/408 [==============================] - 0s 54us/sample - loss: 0.6198 - val_loss: 0.6046\n",
      "Epoch 29/300\n",
      "408/408 [==============================] - 0s 56us/sample - loss: 0.6206 - val_loss: 0.6034\n",
      "Epoch 30/300\n",
      "408/408 [==============================] - 0s 54us/sample - loss: 0.6245 - val_loss: 0.6037\n",
      "Epoch 31/300\n",
      "408/408 [==============================] - 0s 56us/sample - loss: 0.6229 - val_loss: 0.6045\n",
      "Epoch 32/300\n",
      "408/408 [==============================] - 0s 56us/sample - loss: 0.6132 - val_loss: 0.6034\n",
      "Epoch 33/300\n",
      "408/408 [==============================] - 0s 56us/sample - loss: 0.6005 - val_loss: 0.6014\n",
      "Epoch 34/300\n",
      "408/408 [==============================] - 0s 69us/sample - loss: 0.6043 - val_loss: 0.5994\n",
      "Epoch 35/300\n",
      "408/408 [==============================] - 0s 61us/sample - loss: 0.6196 - val_loss: 0.5977\n",
      "Epoch 36/300\n",
      "408/408 [==============================] - 0s 61us/sample - loss: 0.6093 - val_loss: 0.5965\n",
      "Epoch 37/300\n",
      "408/408 [==============================] - 0s 64us/sample - loss: 0.6165 - val_loss: 0.5965\n",
      "Epoch 38/300\n",
      "408/408 [==============================] - 0s 56us/sample - loss: 0.6096 - val_loss: 0.5954\n",
      "Epoch 39/300\n",
      "408/408 [==============================] - 0s 86us/sample - loss: 0.6023 - val_loss: 0.5944\n",
      "Epoch 40/300\n",
      "408/408 [==============================] - 0s 71us/sample - loss: 0.6204 - val_loss: 0.5939\n",
      "Epoch 41/300\n",
      "408/408 [==============================] - 0s 86us/sample - loss: 0.6077 - val_loss: 0.5940\n",
      "Epoch 42/300\n",
      "408/408 [==============================] - 0s 54us/sample - loss: 0.6095 - val_loss: 0.5923\n",
      "Epoch 43/300\n",
      "408/408 [==============================] - 0s 54us/sample - loss: 0.5944 - val_loss: 0.5909\n",
      "Epoch 44/300\n",
      "408/408 [==============================] - 0s 61us/sample - loss: 0.6025 - val_loss: 0.5889\n",
      "Epoch 45/300\n",
      "408/408 [==============================] - 0s 56us/sample - loss: 0.6067 - val_loss: 0.5878\n",
      "Epoch 46/300\n",
      "408/408 [==============================] - 0s 64us/sample - loss: 0.6026 - val_loss: 0.5878\n",
      "Epoch 47/300\n",
      "408/408 [==============================] - 0s 54us/sample - loss: 0.5963 - val_loss: 0.5866\n",
      "Epoch 48/300\n",
      "408/408 [==============================] - 0s 66us/sample - loss: 0.6062 - val_loss: 0.5856\n",
      "Epoch 49/300\n",
      "408/408 [==============================] - 0s 56us/sample - loss: 0.5791 - val_loss: 0.5835\n",
      "Epoch 50/300\n",
      "408/408 [==============================] - 0s 59us/sample - loss: 0.6000 - val_loss: 0.5808\n",
      "Epoch 51/300\n",
      "408/408 [==============================] - 0s 73us/sample - loss: 0.6010 - val_loss: 0.5803\n",
      "Epoch 52/300\n",
      "408/408 [==============================] - 0s 61us/sample - loss: 0.6219 - val_loss: 0.5794\n",
      "Epoch 53/300\n",
      "408/408 [==============================] - 0s 64us/sample - loss: 0.5934 - val_loss: 0.5787\n",
      "Epoch 54/300\n",
      "408/408 [==============================] - 0s 59us/sample - loss: 0.5838 - val_loss: 0.5776\n",
      "Epoch 55/300\n",
      "408/408 [==============================] - 0s 59us/sample - loss: 0.5739 - val_loss: 0.5744\n",
      "Epoch 56/300\n",
      "408/408 [==============================] - 0s 68us/sample - loss: 0.5996 - val_loss: 0.5723\n",
      "Epoch 57/300\n",
      "408/408 [==============================] - 0s 51us/sample - loss: 0.5887 - val_loss: 0.5704\n",
      "Epoch 58/300\n",
      "408/408 [==============================] - 0s 49us/sample - loss: 0.5908 - val_loss: 0.5704\n",
      "Epoch 59/300\n",
      "408/408 [==============================] - 0s 54us/sample - loss: 0.5686 - val_loss: 0.5679\n",
      "Epoch 60/300\n",
      "408/408 [==============================] - 0s 49us/sample - loss: 0.5918 - val_loss: 0.5647\n",
      "Epoch 61/300\n",
      "408/408 [==============================] - 0s 49us/sample - loss: 0.5770 - val_loss: 0.5639\n",
      "Epoch 62/300\n",
      "408/408 [==============================] - 0s 49us/sample - loss: 0.5515 - val_loss: 0.5629\n",
      "Epoch 63/300\n",
      "408/408 [==============================] - 0s 54us/sample - loss: 0.5608 - val_loss: 0.5592\n",
      "Epoch 64/300\n",
      "408/408 [==============================] - 0s 51us/sample - loss: 0.5677 - val_loss: 0.5565\n",
      "Epoch 65/300\n",
      "408/408 [==============================] - 0s 46us/sample - loss: 0.5487 - val_loss: 0.5552\n",
      "Epoch 66/300\n",
      "408/408 [==============================] - 0s 47us/sample - loss: 0.5741 - val_loss: 0.5535\n",
      "Epoch 67/300\n",
      "408/408 [==============================] - 0s 59us/sample - loss: 0.5656 - val_loss: 0.5530\n",
      "Epoch 68/300\n",
      "408/408 [==============================] - 0s 49us/sample - loss: 0.5639 - val_loss: 0.5519\n",
      "Epoch 69/300\n",
      "408/408 [==============================] - 0s 49us/sample - loss: 0.5591 - val_loss: 0.5512\n",
      "Epoch 70/300\n",
      "408/408 [==============================] - 0s 51us/sample - loss: 0.5761 - val_loss: 0.5503\n",
      "Epoch 71/300\n",
      "408/408 [==============================] - 0s 49us/sample - loss: 0.5339 - val_loss: 0.5477\n",
      "Epoch 72/300\n",
      "408/408 [==============================] - 0s 46us/sample - loss: 0.5552 - val_loss: 0.5467\n",
      "Epoch 73/300\n",
      "408/408 [==============================] - 0s 46us/sample - loss: 0.5435 - val_loss: 0.5444\n",
      "Epoch 74/300\n",
      "408/408 [==============================] - 0s 49us/sample - loss: 0.5780 - val_loss: 0.5452\n",
      "Epoch 75/300\n",
      "408/408 [==============================] - 0s 51us/sample - loss: 0.5749 - val_loss: 0.5474\n",
      "Epoch 76/300\n",
      "408/408 [==============================] - 0s 46us/sample - loss: 0.5278 - val_loss: 0.5473\n",
      "Epoch 77/300\n",
      "408/408 [==============================] - 0s 44us/sample - loss: 0.5273 - val_loss: 0.5468\n",
      "Epoch 78/300\n"
     ]
    },
    {
     "name": "stdout",
     "output_type": "stream",
     "text": [
      "408/408 [==============================] - 0s 46us/sample - loss: 0.5162 - val_loss: 0.5449\n",
      "Epoch 79/300\n",
      "408/408 [==============================] - 0s 64us/sample - loss: 0.5381 - val_loss: 0.5438\n",
      "Epoch 80/300\n",
      "408/408 [==============================] - 0s 49us/sample - loss: 0.5520 - val_loss: 0.5419\n",
      "Epoch 81/300\n",
      "408/408 [==============================] - 0s 46us/sample - loss: 0.5304 - val_loss: 0.5420\n",
      "Epoch 82/300\n",
      "408/408 [==============================] - 0s 54us/sample - loss: 0.5427 - val_loss: 0.5430\n",
      "Epoch 83/300\n",
      "408/408 [==============================] - 0s 46us/sample - loss: 0.5385 - val_loss: 0.5417\n",
      "Epoch 84/300\n",
      "408/408 [==============================] - 0s 49us/sample - loss: 0.5511 - val_loss: 0.5407\n",
      "Epoch 85/300\n",
      "408/408 [==============================] - 0s 51us/sample - loss: 0.5187 - val_loss: 0.5391\n",
      "Epoch 86/300\n",
      "408/408 [==============================] - 0s 51us/sample - loss: 0.5350 - val_loss: 0.5381\n",
      "Epoch 87/300\n",
      "408/408 [==============================] - 0s 51us/sample - loss: 0.5366 - val_loss: 0.5382\n",
      "Epoch 88/300\n",
      "408/408 [==============================] - 0s 49us/sample - loss: 0.5105 - val_loss: 0.5397\n",
      "Epoch 89/300\n",
      "408/408 [==============================] - 0s 47us/sample - loss: 0.5386 - val_loss: 0.5393\n",
      "Epoch 90/300\n",
      "408/408 [==============================] - 0s 49us/sample - loss: 0.5276 - val_loss: 0.5380\n",
      "Epoch 91/300\n",
      "408/408 [==============================] - 0s 46us/sample - loss: 0.5268 - val_loss: 0.5373\n",
      "Epoch 92/300\n",
      "408/408 [==============================] - 0s 49us/sample - loss: 0.5220 - val_loss: 0.5351\n",
      "Epoch 93/300\n",
      "408/408 [==============================] - 0s 49us/sample - loss: 0.5240 - val_loss: 0.5357\n",
      "Epoch 94/300\n",
      "408/408 [==============================] - ETA: 0s - loss: 0.586 - 0s 50us/sample - loss: 0.5486 - val_loss: 0.5359\n",
      "Epoch 95/300\n",
      "408/408 [==============================] - 0s 46us/sample - loss: 0.5319 - val_loss: 0.5369\n",
      "Epoch 96/300\n",
      "408/408 [==============================] - 0s 44us/sample - loss: 0.5004 - val_loss: 0.5360\n",
      "Epoch 97/300\n",
      "408/408 [==============================] - 0s 49us/sample - loss: 0.5646 - val_loss: 0.5386\n",
      "Epoch 98/300\n",
      "408/408 [==============================] - 0s 44us/sample - loss: 0.5080 - val_loss: 0.5396\n",
      "Epoch 99/300\n",
      "408/408 [==============================] - 0s 44us/sample - loss: 0.5158 - val_loss: 0.5389\n",
      "Epoch 100/300\n",
      "408/408 [==============================] - 0s 44us/sample - loss: 0.5343 - val_loss: 0.5365\n",
      "Epoch 101/300\n",
      "408/408 [==============================] - 0s 46us/sample - loss: 0.5129 - val_loss: 0.5344\n",
      "Epoch 102/300\n",
      "408/408 [==============================] - 0s 41us/sample - loss: 0.5360 - val_loss: 0.5353\n",
      "Epoch 103/300\n",
      "408/408 [==============================] - 0s 46us/sample - loss: 0.5039 - val_loss: 0.5345\n",
      "Epoch 104/300\n",
      "408/408 [==============================] - 0s 46us/sample - loss: 0.5129 - val_loss: 0.5355\n",
      "Epoch 105/300\n",
      "408/408 [==============================] - 0s 46us/sample - loss: 0.4936 - val_loss: 0.5350\n",
      "Epoch 106/300\n",
      "408/408 [==============================] - 0s 44us/sample - loss: 0.4985 - val_loss: 0.5335\n",
      "Epoch 107/300\n",
      "408/408 [==============================] - 0s 46us/sample - loss: 0.5083 - val_loss: 0.5337\n",
      "Epoch 108/300\n",
      "408/408 [==============================] - 0s 47us/sample - loss: 0.5148 - val_loss: 0.5324\n",
      "Epoch 109/300\n",
      "408/408 [==============================] - 0s 44us/sample - loss: 0.4983 - val_loss: 0.5310\n",
      "Epoch 110/300\n",
      "408/408 [==============================] - 0s 46us/sample - loss: 0.5444 - val_loss: 0.5299\n",
      "Epoch 111/300\n",
      "408/408 [==============================] - 0s 46us/sample - loss: 0.5305 - val_loss: 0.5306\n",
      "Epoch 112/300\n",
      "408/408 [==============================] - 0s 46us/sample - loss: 0.5057 - val_loss: 0.5313\n",
      "Epoch 113/300\n",
      "408/408 [==============================] - 0s 47us/sample - loss: 0.5156 - val_loss: 0.5308\n",
      "Epoch 114/300\n",
      "408/408 [==============================] - 0s 56us/sample - loss: 0.4873 - val_loss: 0.5299\n",
      "Epoch 115/300\n",
      "408/408 [==============================] - 0s 47us/sample - loss: 0.5172 - val_loss: 0.5293\n",
      "Epoch 116/300\n",
      "408/408 [==============================] - 0s 46us/sample - loss: 0.4860 - val_loss: 0.5315\n",
      "Epoch 117/300\n",
      "408/408 [==============================] - 0s 44us/sample - loss: 0.5134 - val_loss: 0.5326\n",
      "Epoch 118/300\n",
      "408/408 [==============================] - 0s 46us/sample - loss: 0.5185 - val_loss: 0.5352\n",
      "Epoch 119/300\n",
      "408/408 [==============================] - 0s 44us/sample - loss: 0.5168 - val_loss: 0.5365\n",
      "Epoch 120/300\n",
      "408/408 [==============================] - 0s 46us/sample - loss: 0.5028 - val_loss: 0.5368\n",
      "Epoch 121/300\n",
      "408/408 [==============================] - 0s 46us/sample - loss: 0.4937 - val_loss: 0.5351\n",
      "Epoch 122/300\n",
      "408/408 [==============================] - 0s 49us/sample - loss: 0.5256 - val_loss: 0.5334\n",
      "Epoch 123/300\n",
      "408/408 [==============================] - 0s 51us/sample - loss: 0.4944 - val_loss: 0.5348\n",
      "Epoch 124/300\n",
      "408/408 [==============================] - 0s 57us/sample - loss: 0.5174 - val_loss: 0.5337\n",
      "Epoch 125/300\n",
      "408/408 [==============================] - 0s 61us/sample - loss: 0.5160 - val_loss: 0.5317\n",
      "Epoch 126/300\n",
      "408/408 [==============================] - 0s 59us/sample - loss: 0.4915 - val_loss: 0.5320\n",
      "Epoch 127/300\n",
      "408/408 [==============================] - 0s 64us/sample - loss: 0.4874 - val_loss: 0.5330\n",
      "Epoch 128/300\n",
      "408/408 [==============================] - 0s 63us/sample - loss: 0.5272 - val_loss: 0.5340\n",
      "Epoch 129/300\n",
      "408/408 [==============================] - 0s 56us/sample - loss: 0.5005 - val_loss: 0.5337\n",
      "Epoch 130/300\n",
      "408/408 [==============================] - 0s 68us/sample - loss: 0.5148 - val_loss: 0.5318\n",
      "Epoch 131/300\n",
      "408/408 [==============================] - 0s 59us/sample - loss: 0.5066 - val_loss: 0.5310\n",
      "Epoch 132/300\n",
      "408/408 [==============================] - 0s 59us/sample - loss: 0.5253 - val_loss: 0.5329\n",
      "Epoch 133/300\n",
      "408/408 [==============================] - 0s 59us/sample - loss: 0.5237 - val_loss: 0.5342\n",
      "Epoch 134/300\n",
      "408/408 [==============================] - 0s 54us/sample - loss: 0.5307 - val_loss: 0.5352\n",
      "Epoch 135/300\n",
      "408/408 [==============================] - 0s 66us/sample - loss: 0.5222 - val_loss: 0.5350\n",
      "Epoch 00135: early stopping\n"
     ]
    },
    {
     "data": {
      "text/plain": [
       "<tensorflow.python.keras.callbacks.History at 0x26455b89978>"
      ]
     },
     "execution_count": 82,
     "metadata": {},
     "output_type": "execute_result"
    }
   ],
   "source": [
    "model.fit(x=X_train,y=y_train,validation_data=(X_test,y_test),epochs=300,batch_size=32,verbose=1,callbacks=[early_stop])"
   ]
  },
  {
   "cell_type": "code",
   "execution_count": 83,
   "metadata": {},
   "outputs": [
    {
     "data": {
      "text/plain": [
       "<matplotlib.axes._subplots.AxesSubplot at 0x26455fdf4a8>"
      ]
     },
     "execution_count": 83,
     "metadata": {},
     "output_type": "execute_result"
    },
    {
     "data": {
      "image/png": "[encoded data removed]",
      "text/plain": [
       "<Figure size 432x288 with 1 Axes>"
      ]
     },
     "metadata": {
      "needs_background": "light"
     },
     "output_type": "display_data"
    }
   ],
   "source": [
    "losses = pd.DataFrame(model.history.history)\n",
    "losses.plot()"
   ]
  },
  {
   "cell_type": "code",
   "execution_count": 84,
   "metadata": {},
   "outputs": [],
   "source": [
    "## Evaluation"
   ]
  },
  {
   "cell_type": "code",
   "execution_count": 85,
   "metadata": {},
   "outputs": [
    {
     "data": {
      "text/plain": [
       "((72, 1), (72,))"
      ]
     },
     "execution_count": 85,
     "metadata": {},
     "output_type": "execute_result"
    }
   ],
   "source": [
    "predictions = model.predict_classes(X_test)\n",
    "\n",
    "predictions.shape,y_test.shape"
   ]
  },
  {
   "cell_type": "code",
   "execution_count": 86,
   "metadata": {},
   "outputs": [
    {
     "name": "stdout",
     "output_type": "stream",
     "text": [
      "[[ 6 15]\n",
      " [ 1 50]]\n"
     ]
    }
   ],
   "source": [
    "from sklearn.metrics import classification_report,confusion_matrix\n",
    "print(confusion_matrix(y_test,predictions))"
   ]
  },
  {
   "cell_type": "code",
   "execution_count": 87,
   "metadata": {},
   "outputs": [
    {
     "name": "stdout",
     "output_type": "stream",
     "text": [
      "The accuracy is:  0.7777777777777778\n"
     ]
    }
   ],
   "source": [
    "from sklearn import metrics\n",
    "print('The accuracy is: ', metrics.accuracy_score(predictions, y_test))"
   ]
  }
 ],
 "metadata": {
  "kernelspec": {
   "display_name": "Python 3",
   "language": "python",
   "name": "python3"
  },
  "language_info": {
   "codemirror_mode": {
    "name": "ipython",
    "version": 3
   },
   "file_extension": ".py",
   "mimetype": "text/x-python",
   "name": "python",
   "nbconvert_exporter": "python",
   "pygments_lexer": "ipython3",
   "version": "3.6.9"
  }
 },
 "nbformat": 4,
 "nbformat_minor": 2
}
