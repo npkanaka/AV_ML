{
 "cells": [
  {
   "cell_type": "code",
   "execution_count": 1,
   "metadata": {},
   "outputs": [],
   "source": [
    "import pandas as pd\n",
    "import numpy as np\n",
    "\n",
    "import matplotlib.pyplot as plt\n",
    "import seaborn as sns"
   ]
  },
  {
   "cell_type": "code",
   "execution_count": 2,
   "metadata": {},
   "outputs": [
    {
     "data": {
      "text/plain": [
       "550068"
      ]
     },
     "execution_count": 2,
     "metadata": {},
     "output_type": "execute_result"
    }
   ],
   "source": [
    "df = pd.read_csv(\"train.csv\")\n",
    "len(df)"
   ]
  },
  {
   "cell_type": "code",
   "execution_count": 3,
   "metadata": {},
   "outputs": [
    {
     "name": "stdout",
     "output_type": "stream",
     "text": [
      "<class 'pandas.core.frame.DataFrame'>\n",
      "RangeIndex: 550068 entries, 0 to 550067\n",
      "Data columns (total 12 columns):\n",
      "User_ID                       550068 non-null int64\n",
      "Product_ID                    550068 non-null object\n",
      "Gender                        550068 non-null object\n",
      "Age                           550068 non-null object\n",
      "Occupation                    550068 non-null int64\n",
      "City_Category                 550068 non-null object\n",
      "Stay_In_Current_City_Years    550068 non-null object\n",
      "Marital_Status                550068 non-null int64\n",
      "Product_Category_1            550068 non-null int64\n",
      "Product_Category_2            376430 non-null float64\n",
      "Product_Category_3            166821 non-null float64\n",
      "Purchase                      550068 non-null int64\n",
      "dtypes: float64(2), int64(5), object(5)\n",
      "memory usage: 50.4+ MB\n"
     ]
    }
   ],
   "source": [
    "df.info()"
   ]
  },
  {
   "cell_type": "code",
   "execution_count": 4,
   "metadata": {},
   "outputs": [
    {
     "data": {
      "text/plain": [
       "0                        User_ID\n",
       "1                     Product_ID\n",
       "2                         Gender\n",
       "3                            Age\n",
       "4                     Occupation\n",
       "5                  City_Category\n",
       "6     Stay_In_Current_City_Years\n",
       "7                 Marital_Status\n",
       "8             Product_Category_1\n",
       "9             Product_Category_2\n",
       "10            Product_Category_3\n",
       "11                      Purchase\n",
       "dtype: object"
      ]
     },
     "execution_count": 4,
     "metadata": {},
     "output_type": "execute_result"
    }
   ],
   "source": [
    "pd.Series(df.columns)"
   ]
  },
  {
   "cell_type": "code",
   "execution_count": 5,
   "metadata": {},
   "outputs": [],
   "source": [
    "df = df.drop(['Product_ID','User_ID'],axis=1)"
   ]
  },
  {
   "cell_type": "code",
   "execution_count": 6,
   "metadata": {},
   "outputs": [],
   "source": [
    "# Gender"
   ]
  },
  {
   "cell_type": "code",
   "execution_count": 7,
   "metadata": {},
   "outputs": [
    {
     "data": {
      "text/plain": [
       "M    414259\n",
       "F    135809\n",
       "Name: Gender, dtype: int64"
      ]
     },
     "execution_count": 7,
     "metadata": {},
     "output_type": "execute_result"
    }
   ],
   "source": [
    "df['Gender'].value_counts()"
   ]
  },
  {
   "cell_type": "code",
   "execution_count": 8,
   "metadata": {},
   "outputs": [
    {
     "data": {
      "text/plain": [
       "<matplotlib.axes._subplots.AxesSubplot at 0x228e9cf34a8>"
      ]
     },
     "execution_count": 8,
     "metadata": {},
     "output_type": "execute_result"
    },
    {
     "data": {
      "image/png": "[encoded data removed]",
      "text/plain": [
       "<Figure size 432x288 with 1 Axes>"
      ]
     },
     "metadata": {
      "needs_background": "light"
     },
     "output_type": "display_data"
    }
   ],
   "source": [
    "sns.countplot(df['Gender'])"
   ]
  },
  {
   "cell_type": "code",
   "execution_count": 9,
   "metadata": {},
   "outputs": [],
   "source": [
    "df = pd.get_dummies(df, columns=['Gender'], drop_first=True)"
   ]
  },
  {
   "cell_type": "code",
   "execution_count": 10,
   "metadata": {},
   "outputs": [],
   "source": [
    "# Age"
   ]
  },
  {
   "cell_type": "code",
   "execution_count": 11,
   "metadata": {
    "scrolled": true
   },
   "outputs": [
    {
     "data": {
      "text/plain": [
       "{'0-17': 1,\n",
       " '18-25': 2,\n",
       " '26-35': 3,\n",
       " '36-45': 4,\n",
       " '46-50': 5,\n",
       " '51-55': 6,\n",
       " '55+': 7}"
      ]
     },
     "execution_count": 11,
     "metadata": {},
     "output_type": "execute_result"
    }
   ],
   "source": [
    "resetter = pd.DataFrame(df.Age.value_counts().sort_index()).drop('Age',axis=1)\n",
    "resetter.reset_index(level=0, inplace=True)\n",
    "resetter.index += 1\n",
    "resetter.reset_index(level=0, inplace=True)\n",
    "resetter = resetter.set_index('index')\n",
    "resetter = resetter.to_dict().get('level_0')\n",
    "resetter"
   ]
  },
  {
   "cell_type": "code",
   "execution_count": 12,
   "metadata": {},
   "outputs": [
    {
     "data": {
      "text/plain": [
       "3    219587\n",
       "4    110013\n",
       "2     99660\n",
       "5     45701\n",
       "6     38501\n",
       "7     21504\n",
       "1     15102\n",
       "Name: Age, dtype: int64"
      ]
     },
     "execution_count": 12,
     "metadata": {},
     "output_type": "execute_result"
    }
   ],
   "source": [
    "df['Age'] = df['Age'].map(resetter)\n",
    "df['Age'].value_counts()"
   ]
  },
  {
   "cell_type": "code",
   "execution_count": 13,
   "metadata": {},
   "outputs": [],
   "source": [
    "# City Category"
   ]
  },
  {
   "cell_type": "code",
   "execution_count": 14,
   "metadata": {},
   "outputs": [
    {
     "data": {
      "text/plain": [
       "B    231173\n",
       "C    171175\n",
       "A    147720\n",
       "Name: City_Category, dtype: int64"
      ]
     },
     "execution_count": 14,
     "metadata": {},
     "output_type": "execute_result"
    }
   ],
   "source": [
    "df.City_Category.value_counts()"
   ]
  },
  {
   "cell_type": "code",
   "execution_count": 15,
   "metadata": {},
   "outputs": [],
   "source": [
    "df = pd.get_dummies(df, columns=['City_Category'], drop_first=True)"
   ]
  },
  {
   "cell_type": "code",
   "execution_count": 16,
   "metadata": {},
   "outputs": [],
   "source": [
    "# Stay in current city"
   ]
  },
  {
   "cell_type": "code",
   "execution_count": 17,
   "metadata": {},
   "outputs": [
    {
     "data": {
      "text/plain": [
       "1     193821\n",
       "2     101838\n",
       "3      95285\n",
       "4+     84726\n",
       "0      74398\n",
       "Name: Stay_In_Current_City_Years, dtype: int64"
      ]
     },
     "execution_count": 17,
     "metadata": {},
     "output_type": "execute_result"
    }
   ],
   "source": [
    "df.Stay_In_Current_City_Years.value_counts()"
   ]
  },
  {
   "cell_type": "code",
   "execution_count": 18,
   "metadata": {},
   "outputs": [],
   "source": [
    "df.loc[df['Stay_In_Current_City_Years'] == '4+',\"Stay_In_Current_City_Years\"] = 4"
   ]
  },
  {
   "cell_type": "code",
   "execution_count": 19,
   "metadata": {},
   "outputs": [],
   "source": [
    "df.Stay_In_Current_City_Years = df.Stay_In_Current_City_Years.astype(int)"
   ]
  },
  {
   "cell_type": "code",
   "execution_count": 20,
   "metadata": {},
   "outputs": [],
   "source": [
    "# Marital_Status"
   ]
  },
  {
   "cell_type": "code",
   "execution_count": 21,
   "metadata": {},
   "outputs": [
    {
     "data": {
      "text/plain": [
       "<matplotlib.axes._subplots.AxesSubplot at 0x228e8aaeef0>"
      ]
     },
     "execution_count": 21,
     "metadata": {},
     "output_type": "execute_result"
    },
    {
     "data": {
      "image/png": "[encoded data removed]",
      "text/plain": [
       "<Figure size 432x288 with 1 Axes>"
      ]
     },
     "metadata": {
      "needs_background": "light"
     },
     "output_type": "display_data"
    }
   ],
   "source": [
    "sns.countplot(df.Marital_Status)"
   ]
  },
  {
   "cell_type": "code",
   "execution_count": 22,
   "metadata": {},
   "outputs": [],
   "source": [
    "# City_Category"
   ]
  },
  {
   "cell_type": "code",
   "execution_count": 23,
   "metadata": {},
   "outputs": [
    {
     "data": {
      "text/plain": [
       "<matplotlib.axes._subplots.AxesSubplot at 0x228e9b517b8>"
      ]
     },
     "execution_count": 23,
     "metadata": {},
     "output_type": "execute_result"
    },
    {
     "data": {
      "image/png": "[encoded data removed]",
      "text/plain": [
       "<Figure size 432x288 with 1 Axes>"
      ]
     },
     "metadata": {
      "needs_background": "light"
     },
     "output_type": "display_data"
    }
   ],
   "source": [
    "sns.countplot(df.City_Category_B)"
   ]
  },
  {
   "cell_type": "code",
   "execution_count": 24,
   "metadata": {},
   "outputs": [],
   "source": [
    "# Product Category"
   ]
  },
  {
   "cell_type": "code",
   "execution_count": 25,
   "metadata": {},
   "outputs": [],
   "source": [
    "df.Product_Category_1 = df.Product_Category_1.astype(float)"
   ]
  },
  {
   "cell_type": "code",
   "execution_count": 26,
   "metadata": {},
   "outputs": [],
   "source": [
    "from collections import Counter"
   ]
  },
  {
   "cell_type": "code",
   "execution_count": 27,
   "metadata": {},
   "outputs": [
    {
     "data": {
      "text/plain": [
       "([(5.0, 193826),\n",
       "  (8.0, 190575),\n",
       "  (1.0, 140378),\n",
       "  (16.0, 85719),\n",
       "  (14.0, 75059),\n",
       "  (2.0, 73081),\n",
       "  (15.0, 72158),\n",
       "  (6.0, 41822),\n",
       "  (11.0, 40226),\n",
       "  (4.0, 39305),\n",
       "  (17.0, 30600),\n",
       "  (3.0, 23710),\n",
       "  (13.0, 21539),\n",
       "  (12.0, 18721),\n",
       "  (9.0, 17682),\n",
       "  (18.0, 10524),\n",
       "  (10.0, 9894),\n",
       "  (7.0, 4347),\n",
       "  (20.0, 2550),\n",
       "  (19.0, 1603)],\n",
       " 20)"
      ]
     },
     "execution_count": 27,
     "metadata": {},
     "output_type": "execute_result"
    }
   ],
   "source": [
    "all_c = dict(Counter(df.Product_Category_3.value_counts().sort_index().to_dict()) + Counter(df.Product_Category_2.value_counts().sort_index().to_dict()) + Counter(df.Product_Category_1.value_counts().sort_index().to_dict()))\n",
    "all_c = sorted(all_c.items(), key=lambda x: x[1], reverse=True)\n",
    "\n",
    "all_c,len(all_c)"
   ]
  },
  {
   "cell_type": "code",
   "execution_count": 28,
   "metadata": {},
   "outputs": [],
   "source": [
    "list_of_cat = []\n",
    "rest_of_cat = []\n",
    "def prod_cat_label(limit):\n",
    "    ca_c = 0\n",
    "    for i in range(len(all_c)):\n",
    "        if(i<limit):\n",
    "            ca_c = ca_c + all_c[i][1]\n",
    "            list_of_cat.append(all_c[i][0])\n",
    "        else:\n",
    "            rest_of_cat.append(all_c[i][0])\n",
    "    for i in list_of_cat:\n",
    "        df['prod_cat_'+str(i)] = (df['Product_Category_1']==i) | (df['Product_Category_2']==i) | (df['Product_Category_3']==i)\n",
    "        df['prod_cat_'+str(i)] = df['prod_cat_'+str(i)].astype(int)\n",
    "    df['rest_cat'] = 0    \n",
    "    for i in rest_of_cat:\n",
    "        df['rest_cat'] = (df['rest_cat']) | (df['Product_Category_1']==i) | (df['Product_Category_2']==i) | (df['Product_Category_3']==i)\n",
    "    df['rest_cat'] = df['rest_cat'].astype(int)    \n",
    "    return ca_c"
   ]
  },
  {
   "cell_type": "code",
   "execution_count": 29,
   "metadata": {},
   "outputs": [
    {
     "name": "stdout",
     "output_type": "stream",
     "text": [
      "[5.0, 8.0, 1.0, 16.0, 14.0] [2.0, 15.0, 6.0, 11.0, 4.0, 17.0, 3.0, 13.0, 12.0, 9.0, 18.0, 10.0, 7.0, 20.0, 19.0]\n"
     ]
    },
    {
     "data": {
      "text/plain": [
       "(1093319, 685557, 407762)"
      ]
     },
     "execution_count": 29,
     "metadata": {},
     "output_type": "execute_result"
    }
   ],
   "source": [
    "total_c = 0\n",
    "for i in range(len(all_c)):\n",
    "    total_c += all_c[i][1]\n",
    "\n",
    "ca_c = prod_cat_label(5)                                    # Product category feature encoding limit\n",
    "print(list_of_cat,rest_of_cat)\n",
    "total_c,ca_c,total_c-ca_c"
   ]
  },
  {
   "cell_type": "code",
   "execution_count": null,
   "metadata": {},
   "outputs": [],
   "source": []
  },
  {
   "cell_type": "code",
   "execution_count": 30,
   "metadata": {},
   "outputs": [
    {
     "data": {
      "text/plain": [
       "1    297365\n",
       "0    252703\n",
       "Name: rest_cat, dtype: int64"
      ]
     },
     "execution_count": 30,
     "metadata": {},
     "output_type": "execute_result"
    }
   ],
   "source": [
    "df = df.drop(['Product_Category_1','Product_Category_2','Product_Category_3'],axis=1)\n",
    "df.rest_cat.value_counts()"
   ]
  },
  {
   "cell_type": "code",
   "execution_count": 31,
   "metadata": {},
   "outputs": [],
   "source": [
    "# Occupation"
   ]
  },
  {
   "cell_type": "code",
   "execution_count": 32,
   "metadata": {},
   "outputs": [
    {
     "data": {
      "text/plain": [
       "([(8, 1546),\n",
       "  (9, 6291),\n",
       "  (18, 6622),\n",
       "  (13, 7728),\n",
       "  (19, 8461),\n",
       "  (11, 11586),\n",
       "  (15, 12165),\n",
       "  (5, 12177),\n",
       "  (10, 12930),\n",
       "  (3, 17650),\n",
       "  (6, 20355),\n",
       "  (16, 25371),\n",
       "  (2, 26588),\n",
       "  (14, 27309),\n",
       "  (12, 31179),\n",
       "  (20, 33562),\n",
       "  (17, 40043),\n",
       "  (1, 47426),\n",
       "  (7, 59133),\n",
       "  (0, 69638),\n",
       "  (4, 72308)],\n",
       " 21)"
      ]
     },
     "execution_count": 32,
     "metadata": {},
     "output_type": "execute_result"
    }
   ],
   "source": [
    "all_o = dict(df.Occupation.value_counts().sort_values(ascending = True))\n",
    "all_o = [(k, v) for k, v in all_o.items()]\n",
    "all_o,len(all_o)"
   ]
  },
  {
   "cell_type": "code",
   "execution_count": 33,
   "metadata": {},
   "outputs": [],
   "source": [
    "total_o = 0\n",
    "rm_o = 0\n",
    "for i in range(len(all_o)):\n",
    "    total_o += all_o[i][1]"
   ]
  },
  {
   "cell_type": "code",
   "execution_count": 34,
   "metadata": {},
   "outputs": [
    {
     "data": {
      "text/plain": [
       "(550068, 549887, 181)"
      ]
     },
     "execution_count": 34,
     "metadata": {},
     "output_type": "execute_result"
    }
   ],
   "source": [
    "df = pd.get_dummies(df, columns=['Occupation'])\n",
    "def pro_o_label(limit,df):\n",
    "    rm_o = 0\n",
    "    limit = len(all_o) - limit\n",
    "    for i in range(limit):\n",
    "        rm_o = rm_o + all_o[i][0]\n",
    "        df = df.drop(['Occupation_'+str(all_o[i][0])],axis=1)\n",
    "    return df,rm_o \n",
    "df,rm_o = pro_o_label(5,df)                                              # Occupation category feature encoding limit\n",
    "total_o,total_o-rm_o,rm_o\n"
   ]
  },
  {
   "cell_type": "code",
   "execution_count": 35,
   "metadata": {},
   "outputs": [],
   "source": [
    "# EDA 2.0"
   ]
  },
  {
   "cell_type": "code",
   "execution_count": 36,
   "metadata": {},
   "outputs": [
    {
     "data": {
      "text/html": [
       "<div>\n",
       "<style scoped>\n",
       "    .dataframe tbody tr th:only-of-type {\n",
       "        vertical-align: middle;\n",
       "    }\n",
       "\n",
       "    .dataframe tbody tr th {\n",
       "        vertical-align: top;\n",
       "    }\n",
       "\n",
       "    .dataframe thead th {\n",
       "        text-align: right;\n",
       "    }\n",
       "</style>\n",
       "<table border=\"1\" class=\"dataframe\">\n",
       "  <thead>\n",
       "    <tr style=\"text-align: right;\">\n",
       "      <th></th>\n",
       "      <th>Age</th>\n",
       "      <th>Stay_In_Current_City_Years</th>\n",
       "      <th>Marital_Status</th>\n",
       "      <th>Purchase</th>\n",
       "      <th>Gender_M</th>\n",
       "      <th>City_Category_B</th>\n",
       "      <th>City_Category_C</th>\n",
       "      <th>prod_cat_5.0</th>\n",
       "      <th>prod_cat_8.0</th>\n",
       "      <th>prod_cat_1.0</th>\n",
       "      <th>prod_cat_16.0</th>\n",
       "      <th>prod_cat_14.0</th>\n",
       "      <th>rest_cat</th>\n",
       "      <th>Occupation_0</th>\n",
       "      <th>Occupation_1</th>\n",
       "      <th>Occupation_4</th>\n",
       "      <th>Occupation_7</th>\n",
       "      <th>Occupation_17</th>\n",
       "    </tr>\n",
       "  </thead>\n",
       "  <tbody>\n",
       "    <tr>\n",
       "      <td>count</td>\n",
       "      <td>550068.000000</td>\n",
       "      <td>550068.000000</td>\n",
       "      <td>550068.000000</td>\n",
       "      <td>550068.000000</td>\n",
       "      <td>550068.000000</td>\n",
       "      <td>550068.000000</td>\n",
       "      <td>550068.000000</td>\n",
       "      <td>550068.000000</td>\n",
       "      <td>550068.000000</td>\n",
       "      <td>550068.000000</td>\n",
       "      <td>550068.000000</td>\n",
       "      <td>550068.000000</td>\n",
       "      <td>550068.000000</td>\n",
       "      <td>550068.000000</td>\n",
       "      <td>550068.000000</td>\n",
       "      <td>550068.000000</td>\n",
       "      <td>550068.000000</td>\n",
       "      <td>550068.000000</td>\n",
       "    </tr>\n",
       "    <tr>\n",
       "      <td>mean</td>\n",
       "      <td>3.496430</td>\n",
       "      <td>1.858418</td>\n",
       "      <td>0.409653</td>\n",
       "      <td>9263.968713</td>\n",
       "      <td>0.753105</td>\n",
       "      <td>0.420263</td>\n",
       "      <td>0.311189</td>\n",
       "      <td>0.352367</td>\n",
       "      <td>0.346457</td>\n",
       "      <td>0.255201</td>\n",
       "      <td>0.155833</td>\n",
       "      <td>0.136454</td>\n",
       "      <td>0.540597</td>\n",
       "      <td>0.126599</td>\n",
       "      <td>0.086218</td>\n",
       "      <td>0.131453</td>\n",
       "      <td>0.107501</td>\n",
       "      <td>0.072796</td>\n",
       "    </tr>\n",
       "    <tr>\n",
       "      <td>std</td>\n",
       "      <td>1.353632</td>\n",
       "      <td>1.289443</td>\n",
       "      <td>0.491770</td>\n",
       "      <td>5023.065394</td>\n",
       "      <td>0.431205</td>\n",
       "      <td>0.493601</td>\n",
       "      <td>0.462980</td>\n",
       "      <td>0.477708</td>\n",
       "      <td>0.475841</td>\n",
       "      <td>0.435975</td>\n",
       "      <td>0.362698</td>\n",
       "      <td>0.343270</td>\n",
       "      <td>0.498350</td>\n",
       "      <td>0.332523</td>\n",
       "      <td>0.280687</td>\n",
       "      <td>0.337895</td>\n",
       "      <td>0.309750</td>\n",
       "      <td>0.259802</td>\n",
       "    </tr>\n",
       "    <tr>\n",
       "      <td>min</td>\n",
       "      <td>1.000000</td>\n",
       "      <td>0.000000</td>\n",
       "      <td>0.000000</td>\n",
       "      <td>12.000000</td>\n",
       "      <td>0.000000</td>\n",
       "      <td>0.000000</td>\n",
       "      <td>0.000000</td>\n",
       "      <td>0.000000</td>\n",
       "      <td>0.000000</td>\n",
       "      <td>0.000000</td>\n",
       "      <td>0.000000</td>\n",
       "      <td>0.000000</td>\n",
       "      <td>0.000000</td>\n",
       "      <td>0.000000</td>\n",
       "      <td>0.000000</td>\n",
       "      <td>0.000000</td>\n",
       "      <td>0.000000</td>\n",
       "      <td>0.000000</td>\n",
       "    </tr>\n",
       "    <tr>\n",
       "      <td>25%</td>\n",
       "      <td>3.000000</td>\n",
       "      <td>1.000000</td>\n",
       "      <td>0.000000</td>\n",
       "      <td>5823.000000</td>\n",
       "      <td>1.000000</td>\n",
       "      <td>0.000000</td>\n",
       "      <td>0.000000</td>\n",
       "      <td>0.000000</td>\n",
       "      <td>0.000000</td>\n",
       "      <td>0.000000</td>\n",
       "      <td>0.000000</td>\n",
       "      <td>0.000000</td>\n",
       "      <td>0.000000</td>\n",
       "      <td>0.000000</td>\n",
       "      <td>0.000000</td>\n",
       "      <td>0.000000</td>\n",
       "      <td>0.000000</td>\n",
       "      <td>0.000000</td>\n",
       "    </tr>\n",
       "    <tr>\n",
       "      <td>50%</td>\n",
       "      <td>3.000000</td>\n",
       "      <td>2.000000</td>\n",
       "      <td>0.000000</td>\n",
       "      <td>8047.000000</td>\n",
       "      <td>1.000000</td>\n",
       "      <td>0.000000</td>\n",
       "      <td>0.000000</td>\n",
       "      <td>0.000000</td>\n",
       "      <td>0.000000</td>\n",
       "      <td>0.000000</td>\n",
       "      <td>0.000000</td>\n",
       "      <td>0.000000</td>\n",
       "      <td>1.000000</td>\n",
       "      <td>0.000000</td>\n",
       "      <td>0.000000</td>\n",
       "      <td>0.000000</td>\n",
       "      <td>0.000000</td>\n",
       "      <td>0.000000</td>\n",
       "    </tr>\n",
       "    <tr>\n",
       "      <td>75%</td>\n",
       "      <td>4.000000</td>\n",
       "      <td>3.000000</td>\n",
       "      <td>1.000000</td>\n",
       "      <td>12054.000000</td>\n",
       "      <td>1.000000</td>\n",
       "      <td>1.000000</td>\n",
       "      <td>1.000000</td>\n",
       "      <td>1.000000</td>\n",
       "      <td>1.000000</td>\n",
       "      <td>1.000000</td>\n",
       "      <td>0.000000</td>\n",
       "      <td>0.000000</td>\n",
       "      <td>1.000000</td>\n",
       "      <td>0.000000</td>\n",
       "      <td>0.000000</td>\n",
       "      <td>0.000000</td>\n",
       "      <td>0.000000</td>\n",
       "      <td>0.000000</td>\n",
       "    </tr>\n",
       "    <tr>\n",
       "      <td>max</td>\n",
       "      <td>7.000000</td>\n",
       "      <td>4.000000</td>\n",
       "      <td>1.000000</td>\n",
       "      <td>23961.000000</td>\n",
       "      <td>1.000000</td>\n",
       "      <td>1.000000</td>\n",
       "      <td>1.000000</td>\n",
       "      <td>1.000000</td>\n",
       "      <td>1.000000</td>\n",
       "      <td>1.000000</td>\n",
       "      <td>1.000000</td>\n",
       "      <td>1.000000</td>\n",
       "      <td>1.000000</td>\n",
       "      <td>1.000000</td>\n",
       "      <td>1.000000</td>\n",
       "      <td>1.000000</td>\n",
       "      <td>1.000000</td>\n",
       "      <td>1.000000</td>\n",
       "    </tr>\n",
       "  </tbody>\n",
       "</table>\n",
       "</div>"
      ],
      "text/plain": [
       "                 Age  Stay_In_Current_City_Years  Marital_Status  \\\n",
       "count  550068.000000               550068.000000   550068.000000   \n",
       "mean        3.496430                    1.858418        0.409653   \n",
       "std         1.353632                    1.289443        0.491770   \n",
       "min         1.000000                    0.000000        0.000000   \n",
       "25%         3.000000                    1.000000        0.000000   \n",
       "50%         3.000000                    2.000000        0.000000   \n",
       "75%         4.000000                    3.000000        1.000000   \n",
       "max         7.000000                    4.000000        1.000000   \n",
       "\n",
       "            Purchase       Gender_M  City_Category_B  City_Category_C  \\\n",
       "count  550068.000000  550068.000000    550068.000000    550068.000000   \n",
       "mean     9263.968713       0.753105         0.420263         0.311189   \n",
       "std      5023.065394       0.431205         0.493601         0.462980   \n",
       "min        12.000000       0.000000         0.000000         0.000000   \n",
       "25%      5823.000000       1.000000         0.000000         0.000000   \n",
       "50%      8047.000000       1.000000         0.000000         0.000000   \n",
       "75%     12054.000000       1.000000         1.000000         1.000000   \n",
       "max     23961.000000       1.000000         1.000000         1.000000   \n",
       "\n",
       "        prod_cat_5.0   prod_cat_8.0   prod_cat_1.0  prod_cat_16.0  \\\n",
       "count  550068.000000  550068.000000  550068.000000  550068.000000   \n",
       "mean        0.352367       0.346457       0.255201       0.155833   \n",
       "std         0.477708       0.475841       0.435975       0.362698   \n",
       "min         0.000000       0.000000       0.000000       0.000000   \n",
       "25%         0.000000       0.000000       0.000000       0.000000   \n",
       "50%         0.000000       0.000000       0.000000       0.000000   \n",
       "75%         1.000000       1.000000       1.000000       0.000000   \n",
       "max         1.000000       1.000000       1.000000       1.000000   \n",
       "\n",
       "       prod_cat_14.0       rest_cat   Occupation_0   Occupation_1  \\\n",
       "count  550068.000000  550068.000000  550068.000000  550068.000000   \n",
       "mean        0.136454       0.540597       0.126599       0.086218   \n",
       "std         0.343270       0.498350       0.332523       0.280687   \n",
       "min         0.000000       0.000000       0.000000       0.000000   \n",
       "25%         0.000000       0.000000       0.000000       0.000000   \n",
       "50%         0.000000       1.000000       0.000000       0.000000   \n",
       "75%         0.000000       1.000000       0.000000       0.000000   \n",
       "max         1.000000       1.000000       1.000000       1.000000   \n",
       "\n",
       "        Occupation_4   Occupation_7  Occupation_17  \n",
       "count  550068.000000  550068.000000  550068.000000  \n",
       "mean        0.131453       0.107501       0.072796  \n",
       "std         0.337895       0.309750       0.259802  \n",
       "min         0.000000       0.000000       0.000000  \n",
       "25%         0.000000       0.000000       0.000000  \n",
       "50%         0.000000       0.000000       0.000000  \n",
       "75%         0.000000       0.000000       0.000000  \n",
       "max         1.000000       1.000000       1.000000  "
      ]
     },
     "execution_count": 36,
     "metadata": {},
     "output_type": "execute_result"
    }
   ],
   "source": [
    "df.describe()"
   ]
  },
  {
   "cell_type": "code",
   "execution_count": 37,
   "metadata": {},
   "outputs": [
    {
     "data": {
      "text/plain": [
       "prod_cat_5.0                 -0.314459\n",
       "prod_cat_14.0                -0.103877\n",
       "prod_cat_8.0                 -0.067807\n",
       "City_Category_B              -0.019098\n",
       "Occupation_1                 -0.019005\n",
       "Occupation_0                 -0.010576\n",
       "Occupation_4                 -0.003872\n",
       "Marital_Status               -0.000463\n",
       "Stay_In_Current_City_Years    0.005422\n",
       "Occupation_7                  0.011176\n",
       "Age                           0.015839\n",
       "Occupation_17                 0.031099\n",
       "Gender_M                      0.060346\n",
       "City_Category_C               0.061012\n",
       "prod_cat_16.0                 0.187003\n",
       "rest_cat                      0.226302\n",
       "prod_cat_1.0                  0.506021\n",
       "Name: Purchase, dtype: float64"
      ]
     },
     "execution_count": 37,
     "metadata": {},
     "output_type": "execute_result"
    }
   ],
   "source": [
    "df.corr()['Purchase'].sort_values()[:-1]"
   ]
  },
  {
   "cell_type": "code",
   "execution_count": 38,
   "metadata": {},
   "outputs": [],
   "source": [
    "# Split"
   ]
  },
  {
   "cell_type": "code",
   "execution_count": 39,
   "metadata": {},
   "outputs": [],
   "source": [
    "X = df.drop('Purchase',axis=1).values\n",
    "y = df['Purchase'].values"
   ]
  },
  {
   "cell_type": "code",
   "execution_count": 40,
   "metadata": {},
   "outputs": [],
   "source": [
    "from sklearn.model_selection import train_test_split"
   ]
  },
  {
   "cell_type": "code",
   "execution_count": 41,
   "metadata": {},
   "outputs": [],
   "source": [
    "X_train, X_test, y_train, y_test = train_test_split(X,y,test_size=0.2)"
   ]
  },
  {
   "cell_type": "code",
   "execution_count": 42,
   "metadata": {},
   "outputs": [],
   "source": [
    "## Scaler"
   ]
  },
  {
   "cell_type": "code",
   "execution_count": 43,
   "metadata": {},
   "outputs": [],
   "source": [
    "from sklearn.preprocessing import MinMaxScaler"
   ]
  },
  {
   "cell_type": "code",
   "execution_count": 44,
   "metadata": {},
   "outputs": [],
   "source": [
    "scaler = MinMaxScaler()"
   ]
  },
  {
   "cell_type": "code",
   "execution_count": 45,
   "metadata": {},
   "outputs": [],
   "source": [
    "X_train = scaler.fit_transform(X_train)\n",
    "X_test = scaler.transform(X_test)"
   ]
  },
  {
   "cell_type": "code",
   "execution_count": 46,
   "metadata": {},
   "outputs": [
    {
     "data": {
      "text/plain": [
       "((440054, 17), (110014, 17))"
      ]
     },
     "execution_count": 46,
     "metadata": {},
     "output_type": "execute_result"
    }
   ],
   "source": [
    "X_train.shape,X_test.shape"
   ]
  },
  {
   "cell_type": "code",
   "execution_count": 47,
   "metadata": {},
   "outputs": [],
   "source": [
    "# Model building"
   ]
  },
  {
   "cell_type": "code",
   "execution_count": 48,
   "metadata": {},
   "outputs": [
    {
     "data": {
      "text/plain": [
       "((550068, 17), (550068,))"
      ]
     },
     "execution_count": 48,
     "metadata": {},
     "output_type": "execute_result"
    }
   ],
   "source": [
    "from tensorflow.keras.models import Sequential\n",
    "from tensorflow.keras.layers import Dense\n",
    "from tensorflow.keras.optimizers import Adam\n",
    "from tensorflow.keras.layers import Dropout\n",
    "X.shape,y.shape"
   ]
  },
  {
   "cell_type": "code",
   "execution_count": 49,
   "metadata": {},
   "outputs": [
    {
     "name": "stdout",
     "output_type": "stream",
     "text": [
      "WARNING:tensorflow:From C:\\Users\\nikhi\\Anaconda3\\lib\\site-packages\\tensorflow\\python\\ops\\init_ops.py:1251: calling VarianceScaling.__init__ (from tensorflow.python.ops.init_ops) with dtype is deprecated and will be removed in a future version.\n",
      "Instructions for updating:\n",
      "Call initializer instance with the dtype argument instead of passing it to the constructor\n"
     ]
    }
   ],
   "source": [
    "model = Sequential()\n",
    "\n",
    "model.add(Dense(17,activation=\"relu\"))\n",
    "model.add(Dropout(0.5))\n",
    "model.add(Dense(15,activation=\"relu\"))\n",
    "model.add(Dropout(0.5))\n",
    "model.add(Dense(10,activation=\"relu\"))\n",
    "model.add(Dropout(0.5))\n",
    "model.add(Dense(5,activation=\"relu\"))\n",
    "model.add(Dropout(0.5))\n",
    "\n",
    "model.add(Dense(1))\n",
    "\n",
    "model.compile(loss='mse', optimizer='adam')"
   ]
  },
  {
   "cell_type": "code",
   "execution_count": 50,
   "metadata": {},
   "outputs": [],
   "source": [
    "# Training"
   ]
  },
  {
   "cell_type": "code",
   "execution_count": 51,
   "metadata": {},
   "outputs": [],
   "source": [
    "from tensorflow.keras.callbacks import EarlyStopping\n",
    "early_stop = EarlyStopping(monitor='val_loss', mode='min', verbose=1, patience=20)"
   ]
  },
  {
   "cell_type": "code",
   "execution_count": 52,
   "metadata": {
    "scrolled": true
   },
   "outputs": [
    {
     "name": "stdout",
     "output_type": "stream",
     "text": [
      "Train on 440054 samples, validate on 110014 samples\n",
      "Epoch 1/300\n",
      "440054/440054 [==============================] - 11s 25us/sample - loss: 57078687.2662 - val_loss: 29288557.3676\n",
      "Epoch 2/300\n",
      "440054/440054 [==============================] - 11s 25us/sample - loss: 50033348.5522 - val_loss: 28582216.5866\n",
      "Epoch 3/300\n",
      "440054/440054 [==============================] - 11s 24us/sample - loss: 48289934.5723 - val_loss: 26796797.6644\n",
      "Epoch 4/300\n",
      "440054/440054 [==============================] - 11s 25us/sample - loss: 47154107.6865 - val_loss: 25728667.7328\n",
      "Epoch 5/300\n",
      "440054/440054 [==============================] - 11s 24us/sample - loss: 46833646.4614 - val_loss: 26920441.7997\n",
      "Epoch 6/300\n",
      "440054/440054 [==============================] - 11s 25us/sample - loss: 46262983.8764 - val_loss: 27216498.0072\n",
      "Epoch 7/300\n",
      "440054/440054 [==============================] - 11s 25us/sample - loss: 45716670.9707 - val_loss: 26551214.9211\n",
      "Epoch 8/300\n",
      "440054/440054 [==============================] - 11s 25us/sample - loss: 44894394.9821 - val_loss: 26384334.5026\n",
      "Epoch 9/300\n",
      "440054/440054 [==============================] - 11s 26us/sample - loss: 44284365.4275 - val_loss: 26265857.4473\n",
      "Epoch 10/300\n",
      "440054/440054 [==============================] - 11s 26us/sample - loss: 43848886.6835 - val_loss: 25177881.1996\n",
      "Epoch 11/300\n",
      "440054/440054 [==============================] - 12s 27us/sample - loss: 43393442.5138 - val_loss: 24834927.8582\n",
      "Epoch 12/300\n",
      "440054/440054 [==============================] - 11s 25us/sample - loss: 43349818.8464 - val_loss: 24819102.5208\n",
      "Epoch 13/300\n",
      "440054/440054 [==============================] - 12s 27us/sample - loss: 43226978.1521 - val_loss: 24987799.0748\n",
      "Epoch 14/300\n",
      "440054/440054 [==============================] - 12s 27us/sample - loss: 42916976.5964 - val_loss: 24179132.3557\n",
      "Epoch 15/300\n",
      "440054/440054 [==============================] - 12s 28us/sample - loss: 42838684.1484 - val_loss: 25050440.0927\n",
      "Epoch 16/300\n",
      "440054/440054 [==============================] - 12s 28us/sample - loss: 42767837.2426 - val_loss: 25026430.5523\n",
      "Epoch 17/300\n",
      "440054/440054 [==============================] - 12s 28us/sample - loss: 42634547.3057 - val_loss: 25289848.0110\n",
      "Epoch 18/300\n",
      "440054/440054 [==============================] - 12s 27us/sample - loss: 42403595.2830 - val_loss: 24942915.6648\n",
      "Epoch 19/300\n",
      "440054/440054 [==============================] - 12s 27us/sample - loss: 42229245.0112 - val_loss: 24534307.3524\n",
      "Epoch 20/300\n",
      "440054/440054 [==============================] - 12s 27us/sample - loss: 42241739.8050 - val_loss: 24819053.7945\n",
      "Epoch 21/300\n",
      "440054/440054 [==============================] - 12s 28us/sample - loss: 41839258.1500 - val_loss: 25380005.5791\n",
      "Epoch 22/300\n",
      "440054/440054 [==============================] - 13s 28us/sample - loss: 41842448.9645 - val_loss: 24186774.9899\n",
      "Epoch 23/300\n",
      "440054/440054 [==============================] - 12s 28us/sample - loss: 41492038.1305 - val_loss: 24797294.6743\n",
      "Epoch 24/300\n",
      "440054/440054 [==============================] - 12s 28us/sample - loss: 41263173.9722 - val_loss: 24787159.4242\n",
      "Epoch 25/300\n",
      "440054/440054 [==============================] - 12s 28us/sample - loss: 41099426.5169 - val_loss: 23991605.1657\n",
      "Epoch 26/300\n",
      "440054/440054 [==============================] - 12s 27us/sample - loss: 40735810.7911 - val_loss: 23973104.8803\n",
      "Epoch 27/300\n",
      "440054/440054 [==============================] - 12s 27us/sample - loss: 40465979.7135 - val_loss: 23902049.1209\n",
      "Epoch 28/300\n",
      "440054/440054 [==============================] - 12s 27us/sample - loss: 40240694.3941 - val_loss: 23855525.9042\n",
      "Epoch 29/300\n",
      "440054/440054 [==============================] - 12s 28us/sample - loss: 39942415.3810 - val_loss: 23533240.2016\n",
      "Epoch 30/300\n",
      "440054/440054 [==============================] - 12s 28us/sample - loss: 39653291.1783 - val_loss: 24423480.2895\n",
      "Epoch 31/300\n",
      "440054/440054 [==============================] - 12s 27us/sample - loss: 39388107.0336 - val_loss: 23317652.3022\n",
      "Epoch 32/300\n",
      "440054/440054 [==============================] - 12s 27us/sample - loss: 39062791.4644 - val_loss: 23009482.4989\n",
      "Epoch 33/300\n",
      "440054/440054 [==============================] - 12s 28us/sample - loss: 38831719.1374 - val_loss: 23234922.3770\n",
      "Epoch 34/300\n",
      "440054/440054 [==============================] - 12s 28us/sample - loss: 38556398.8450 - val_loss: 24195690.9884\n",
      "Epoch 35/300\n",
      "440054/440054 [==============================] - 12s 28us/sample - loss: 38341406.0348 - val_loss: 22655323.7512\n",
      "Epoch 36/300\n",
      "440054/440054 [==============================] - 12s 28us/sample - loss: 38335302.1266 - val_loss: 23763064.7514\n",
      "Epoch 37/300\n",
      "440054/440054 [==============================] - 12s 27us/sample - loss: 38110887.2625 - val_loss: 23411695.4536\n",
      "Epoch 38/300\n",
      "440054/440054 [==============================] - 12s 27us/sample - loss: 38021532.3769 - val_loss: 22721406.7812\n",
      "Epoch 39/300\n",
      "440054/440054 [==============================] - 12s 28us/sample - loss: 37718399.6483 - val_loss: 22749631.9791\n",
      "Epoch 40/300\n",
      "440054/440054 [==============================] - 12s 28us/sample - loss: 37981015.5265 - val_loss: 22553565.2750\n",
      "Epoch 41/300\n",
      "440054/440054 [==============================] - 12s 27us/sample - loss: 37774498.5482 - val_loss: 22142980.5289\n",
      "Epoch 42/300\n",
      "440054/440054 [==============================] - 12s 28us/sample - loss: 37758416.3331 - val_loss: 22634911.4738\n",
      "Epoch 43/300\n",
      "440054/440054 [==============================] - 12s 28us/sample - loss: 37786886.0674 - val_loss: 22679469.8291\n",
      "Epoch 44/300\n",
      "440054/440054 [==============================] - 12s 28us/sample - loss: 37751324.1609 - val_loss: 22745966.3682\n",
      "Epoch 45/300\n",
      "440054/440054 [==============================] - 12s 27us/sample - loss: 37790580.0266 - val_loss: 22239776.5821\n",
      "Epoch 46/300\n",
      "440054/440054 [==============================] - 12s 28us/sample - loss: 37633797.5128 - val_loss: 23561351.0190\n",
      "Epoch 47/300\n",
      "440054/440054 [==============================] - 12s 27us/sample - loss: 37752273.0582 - val_loss: 22310868.4153\n",
      "Epoch 48/300\n",
      "440054/440054 [==============================] - 12s 27us/sample - loss: 37533436.5122 - val_loss: 22260166.5360\n",
      "Epoch 49/300\n",
      "440054/440054 [==============================] - 12s 27us/sample - loss: 37545090.6333 - val_loss: 22400785.9275\n",
      "Epoch 50/300\n",
      "440054/440054 [==============================] - 12s 28us/sample - loss: 37628204.8898 - val_loss: 22263169.9039\n",
      "Epoch 51/300\n",
      "440054/440054 [==============================] - 13s 29us/sample - loss: 37706185.8756 - val_loss: 22362348.2698\n",
      "Epoch 52/300\n",
      "440054/440054 [==============================] - 13s 29us/sample - loss: 37498661.1469 - val_loss: 22074643.3031\n",
      "Epoch 53/300\n",
      "440054/440054 [==============================] - 13s 28us/sample - loss: 37549172.1744 - val_loss: 22002293.2228\n",
      "Epoch 54/300\n",
      "440054/440054 [==============================] - 12s 28us/sample - loss: 37463944.2999 - val_loss: 21930214.3112\n",
      "Epoch 55/300\n",
      "440054/440054 [==============================] - 13s 29us/sample - loss: 37455966.6441 - val_loss: 22363568.9572\n",
      "Epoch 56/300\n",
      "440054/440054 [==============================] - 12s 28us/sample - loss: 37446529.6726 - val_loss: 21572269.2538\n",
      "Epoch 57/300\n",
      "440054/440054 [==============================] - 13s 29us/sample - loss: 37558073.5742 - val_loss: 22873523.0301\n",
      "Epoch 58/300\n",
      "440054/440054 [==============================] - 12s 28us/sample - loss: 37460849.1372 - val_loss: 22241986.3009\n",
      "Epoch 59/300\n",
      "440054/440054 [==============================] - 12s 28us/sample - loss: 37424509.4290 - val_loss: 22463808.4361\n",
      "Epoch 60/300\n",
      "440054/440054 [==============================] - 12s 28us/sample - loss: 37357815.0541 - val_loss: 22943879.7427\n",
      "Epoch 61/300\n",
      "440054/440054 [==============================] - 13s 29us/sample - loss: 37455597.4779 - val_loss: 22963252.4463\n",
      "Epoch 62/300\n",
      "440054/440054 [==============================] - 12s 27us/sample - loss: 37433441.1588 - val_loss: 21867156.7623\n",
      "Epoch 63/300\n",
      "440054/440054 [==============================] - 11s 26us/sample - loss: 37508340.2768 - val_loss: 22083148.3429\n",
      "Epoch 64/300\n",
      "440054/440054 [==============================] - 12s 27us/sample - loss: 37296451.3786 - val_loss: 22718164.8427\n",
      "Epoch 65/300\n"
     ]
    },
    {
     "name": "stdout",
     "output_type": "stream",
     "text": [
      "440054/440054 [==============================] - 12s 27us/sample - loss: 37410755.0241 - val_loss: 21475584.4563\n",
      "Epoch 66/300\n",
      "440054/440054 [==============================] - 11s 26us/sample - loss: 37353745.9177 - val_loss: 22092832.5599\n",
      "Epoch 67/300\n",
      "440054/440054 [==============================] - 12s 27us/sample - loss: 37397262.9999 - val_loss: 22306753.8191\n",
      "Epoch 68/300\n",
      "440054/440054 [==============================] - 12s 27us/sample - loss: 37282855.7151 - val_loss: 22611758.0860\n",
      "Epoch 69/300\n",
      "440054/440054 [==============================] - 12s 28us/sample - loss: 37476938.6717 - val_loss: 21986241.7730\n",
      "Epoch 70/300\n",
      "440054/440054 [==============================] - 13s 28us/sample - loss: 37410056.7142 - val_loss: 22946191.8900\n",
      "Epoch 71/300\n",
      "440054/440054 [==============================] - 13s 29us/sample - loss: 37277727.9399 - val_loss: 21998395.0857\n",
      "Epoch 72/300\n",
      "440054/440054 [==============================] - 13s 29us/sample - loss: 37290508.9963 - val_loss: 22305982.2475\n",
      "Epoch 73/300\n",
      "440054/440054 [==============================] - 13s 29us/sample - loss: 37307364.2142 - val_loss: 22499616.6065\n",
      "Epoch 74/300\n",
      "440054/440054 [==============================] - 13s 29us/sample - loss: 37318856.9728 - val_loss: 22867314.3531\n",
      "Epoch 75/300\n",
      "440054/440054 [==============================] - 12s 28us/sample - loss: 37222657.9243 - val_loss: 22716452.7195\n",
      "Epoch 76/300\n",
      "440054/440054 [==============================] - 13s 29us/sample - loss: 37253417.8243 - val_loss: 22175181.8816\n",
      "Epoch 77/300\n",
      "440054/440054 [==============================] - 12s 27us/sample - loss: 37199547.4865 - val_loss: 22319269.7231\n",
      "Epoch 78/300\n",
      "440054/440054 [==============================] - 11s 25us/sample - loss: 37227167.6113 - val_loss: 22387311.3718\n",
      "Epoch 79/300\n",
      "440054/440054 [==============================] - 12s 28us/sample - loss: 37213693.2129 - val_loss: 22101682.0299\n",
      "Epoch 80/300\n",
      "440054/440054 [==============================] - 12s 27us/sample - loss: 37208529.5581 - val_loss: 22129213.4565\n",
      "Epoch 81/300\n",
      "440054/440054 [==============================] - 11s 25us/sample - loss: 37201703.0150 - val_loss: 22036196.0642\n",
      "Epoch 82/300\n",
      "440054/440054 [==============================] - 11s 26us/sample - loss: 37260731.0787 - val_loss: 22206640.0377\n",
      "Epoch 83/300\n",
      "440054/440054 [==============================] - 13s 29us/sample - loss: 37191816.4376 - val_loss: 22206893.8118\n",
      "Epoch 84/300\n",
      "440054/440054 [==============================] - 11s 26us/sample - loss: 37046763.7047 - val_loss: 22496763.8309\n",
      "Epoch 85/300\n",
      "440054/440054 [==============================] - 12s 28us/sample - loss: 37152576.9409 - val_loss: 22397410.3588\n",
      "Epoch 00085: early stopping\n"
     ]
    },
    {
     "data": {
      "text/plain": [
       "<tensorflow.python.keras.callbacks.History at 0x228fe63edd8>"
      ]
     },
     "execution_count": 52,
     "metadata": {},
     "output_type": "execute_result"
    }
   ],
   "source": [
    "model.fit(x=X_train,y=y_train,validation_data=(X_test,y_test),epochs=300,batch_size=128,verbose=1,callbacks=[early_stop])"
   ]
  },
  {
   "cell_type": "code",
   "execution_count": 53,
   "metadata": {},
   "outputs": [
    {
     "data": {
      "text/plain": [
       "<matplotlib.axes._subplots.AxesSubplot at 0x228fec44da0>"
      ]
     },
     "execution_count": 53,
     "metadata": {},
     "output_type": "execute_result"
    },
    {
     "data": {
      "image/png": "[encoded data removed]",
      "text/plain": [
       "<Figure size 432x288 with 1 Axes>"
      ]
     },
     "metadata": {
      "needs_background": "light"
     },
     "output_type": "display_data"
    }
   ],
   "source": [
    "model_loss = pd.DataFrame(model.history.history)\n",
    "model_loss.plot()"
   ]
  }
 ],
 "metadata": {
  "kernelspec": {
   "display_name": "Python 3",
   "language": "python",
   "name": "python3"
  },
  "language_info": {
   "codemirror_mode": {
    "name": "ipython",
    "version": 3
   },
   "file_extension": ".py",
   "mimetype": "text/x-python",
   "name": "python",
   "nbconvert_exporter": "python",
   "pygments_lexer": "ipython3",
   "version": "3.6.9"
  }
 },
 "nbformat": 4,
 "nbformat_minor": 2
}
