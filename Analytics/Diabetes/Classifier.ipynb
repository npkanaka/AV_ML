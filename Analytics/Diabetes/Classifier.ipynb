{
 "cells": [
  {
   "cell_type": "code",
   "execution_count": 351,
   "metadata": {},
   "outputs": [],
   "source": [
    "import pandas as pd\n",
    "import numpy as np\n",
    "\n",
    "import matplotlib.pyplot as plt\n",
    "import seaborn as sns"
   ]
  },
  {
   "cell_type": "code",
   "execution_count": 352,
   "metadata": {},
   "outputs": [],
   "source": [
    "df = pd.read_csv(\"diabetes.csv\")"
   ]
  },
  {
   "cell_type": "markdown",
   "metadata": {},
   "source": [
    "EDA"
   ]
  },
  {
   "cell_type": "code",
   "execution_count": 353,
   "metadata": {},
   "outputs": [
    {
     "name": "stdout",
     "output_type": "stream",
     "text": [
      "<class 'pandas.core.frame.DataFrame'>\n",
      "RangeIndex: 768 entries, 0 to 767\n",
      "Data columns (total 9 columns):\n",
      "Pregnancies                 768 non-null int64\n",
      "Glucose                     768 non-null int64\n",
      "BloodPressure               768 non-null int64\n",
      "SkinThickness               768 non-null int64\n",
      "Insulin                     768 non-null int64\n",
      "BMI                         768 non-null float64\n",
      "DiabetesPedigreeFunction    768 non-null float64\n",
      "Age                         768 non-null int64\n",
      "Outcome                     768 non-null int64\n",
      "dtypes: float64(2), int64(7)\n",
      "memory usage: 54.1 KB\n"
     ]
    }
   ],
   "source": [
    "df.info()"
   ]
  },
  {
   "cell_type": "code",
   "execution_count": 354,
   "metadata": {},
   "outputs": [
    {
     "data": {
      "text/plain": [
       "Pregnancies                 0.221898\n",
       "Glucose                     0.466581\n",
       "BloodPressure               0.065068\n",
       "SkinThickness               0.074752\n",
       "Insulin                     0.130548\n",
       "BMI                         0.292695\n",
       "DiabetesPedigreeFunction    0.173844\n",
       "Age                         0.238356\n",
       "Outcome                     1.000000\n",
       "Name: Outcome, dtype: float64"
      ]
     },
     "execution_count": 354,
     "metadata": {},
     "output_type": "execute_result"
    }
   ],
   "source": [
    "df.corr()['Outcome']"
   ]
  },
  {
   "cell_type": "code",
   "execution_count": 355,
   "metadata": {},
   "outputs": [
    {
     "data": {
      "text/plain": [
       "<matplotlib.axes._subplots.AxesSubplot at 0x1ba409b66d8>"
      ]
     },
     "execution_count": 355,
     "metadata": {},
     "output_type": "execute_result"
    },
    {
     "data": {
      "image/png": "[encoded data removed]",
      "text/plain": [
       "<Figure size 432x288 with 1 Axes>"
      ]
     },
     "metadata": {
      "needs_background": "light"
     },
     "output_type": "display_data"
    }
   ],
   "source": [
    "# Pregnancies\n",
    "df.Pregnancies.value_counts().plot()"
   ]
  },
  {
   "cell_type": "code",
   "execution_count": 356,
   "metadata": {},
   "outputs": [
    {
     "data": {
      "text/plain": [
       "44     1\n",
       "56     1\n",
       "57     2\n",
       "61     1\n",
       "62     1\n",
       "      ..\n",
       "195    2\n",
       "196    3\n",
       "197    4\n",
       "198    1\n",
       "199    1\n",
       "Name: Glucose, Length: 135, dtype: int64"
      ]
     },
     "execution_count": 356,
     "metadata": {},
     "output_type": "execute_result"
    }
   ],
   "source": [
    "#Glucose\n",
    "df = df.drop(df[df.Glucose == 0].index)\n",
    "df.Glucose.value_counts().sort_index()"
   ]
  },
  {
   "cell_type": "code",
   "execution_count": 357,
   "metadata": {},
   "outputs": [
    {
     "data": {
      "text/plain": [
       "24      1\n",
       "30      2\n",
       "38      1\n",
       "40      1\n",
       "44      4\n",
       "46      2\n",
       "48      4\n",
       "50     13\n",
       "52     11\n",
       "54     11\n",
       "55      2\n",
       "56     12\n",
       "58     21\n",
       "60     37\n",
       "61      1\n",
       "62     34\n",
       "64     43\n",
       "65      7\n",
       "66     30\n",
       "68     43\n",
       "70     57\n",
       "72     44\n",
       "74     51\n",
       "75      8\n",
       "76     39\n",
       "78     45\n",
       "80     39\n",
       "82     30\n",
       "84     23\n",
       "85      6\n",
       "86     21\n",
       "88     25\n",
       "90     22\n",
       "92      8\n",
       "94      6\n",
       "95      1\n",
       "96      4\n",
       "98      3\n",
       "100     3\n",
       "102     1\n",
       "104     2\n",
       "106     3\n",
       "108     2\n",
       "110     3\n",
       "114     1\n",
       "122     1\n",
       "Name: BloodPressure, dtype: int64"
      ]
     },
     "execution_count": 357,
     "metadata": {},
     "output_type": "execute_result"
    }
   ],
   "source": [
    "#BloodPressure\n",
    "df = df.drop(df[df.BloodPressure == 0].index)\n",
    "df.BloodPressure.value_counts().sort_index()               "
   ]
  },
  {
   "cell_type": "code",
   "execution_count": 358,
   "metadata": {},
   "outputs": [
    {
     "data": {
      "text/plain": [
       "count    728.000000\n",
       "mean      21.388736\n",
       "std       15.729793\n",
       "min        0.000000\n",
       "25%        0.000000\n",
       "50%       24.000000\n",
       "75%       33.000000\n",
       "max       99.000000\n",
       "Name: SkinThickness, dtype: float64"
      ]
     },
     "execution_count": 358,
     "metadata": {},
     "output_type": "execute_result"
    }
   ],
   "source": [
    "#SkinThickness               \n",
    "df.SkinThickness.describe()         "
   ]
  },
  {
   "cell_type": "code",
   "execution_count": 359,
   "metadata": {},
   "outputs": [
    {
     "data": {
      "text/plain": [
       "count    728.000000\n",
       "mean      84.152473\n",
       "std      116.819934\n",
       "min        0.000000\n",
       "25%        0.000000\n",
       "50%       48.000000\n",
       "75%      130.000000\n",
       "max      846.000000\n",
       "Name: Insulin, dtype: float64"
      ]
     },
     "execution_count": 359,
     "metadata": {},
     "output_type": "execute_result"
    }
   ],
   "source": [
    "#Insulin\n",
    "df.Insulin.describe()"
   ]
  },
  {
   "cell_type": "code",
   "execution_count": 360,
   "metadata": {},
   "outputs": [
    {
     "data": {
      "text/plain": [
       "<matplotlib.axes._subplots.AxesSubplot at 0x1ba419f8dd8>"
      ]
     },
     "execution_count": 360,
     "metadata": {},
     "output_type": "execute_result"
    },
    {
     "data": {
      "image/png": "[encoded data removed]",
      "text/plain": [
       "<Figure size 432x288 with 1 Axes>"
      ]
     },
     "metadata": {
      "needs_background": "light"
     },
     "output_type": "display_data"
    }
   ],
   "source": [
    "#DiabetesPedigreeFunction\n",
    "df.DiabetesPedigreeFunction.plot()"
   ]
  },
  {
   "cell_type": "code",
   "execution_count": 361,
   "metadata": {},
   "outputs": [
    {
     "data": {
      "text/plain": [
       "<matplotlib.axes._subplots.AxesSubplot at 0x1ba41a32710>"
      ]
     },
     "execution_count": 361,
     "metadata": {},
     "output_type": "execute_result"
    },
    {
     "data": {
      "image/png": "[encoded data removed]",
      "text/plain": [
       "<Figure size 432x288 with 1 Axes>"
      ]
     },
     "metadata": {
      "needs_background": "light"
     },
     "output_type": "display_data"
    }
   ],
   "source": [
    "#Age\n",
    "df.Age.value_counts().sort_index().plot()"
   ]
  },
  {
   "cell_type": "code",
   "execution_count": 362,
   "metadata": {},
   "outputs": [
    {
     "data": {
      "text/plain": [
       "<matplotlib.axes._subplots.AxesSubplot at 0x1ba41a98a20>"
      ]
     },
     "execution_count": 362,
     "metadata": {},
     "output_type": "execute_result"
    },
    {
     "data": {
      "image/png": "[encoded data removed]",
      "text/plain": [
       "<Figure size 432x288 with 1 Axes>"
      ]
     },
     "metadata": {
      "needs_background": "light"
     },
     "output_type": "display_data"
    }
   ],
   "source": [
    "#Outcome\n",
    "df.corr()['Outcome'][:-1].sort_values().plot(kind='bar')"
   ]
  },
  {
   "cell_type": "markdown",
   "metadata": {},
   "source": [
    "Split"
   ]
  },
  {
   "cell_type": "code",
   "execution_count": 363,
   "metadata": {},
   "outputs": [],
   "source": [
    "X = df.drop('Outcome',axis=1).values\n",
    "y = df['Outcome'].values"
   ]
  },
  {
   "cell_type": "code",
   "execution_count": 364,
   "metadata": {},
   "outputs": [],
   "source": [
    "from sklearn.model_selection import train_test_split"
   ]
  },
  {
   "cell_type": "code",
   "execution_count": 365,
   "metadata": {},
   "outputs": [],
   "source": [
    "X_train, X_test, y_train, y_test = train_test_split(X,y,test_size=0.25,random_state=8)"
   ]
  },
  {
   "cell_type": "markdown",
   "metadata": {},
   "source": [
    "Scaling "
   ]
  },
  {
   "cell_type": "code",
   "execution_count": 366,
   "metadata": {},
   "outputs": [],
   "source": [
    "from sklearn.preprocessing import MinMaxScaler"
   ]
  },
  {
   "cell_type": "code",
   "execution_count": 367,
   "metadata": {},
   "outputs": [],
   "source": [
    "scaler = MinMaxScaler()"
   ]
  },
  {
   "cell_type": "code",
   "execution_count": 368,
   "metadata": {},
   "outputs": [],
   "source": [
    "X_train = scaler.fit_transform(X_train)\n",
    "X_test = scaler.transform(X_test)"
   ]
  },
  {
   "cell_type": "markdown",
   "metadata": {},
   "source": [
    "Model"
   ]
  },
  {
   "cell_type": "code",
   "execution_count": 369,
   "metadata": {},
   "outputs": [],
   "source": [
    "import tensorflow as tf\n",
    "from tensorflow.keras.models import Sequential\n",
    "from tensorflow.keras.layers import Dense, Activation, Dropout"
   ]
  },
  {
   "cell_type": "code",
   "execution_count": 370,
   "metadata": {},
   "outputs": [
    {
     "data": {
      "text/plain": [
       "(546, 8)"
      ]
     },
     "execution_count": 370,
     "metadata": {},
     "output_type": "execute_result"
    }
   ],
   "source": [
    "X_train.shape"
   ]
  },
  {
   "cell_type": "code",
   "execution_count": 371,
   "metadata": {},
   "outputs": [],
   "source": [
    "model = Sequential()\n",
    " \n",
    "model.add(Dense(units=8,activation='relu'))\n",
    "model.add(Dropout(0.3))\n",
    "model.add(Dense(units=4,activation='relu'))\n",
    "model.add(Dropout(0.3))\n",
    "\n",
    "model.add(Dense(units=1,activation='sigmoid'))\n",
    "\n",
    "model.compile(loss='binary_crossentropy', optimizer='adam')"
   ]
  },
  {
   "cell_type": "code",
   "execution_count": 372,
   "metadata": {},
   "outputs": [],
   "source": [
    "from tensorflow.keras.callbacks import EarlyStopping\n",
    "early_stop = EarlyStopping(monitor='val_loss', mode='min', verbose=0, patience=10)"
   ]
  },
  {
   "cell_type": "markdown",
   "metadata": {},
   "source": [
    "Train"
   ]
  },
  {
   "cell_type": "code",
   "execution_count": 373,
   "metadata": {},
   "outputs": [
    {
     "name": "stdout",
     "output_type": "stream",
     "text": [
      "Train on 546 samples, validate on 182 samples\n",
      "Epoch 1/600\n",
      "546/546 [==============================] - 1s 2ms/sample - loss: 0.6703 - val_loss: 0.6766\n",
      "Epoch 2/600\n",
      "546/546 [==============================] - 0s 86us/sample - loss: 0.6641 - val_loss: 0.6748\n",
      "Epoch 3/600\n",
      "546/546 [==============================] - 0s 82us/sample - loss: 0.6609 - val_loss: 0.6733\n",
      "Epoch 4/600\n",
      "546/546 [==============================] - 0s 82us/sample - loss: 0.6628 - val_loss: 0.6718\n",
      "Epoch 5/600\n",
      "546/546 [==============================] - 0s 90us/sample - loss: 0.6590 - val_loss: 0.6701\n",
      "Epoch 6/600\n",
      "546/546 [==============================] - 0s 88us/sample - loss: 0.6559 - val_loss: 0.6685\n",
      "Epoch 7/600\n",
      "546/546 [==============================] - 0s 82us/sample - loss: 0.6595 - val_loss: 0.6674\n",
      "Epoch 8/600\n",
      "546/546 [==============================] - 0s 80us/sample - loss: 0.6416 - val_loss: 0.6658\n",
      "Epoch 9/600\n",
      "546/546 [==============================] - 0s 86us/sample - loss: 0.6502 - val_loss: 0.6653\n",
      "Epoch 10/600\n",
      "546/546 [==============================] - 0s 84us/sample - loss: 0.6406 - val_loss: 0.6640\n",
      "Epoch 11/600\n",
      "546/546 [==============================] - 0s 79us/sample - loss: 0.6548 - val_loss: 0.6623\n",
      "Epoch 12/600\n",
      "546/546 [==============================] - 0s 78us/sample - loss: 0.6481 - val_loss: 0.6605\n",
      "Epoch 13/600\n",
      "546/546 [==============================] - 0s 86us/sample - loss: 0.6462 - val_loss: 0.6587\n",
      "Epoch 14/600\n",
      "546/546 [==============================] - 0s 84us/sample - loss: 0.6496 - val_loss: 0.6562\n",
      "Epoch 15/600\n",
      "546/546 [==============================] - 0s 82us/sample - loss: 0.6316 - val_loss: 0.6543\n",
      "Epoch 16/600\n",
      "546/546 [==============================] - 0s 77us/sample - loss: 0.6341 - val_loss: 0.6527\n",
      "Epoch 17/600\n",
      "546/546 [==============================] - 0s 80us/sample - loss: 0.6365 - val_loss: 0.6510\n",
      "Epoch 18/600\n",
      "546/546 [==============================] - 0s 90us/sample - loss: 0.6462 - val_loss: 0.6484\n",
      "Epoch 19/600\n",
      "546/546 [==============================] - 0s 82us/sample - loss: 0.6344 - val_loss: 0.6470\n",
      "Epoch 20/600\n",
      "546/546 [==============================] - 0s 82us/sample - loss: 0.6348 - val_loss: 0.6459\n",
      "Epoch 21/600\n",
      "546/546 [==============================] - 0s 80us/sample - loss: 0.6145 - val_loss: 0.6450\n",
      "Epoch 22/600\n",
      "546/546 [==============================] - 0s 88us/sample - loss: 0.6304 - val_loss: 0.6438\n",
      "Epoch 23/600\n",
      "546/546 [==============================] - 0s 79us/sample - loss: 0.6396 - val_loss: 0.6426\n",
      "Epoch 24/600\n",
      "546/546 [==============================] - 0s 82us/sample - loss: 0.6245 - val_loss: 0.6400\n",
      "Epoch 25/600\n",
      "546/546 [==============================] - 0s 84us/sample - loss: 0.6229 - val_loss: 0.6386\n",
      "Epoch 26/600\n",
      "546/546 [==============================] - 0s 86us/sample - loss: 0.6126 - val_loss: 0.6378\n",
      "Epoch 27/600\n",
      "546/546 [==============================] - 0s 84us/sample - loss: 0.6177 - val_loss: 0.6366\n",
      "Epoch 28/600\n",
      "546/546 [==============================] - 0s 82us/sample - loss: 0.6036 - val_loss: 0.6375\n",
      "Epoch 29/600\n",
      "546/546 [==============================] - 0s 79us/sample - loss: 0.6147 - val_loss: 0.6364\n",
      "Epoch 30/600\n",
      "546/546 [==============================] - 0s 86us/sample - loss: 0.6146 - val_loss: 0.6360\n",
      "Epoch 31/600\n",
      "546/546 [==============================] - 0s 84us/sample - loss: 0.6103 - val_loss: 0.6334\n",
      "Epoch 32/600\n",
      "546/546 [==============================] - 0s 77us/sample - loss: 0.6059 - val_loss: 0.6336\n",
      "Epoch 33/600\n",
      "546/546 [==============================] - 0s 80us/sample - loss: 0.6077 - val_loss: 0.6333\n",
      "Epoch 34/600\n",
      "546/546 [==============================] - 0s 77us/sample - loss: 0.6003 - val_loss: 0.6312\n",
      "Epoch 35/600\n",
      "546/546 [==============================] - 0s 90us/sample - loss: 0.5945 - val_loss: 0.6270\n",
      "Epoch 36/600\n",
      "546/546 [==============================] - 0s 82us/sample - loss: 0.6057 - val_loss: 0.6266\n",
      "Epoch 37/600\n",
      "546/546 [==============================] - 0s 80us/sample - loss: 0.5906 - val_loss: 0.6246\n",
      "Epoch 38/600\n",
      "546/546 [==============================] - 0s 84us/sample - loss: 0.6095 - val_loss: 0.6227\n",
      "Epoch 39/600\n",
      "546/546 [==============================] - 0s 82us/sample - loss: 0.6067 - val_loss: 0.6232\n",
      "Epoch 40/600\n",
      "546/546 [==============================] - 0s 82us/sample - loss: 0.5998 - val_loss: 0.6212\n",
      "Epoch 41/600\n",
      "546/546 [==============================] - 0s 79us/sample - loss: 0.5985 - val_loss: 0.6198\n",
      "Epoch 42/600\n",
      "546/546 [==============================] - 0s 84us/sample - loss: 0.5909 - val_loss: 0.6196\n",
      "Epoch 43/600\n",
      "546/546 [==============================] - 0s 82us/sample - loss: 0.6051 - val_loss: 0.6197\n",
      "Epoch 44/600\n",
      "546/546 [==============================] - 0s 82us/sample - loss: 0.5965 - val_loss: 0.6203\n",
      "Epoch 45/600\n",
      "546/546 [==============================] - 0s 77us/sample - loss: 0.5895 - val_loss: 0.6179\n",
      "Epoch 46/600\n",
      "546/546 [==============================] - 0s 84us/sample - loss: 0.5949 - val_loss: 0.6154\n",
      "Epoch 47/600\n",
      "546/546 [==============================] - 0s 84us/sample - loss: 0.5776 - val_loss: 0.6146\n",
      "Epoch 48/600\n",
      "546/546 [==============================] - 0s 88us/sample - loss: 0.5888 - val_loss: 0.6141\n",
      "Epoch 49/600\n",
      "546/546 [==============================] - 0s 80us/sample - loss: 0.5907 - val_loss: 0.6130\n",
      "Epoch 50/600\n",
      "546/546 [==============================] - 0s 82us/sample - loss: 0.5847 - val_loss: 0.6087\n",
      "Epoch 51/600\n",
      "546/546 [==============================] - 0s 93us/sample - loss: 0.5859 - val_loss: 0.6073\n",
      "Epoch 52/600\n",
      "546/546 [==============================] - 0s 84us/sample - loss: 0.5768 - val_loss: 0.6078\n",
      "Epoch 53/600\n",
      "546/546 [==============================] - 0s 86us/sample - loss: 0.5689 - val_loss: 0.6087\n",
      "Epoch 54/600\n",
      "546/546 [==============================] - 0s 71us/sample - loss: 0.5875 - val_loss: 0.6052\n",
      "Epoch 55/600\n",
      "546/546 [==============================] - 0s 80us/sample - loss: 0.5928 - val_loss: 0.6028\n",
      "Epoch 56/600\n",
      "546/546 [==============================] - 0s 77us/sample - loss: 0.5729 - val_loss: 0.6023\n",
      "Epoch 57/600\n",
      "546/546 [==============================] - 0s 79us/sample - loss: 0.5613 - val_loss: 0.6035\n",
      "Epoch 58/600\n",
      "546/546 [==============================] - 0s 75us/sample - loss: 0.5694 - val_loss: 0.6022\n",
      "Epoch 59/600\n",
      "546/546 [==============================] - 0s 79us/sample - loss: 0.5708 - val_loss: 0.5976\n",
      "Epoch 60/600\n",
      "546/546 [==============================] - 0s 79us/sample - loss: 0.5658 - val_loss: 0.5981\n",
      "Epoch 61/600\n",
      "546/546 [==============================] - 0s 77us/sample - loss: 0.5749 - val_loss: 0.5979\n",
      "Epoch 62/600\n",
      "546/546 [==============================] - 0s 93us/sample - loss: 0.5646 - val_loss: 0.5958\n",
      "Epoch 63/600\n",
      "546/546 [==============================] - 0s 82us/sample - loss: 0.5644 - val_loss: 0.5967\n",
      "Epoch 64/600\n",
      "546/546 [==============================] - 0s 84us/sample - loss: 0.5591 - val_loss: 0.5952\n",
      "Epoch 65/600\n",
      "546/546 [==============================] - 0s 75us/sample - loss: 0.5579 - val_loss: 0.5943\n",
      "Epoch 66/600\n",
      "546/546 [==============================] - 0s 80us/sample - loss: 0.5777 - val_loss: 0.5938\n",
      "Epoch 67/600\n",
      "546/546 [==============================] - 0s 77us/sample - loss: 0.5578 - val_loss: 0.5936\n",
      "Epoch 68/600\n",
      "546/546 [==============================] - 0s 75us/sample - loss: 0.5615 - val_loss: 0.5929\n",
      "Epoch 69/600\n",
      "546/546 [==============================] - 0s 75us/sample - loss: 0.5663 - val_loss: 0.5922\n",
      "Epoch 70/600\n",
      "546/546 [==============================] - 0s 82us/sample - loss: 0.5702 - val_loss: 0.5923\n",
      "Epoch 71/600\n",
      "546/546 [==============================] - 0s 79us/sample - loss: 0.5752 - val_loss: 0.5902\n",
      "Epoch 72/600\n",
      "546/546 [==============================] - 0s 79us/sample - loss: 0.5601 - val_loss: 0.5904\n",
      "Epoch 73/600\n",
      "546/546 [==============================] - 0s 75us/sample - loss: 0.5627 - val_loss: 0.5899\n",
      "Epoch 74/600\n",
      "546/546 [==============================] - 0s 80us/sample - loss: 0.5598 - val_loss: 0.5871\n",
      "Epoch 75/600\n",
      "546/546 [==============================] - 0s 79us/sample - loss: 0.5593 - val_loss: 0.5870\n",
      "Epoch 76/600\n",
      "546/546 [==============================] - 0s 77us/sample - loss: 0.5483 - val_loss: 0.5848\n",
      "Epoch 77/600\n",
      "546/546 [==============================] - 0s 77us/sample - loss: 0.5450 - val_loss: 0.5850\n",
      "Epoch 78/600\n"
     ]
    },
    {
     "name": "stdout",
     "output_type": "stream",
     "text": [
      "546/546 [==============================] - 0s 79us/sample - loss: 0.5564 - val_loss: 0.5839\n",
      "Epoch 79/600\n",
      "546/546 [==============================] - 0s 84us/sample - loss: 0.5491 - val_loss: 0.5831\n",
      "Epoch 80/600\n",
      "546/546 [==============================] - 0s 77us/sample - loss: 0.5632 - val_loss: 0.5833\n",
      "Epoch 81/600\n",
      "546/546 [==============================] - 0s 77us/sample - loss: 0.5579 - val_loss: 0.5835\n",
      "Epoch 82/600\n",
      "546/546 [==============================] - 0s 84us/sample - loss: 0.5355 - val_loss: 0.5837\n",
      "Epoch 83/600\n",
      "546/546 [==============================] - 0s 79us/sample - loss: 0.5482 - val_loss: 0.5816\n",
      "Epoch 84/600\n",
      "546/546 [==============================] - 0s 77us/sample - loss: 0.5484 - val_loss: 0.5801\n",
      "Epoch 85/600\n",
      "546/546 [==============================] - 0s 77us/sample - loss: 0.5499 - val_loss: 0.5789\n",
      "Epoch 86/600\n",
      "546/546 [==============================] - 0s 80us/sample - loss: 0.5422 - val_loss: 0.5790\n",
      "Epoch 87/600\n",
      "546/546 [==============================] - 0s 77us/sample - loss: 0.5399 - val_loss: 0.5783\n",
      "Epoch 88/600\n",
      "546/546 [==============================] - 0s 73us/sample - loss: 0.5515 - val_loss: 0.5775\n",
      "Epoch 89/600\n",
      "546/546 [==============================] - 0s 80us/sample - loss: 0.5658 - val_loss: 0.5771\n",
      "Epoch 90/600\n",
      "546/546 [==============================] - 0s 79us/sample - loss: 0.5694 - val_loss: 0.5772\n",
      "Epoch 91/600\n",
      "546/546 [==============================] - 0s 75us/sample - loss: 0.5470 - val_loss: 0.5766\n",
      "Epoch 92/600\n",
      "546/546 [==============================] - 0s 77us/sample - loss: 0.5514 - val_loss: 0.5761\n",
      "Epoch 93/600\n",
      "546/546 [==============================] - 0s 84us/sample - loss: 0.5610 - val_loss: 0.5758\n",
      "Epoch 94/600\n",
      "546/546 [==============================] - 0s 75us/sample - loss: 0.5425 - val_loss: 0.5749\n",
      "Epoch 95/600\n",
      "546/546 [==============================] - 0s 75us/sample - loss: 0.5387 - val_loss: 0.5777\n",
      "Epoch 96/600\n",
      "546/546 [==============================] - 0s 80us/sample - loss: 0.5368 - val_loss: 0.5772\n",
      "Epoch 97/600\n",
      "546/546 [==============================] - 0s 86us/sample - loss: 0.5412 - val_loss: 0.5754\n",
      "Epoch 98/600\n",
      "546/546 [==============================] - 0s 77us/sample - loss: 0.5454 - val_loss: 0.5751\n",
      "Epoch 99/600\n",
      "546/546 [==============================] - 0s 77us/sample - loss: 0.5313 - val_loss: 0.5748\n",
      "Epoch 100/600\n",
      "546/546 [==============================] - 0s 77us/sample - loss: 0.5599 - val_loss: 0.5731\n",
      "Epoch 101/600\n",
      "546/546 [==============================] - 0s 75us/sample - loss: 0.5377 - val_loss: 0.5737\n",
      "Epoch 102/600\n",
      "546/546 [==============================] - 0s 80us/sample - loss: 0.5468 - val_loss: 0.5735\n",
      "Epoch 103/600\n",
      "546/546 [==============================] - 0s 77us/sample - loss: 0.5448 - val_loss: 0.5723\n",
      "Epoch 104/600\n",
      "546/546 [==============================] - 0s 82us/sample - loss: 0.5526 - val_loss: 0.5713\n",
      "Epoch 105/600\n",
      "546/546 [==============================] - 0s 80us/sample - loss: 0.5425 - val_loss: 0.5716\n",
      "Epoch 106/600\n",
      "546/546 [==============================] - 0s 71us/sample - loss: 0.5526 - val_loss: 0.5708\n",
      "Epoch 107/600\n",
      "546/546 [==============================] - 0s 79us/sample - loss: 0.5324 - val_loss: 0.5695\n",
      "Epoch 108/600\n",
      "546/546 [==============================] - 0s 75us/sample - loss: 0.5403 - val_loss: 0.5684\n",
      "Epoch 109/600\n",
      "546/546 [==============================] - 0s 84us/sample - loss: 0.5494 - val_loss: 0.5676\n",
      "Epoch 110/600\n",
      "546/546 [==============================] - 0s 79us/sample - loss: 0.5339 - val_loss: 0.5686\n",
      "Epoch 111/600\n",
      "546/546 [==============================] - 0s 77us/sample - loss: 0.5261 - val_loss: 0.5686\n",
      "Epoch 112/600\n",
      "546/546 [==============================] - 0s 79us/sample - loss: 0.5409 - val_loss: 0.5680\n",
      "Epoch 113/600\n",
      "546/546 [==============================] - 0s 75us/sample - loss: 0.5342 - val_loss: 0.5664\n",
      "Epoch 114/600\n",
      "546/546 [==============================] - 0s 80us/sample - loss: 0.5446 - val_loss: 0.5657\n",
      "Epoch 115/600\n",
      "546/546 [==============================] - 0s 80us/sample - loss: 0.5472 - val_loss: 0.5666\n",
      "Epoch 116/600\n",
      "546/546 [==============================] - 0s 84us/sample - loss: 0.5452 - val_loss: 0.5681\n",
      "Epoch 117/600\n",
      "546/546 [==============================] - 0s 77us/sample - loss: 0.5491 - val_loss: 0.5674\n",
      "Epoch 118/600\n",
      "546/546 [==============================] - 0s 79us/sample - loss: 0.5389 - val_loss: 0.5658\n",
      "Epoch 119/600\n",
      "546/546 [==============================] - 0s 82us/sample - loss: 0.5277 - val_loss: 0.5651\n",
      "Epoch 120/600\n",
      "546/546 [==============================] - 0s 75us/sample - loss: 0.5282 - val_loss: 0.5650\n",
      "Epoch 121/600\n",
      "546/546 [==============================] - 0s 77us/sample - loss: 0.5222 - val_loss: 0.5646\n",
      "Epoch 122/600\n",
      "546/546 [==============================] - 0s 77us/sample - loss: 0.5216 - val_loss: 0.5649\n",
      "Epoch 123/600\n",
      "546/546 [==============================] - 0s 82us/sample - loss: 0.5531 - val_loss: 0.5659\n",
      "Epoch 124/600\n",
      "546/546 [==============================] - 0s 84us/sample - loss: 0.5371 - val_loss: 0.5628\n",
      "Epoch 125/600\n",
      "546/546 [==============================] - 0s 77us/sample - loss: 0.5361 - val_loss: 0.5623\n",
      "Epoch 126/600\n",
      "546/546 [==============================] - 0s 79us/sample - loss: 0.5296 - val_loss: 0.5627\n",
      "Epoch 127/600\n",
      "546/546 [==============================] - 0s 80us/sample - loss: 0.5351 - val_loss: 0.5642\n",
      "Epoch 128/600\n",
      "546/546 [==============================] - 0s 75us/sample - loss: 0.5352 - val_loss: 0.5654\n",
      "Epoch 129/600\n",
      "546/546 [==============================] - 0s 77us/sample - loss: 0.5317 - val_loss: 0.5650\n",
      "Epoch 130/600\n",
      "546/546 [==============================] - 0s 79us/sample - loss: 0.5343 - val_loss: 0.5650\n",
      "Epoch 131/600\n",
      "546/546 [==============================] - 0s 79us/sample - loss: 0.5596 - val_loss: 0.5625\n",
      "Epoch 132/600\n",
      "546/546 [==============================] - 0s 84us/sample - loss: 0.5310 - val_loss: 0.5617\n",
      "Epoch 133/600\n",
      "546/546 [==============================] - 0s 82us/sample - loss: 0.5402 - val_loss: 0.5614\n",
      "Epoch 134/600\n",
      "546/546 [==============================] - 0s 84us/sample - loss: 0.5317 - val_loss: 0.5611\n",
      "Epoch 135/600\n",
      "546/546 [==============================] - 0s 79us/sample - loss: 0.5288 - val_loss: 0.5604\n",
      "Epoch 136/600\n",
      "546/546 [==============================] - 0s 79us/sample - loss: 0.5336 - val_loss: 0.5601\n",
      "Epoch 137/600\n",
      "546/546 [==============================] - 0s 77us/sample - loss: 0.5261 - val_loss: 0.5594\n",
      "Epoch 138/600\n",
      "546/546 [==============================] - 0s 82us/sample - loss: 0.5398 - val_loss: 0.5596\n",
      "Epoch 139/600\n",
      "546/546 [==============================] - 0s 80us/sample - loss: 0.5305 - val_loss: 0.5602\n",
      "Epoch 140/600\n",
      "546/546 [==============================] - 0s 86us/sample - loss: 0.5119 - val_loss: 0.5599\n",
      "Epoch 141/600\n",
      "546/546 [==============================] - 0s 88us/sample - loss: 0.5243 - val_loss: 0.5600\n",
      "Epoch 142/600\n",
      "546/546 [==============================] - 0s 79us/sample - loss: 0.5186 - val_loss: 0.5594\n",
      "Epoch 143/600\n",
      "546/546 [==============================] - 0s 86us/sample - loss: 0.5189 - val_loss: 0.5587\n",
      "Epoch 144/600\n",
      "546/546 [==============================] - 0s 79us/sample - loss: 0.5297 - val_loss: 0.5586\n",
      "Epoch 145/600\n",
      "546/546 [==============================] - 0s 80us/sample - loss: 0.5270 - val_loss: 0.5588\n",
      "Epoch 146/600\n",
      "546/546 [==============================] - 0s 77us/sample - loss: 0.5179 - val_loss: 0.5582\n",
      "Epoch 147/600\n",
      "546/546 [==============================] - 0s 79us/sample - loss: 0.5232 - val_loss: 0.5574\n",
      "Epoch 148/600\n",
      "546/546 [==============================] - 0s 79us/sample - loss: 0.5167 - val_loss: 0.5577\n",
      "Epoch 149/600\n",
      "546/546 [==============================] - 0s 79us/sample - loss: 0.5255 - val_loss: 0.5573\n",
      "Epoch 150/600\n",
      "546/546 [==============================] - 0s 73us/sample - loss: 0.5270 - val_loss: 0.5566\n",
      "Epoch 151/600\n",
      "546/546 [==============================] - 0s 80us/sample - loss: 0.5131 - val_loss: 0.5577\n",
      "Epoch 152/600\n",
      "546/546 [==============================] - 0s 91us/sample - loss: 0.5444 - val_loss: 0.5571\n",
      "Epoch 153/600\n",
      "546/546 [==============================] - 0s 80us/sample - loss: 0.5230 - val_loss: 0.5575\n",
      "Epoch 154/600\n",
      "546/546 [==============================] - 0s 77us/sample - loss: 0.5264 - val_loss: 0.5572\n",
      "Epoch 155/600\n"
     ]
    },
    {
     "name": "stdout",
     "output_type": "stream",
     "text": [
      "546/546 [==============================] - 0s 80us/sample - loss: 0.5236 - val_loss: 0.5553\n",
      "Epoch 156/600\n",
      "546/546 [==============================] - 0s 79us/sample - loss: 0.5124 - val_loss: 0.5545\n",
      "Epoch 157/600\n",
      "546/546 [==============================] - 0s 77us/sample - loss: 0.5216 - val_loss: 0.5550\n",
      "Epoch 158/600\n",
      "546/546 [==============================] - 0s 77us/sample - loss: 0.5170 - val_loss: 0.5550\n",
      "Epoch 159/600\n",
      "546/546 [==============================] - 0s 77us/sample - loss: 0.5238 - val_loss: 0.5546\n",
      "Epoch 160/600\n",
      "546/546 [==============================] - 0s 73us/sample - loss: 0.5044 - val_loss: 0.5547\n",
      "Epoch 161/600\n",
      "546/546 [==============================] - 0s 77us/sample - loss: 0.5109 - val_loss: 0.5545\n",
      "Epoch 162/600\n",
      "546/546 [==============================] - 0s 77us/sample - loss: 0.5297 - val_loss: 0.5541\n",
      "Epoch 163/600\n",
      "546/546 [==============================] - 0s 80us/sample - loss: 0.5245 - val_loss: 0.5541\n",
      "Epoch 164/600\n",
      "546/546 [==============================] - 0s 75us/sample - loss: 0.5385 - val_loss: 0.5540\n",
      "Epoch 165/600\n",
      "546/546 [==============================] - 0s 71us/sample - loss: 0.5080 - val_loss: 0.5545\n",
      "Epoch 166/600\n",
      "546/546 [==============================] - 0s 75us/sample - loss: 0.5249 - val_loss: 0.5563\n",
      "Epoch 167/600\n",
      "546/546 [==============================] - 0s 77us/sample - loss: 0.5210 - val_loss: 0.5572\n",
      "Epoch 168/600\n",
      "546/546 [==============================] - 0s 75us/sample - loss: 0.5239 - val_loss: 0.5575\n",
      "Epoch 169/600\n",
      "546/546 [==============================] - 0s 77us/sample - loss: 0.5065 - val_loss: 0.5545\n",
      "Epoch 170/600\n",
      "546/546 [==============================] - 0s 80us/sample - loss: 0.5365 - val_loss: 0.5538\n",
      "Epoch 171/600\n",
      "546/546 [==============================] - 0s 71us/sample - loss: 0.5253 - val_loss: 0.5536\n",
      "Epoch 172/600\n",
      "546/546 [==============================] - 0s 75us/sample - loss: 0.5293 - val_loss: 0.5546\n",
      "Epoch 173/600\n",
      "546/546 [==============================] - 0s 77us/sample - loss: 0.5144 - val_loss: 0.5554\n",
      "Epoch 174/600\n",
      "546/546 [==============================] - 0s 80us/sample - loss: 0.5226 - val_loss: 0.5561\n",
      "Epoch 175/600\n",
      "546/546 [==============================] - 0s 75us/sample - loss: 0.5211 - val_loss: 0.5558\n",
      "Epoch 176/600\n",
      "546/546 [==============================] - 0s 75us/sample - loss: 0.5282 - val_loss: 0.5545\n",
      "Epoch 177/600\n",
      "546/546 [==============================] - 0s 79us/sample - loss: 0.5391 - val_loss: 0.5531\n",
      "Epoch 178/600\n",
      "546/546 [==============================] - 0s 75us/sample - loss: 0.5167 - val_loss: 0.5530\n",
      "Epoch 179/600\n",
      "546/546 [==============================] - 0s 79us/sample - loss: 0.5209 - val_loss: 0.5534\n",
      "Epoch 180/600\n",
      "546/546 [==============================] - 0s 79us/sample - loss: 0.5049 - val_loss: 0.5535\n",
      "Epoch 181/600\n",
      "546/546 [==============================] - 0s 80us/sample - loss: 0.5059 - val_loss: 0.5546\n",
      "Epoch 182/600\n",
      "546/546 [==============================] - 0s 73us/sample - loss: 0.5141 - val_loss: 0.5542\n",
      "Epoch 183/600\n",
      "546/546 [==============================] - 0s 75us/sample - loss: 0.5172 - val_loss: 0.5525\n",
      "Epoch 184/600\n",
      "546/546 [==============================] - 0s 79us/sample - loss: 0.5030 - val_loss: 0.5530\n",
      "Epoch 185/600\n",
      "546/546 [==============================] - 0s 75us/sample - loss: 0.5076 - val_loss: 0.5526\n",
      "Epoch 186/600\n",
      "546/546 [==============================] - 0s 80us/sample - loss: 0.5040 - val_loss: 0.5522\n",
      "Epoch 187/600\n",
      "546/546 [==============================] - 0s 82us/sample - loss: 0.5269 - val_loss: 0.5522\n",
      "Epoch 188/600\n",
      "546/546 [==============================] - 0s 73us/sample - loss: 0.5250 - val_loss: 0.5534\n",
      "Epoch 189/600\n",
      "546/546 [==============================] - 0s 79us/sample - loss: 0.5341 - val_loss: 0.5544\n",
      "Epoch 190/600\n",
      "546/546 [==============================] - 0s 82us/sample - loss: 0.5091 - val_loss: 0.5523\n",
      "Epoch 191/600\n",
      "546/546 [==============================] - 0s 80us/sample - loss: 0.5111 - val_loss: 0.5501\n",
      "Epoch 192/600\n",
      "546/546 [==============================] - 0s 77us/sample - loss: 0.5193 - val_loss: 0.5501\n",
      "Epoch 193/600\n",
      "546/546 [==============================] - 0s 79us/sample - loss: 0.5146 - val_loss: 0.5505\n",
      "Epoch 194/600\n",
      "546/546 [==============================] - 0s 80us/sample - loss: 0.4977 - val_loss: 0.5526\n",
      "Epoch 195/600\n",
      "546/546 [==============================] - 0s 75us/sample - loss: 0.5217 - val_loss: 0.5515\n",
      "Epoch 196/600\n",
      "546/546 [==============================] - 0s 77us/sample - loss: 0.5143 - val_loss: 0.5498\n",
      "Epoch 197/600\n",
      "546/546 [==============================] - 0s 73us/sample - loss: 0.5141 - val_loss: 0.5494\n",
      "Epoch 198/600\n",
      "546/546 [==============================] - 0s 80us/sample - loss: 0.5158 - val_loss: 0.5493\n",
      "Epoch 199/600\n",
      "546/546 [==============================] - 0s 77us/sample - loss: 0.5090 - val_loss: 0.5494\n",
      "Epoch 200/600\n",
      "546/546 [==============================] - 0s 79us/sample - loss: 0.5177 - val_loss: 0.5497\n",
      "Epoch 201/600\n",
      "546/546 [==============================] - 0s 73us/sample - loss: 0.5026 - val_loss: 0.5496\n",
      "Epoch 202/600\n",
      "546/546 [==============================] - 0s 79us/sample - loss: 0.5068 - val_loss: 0.5495\n",
      "Epoch 203/600\n",
      "546/546 [==============================] - 0s 80us/sample - loss: 0.5338 - val_loss: 0.5489\n",
      "Epoch 204/600\n",
      "546/546 [==============================] - 0s 73us/sample - loss: 0.5154 - val_loss: 0.5493\n",
      "Epoch 205/600\n",
      "546/546 [==============================] - 0s 77us/sample - loss: 0.5035 - val_loss: 0.5496\n",
      "Epoch 206/600\n",
      "546/546 [==============================] - 0s 80us/sample - loss: 0.5056 - val_loss: 0.5484\n",
      "Epoch 207/600\n",
      "546/546 [==============================] - 0s 80us/sample - loss: 0.5151 - val_loss: 0.5485\n",
      "Epoch 208/600\n",
      "546/546 [==============================] - 0s 77us/sample - loss: 0.5058 - val_loss: 0.5499\n",
      "Epoch 209/600\n",
      "546/546 [==============================] - 0s 79us/sample - loss: 0.5184 - val_loss: 0.5499\n",
      "Epoch 210/600\n",
      "546/546 [==============================] - 0s 73us/sample - loss: 0.5126 - val_loss: 0.5494\n",
      "Epoch 211/600\n",
      "546/546 [==============================] - 0s 77us/sample - loss: 0.5099 - val_loss: 0.5485\n",
      "Epoch 212/600\n",
      "546/546 [==============================] - 0s 77us/sample - loss: 0.5159 - val_loss: 0.5504\n",
      "Epoch 213/600\n",
      "546/546 [==============================] - 0s 84us/sample - loss: 0.4969 - val_loss: 0.5505\n",
      "Epoch 214/600\n",
      "546/546 [==============================] - 0s 79us/sample - loss: 0.5071 - val_loss: 0.5490\n",
      "Epoch 215/600\n",
      "546/546 [==============================] - 0s 75us/sample - loss: 0.4949 - val_loss: 0.5486\n",
      "Epoch 216/600\n",
      "546/546 [==============================] - 0s 84us/sample - loss: 0.5063 - val_loss: 0.5486\n"
     ]
    },
    {
     "data": {
      "text/plain": [
       "<tensorflow.python.keras.callbacks.History at 0x1ba41c3c208>"
      ]
     },
     "execution_count": 373,
     "metadata": {},
     "output_type": "execute_result"
    }
   ],
   "source": [
    "model.fit(x=X_train, \n",
    "          y=y_train, \n",
    "          epochs=600,\n",
    "          validation_data=(X_test, y_test),\n",
    "          verbose=1,\n",
    "          callbacks=[early_stop]\n",
    "         )"
   ]
  },
  {
   "cell_type": "code",
   "execution_count": 374,
   "metadata": {},
   "outputs": [
    {
     "data": {
      "text/plain": [
       "<matplotlib.axes._subplots.AxesSubplot at 0x1ba41fa4978>"
      ]
     },
     "execution_count": 374,
     "metadata": {},
     "output_type": "execute_result"
    },
    {
     "data": {
      "image/png": "[encoded data removed]",
      "text/plain": [
       "<Figure size 432x288 with 1 Axes>"
      ]
     },
     "metadata": {
      "needs_background": "light"
     },
     "output_type": "display_data"
    }
   ],
   "source": [
    "model_loss = pd.DataFrame(model.history.history)\n",
    "model_loss.plot()"
   ]
  },
  {
   "cell_type": "markdown",
   "metadata": {},
   "source": [
    "Eval"
   ]
  },
  {
   "cell_type": "code",
   "execution_count": 375,
   "metadata": {},
   "outputs": [],
   "source": [
    "predictions = model.predict_classes(X_test)"
   ]
  },
  {
   "cell_type": "code",
   "execution_count": 376,
   "metadata": {},
   "outputs": [
    {
     "name": "stdout",
     "output_type": "stream",
     "text": [
      "              precision    recall  f1-score   support\n",
      "\n",
      "           0       0.76      0.88      0.81       112\n",
      "           1       0.74      0.56      0.63        70\n",
      "\n",
      "    accuracy                           0.75       182\n",
      "   macro avg       0.75      0.72      0.72       182\n",
      "weighted avg       0.75      0.75      0.74       182\n",
      "\n"
     ]
    }
   ],
   "source": [
    "from sklearn.metrics import classification_report\n",
    "print(classification_report(y_test,predictions))"
   ]
  }
 ],
 "metadata": {
  "kernelspec": {
   "display_name": "Python 3",
   "language": "python",
   "name": "python3"
  },
  "language_info": {
   "codemirror_mode": {
    "name": "ipython",
    "version": 3
   },
   "file_extension": ".py",
   "mimetype": "text/x-python",
   "name": "python",
   "nbconvert_exporter": "python",
   "pygments_lexer": "ipython3",
   "version": "3.6.9"
  }
 },
 "nbformat": 4,
 "nbformat_minor": 2
}
